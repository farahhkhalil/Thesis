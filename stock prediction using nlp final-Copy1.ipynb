{
 "cells": [
  {
   "cell_type": "code",
   "execution_count": 1,
   "id": "772c69ae",
   "metadata": {},
   "outputs": [],
   "source": [
    "import pandas as pd\n",
    "import requests\n",
    "import pandas as pd\n",
    "import numpy as np\n",
    "import matplotlib.pyplot as plt\n",
    "import seaborn as sns\n",
    "from datetime import datetime, timedelta\n",
    "from statsmodels.graphics.tsaplots import plot_acf, plot_pacf\n",
    "from statsmodels.tsa.arima_model import ARIMA\n",
    "from tqdm import tqdm\n",
    "from mpl_toolkits.mplot3d import Axes3D\n",
    "from sklearn.preprocessing import StandardScaler\n",
    "import matplotlib.pyplot as plt \n",
    "from scipy.stats import pearsonr\n",
    "import plotly.express as px\n",
    "from statsmodels.tsa.statespace.sarimax import SARIMAX\n",
    "from sklearn.metrics import mean_squared_error\n",
    "import matplotlib.pyplot as plt"
   ]
  },
  {
   "cell_type": "code",
   "execution_count": 182,
   "id": "5d88d984",
   "metadata": {},
   "outputs": [
    {
     "data": {
      "text/plain": [
       "Date        221\n",
       "EGX_SENT    221\n",
       "dtype: int64"
      ]
     },
     "execution_count": 182,
     "metadata": {},
     "output_type": "execute_result"
    }
   ],
   "source": [
    "egx = pd.read_csv('egxsentiment.csv').drop(columns = ['Unnamed: 0','News']).rename(columns = {'Sentiment':'EGX_SENT'})\n",
    "egx.count()"
   ]
  },
  {
   "cell_type": "code",
   "execution_count": 183,
   "id": "dfba1e4d",
   "metadata": {},
   "outputs": [
    {
     "data": {
      "text/plain": [
       "Date        450\n",
       "INV_SENT    299\n",
       "dtype: int64"
      ]
     },
     "execution_count": 183,
     "metadata": {},
     "output_type": "execute_result"
    }
   ],
   "source": [
    "inv = pd.read_csv('investmentsentiment.csv').drop(columns = ['Unnamed: 0','News']).rename(columns = {'sentiment':'INV_SENT'})\n",
    "inv.count()"
   ]
  },
  {
   "cell_type": "code",
   "execution_count": 184,
   "id": "be5c319f",
   "metadata": {},
   "outputs": [],
   "source": [
    "stock = pd.read_csv('EGX 30 Historical Data final.csv').rename(columns = {'Change %':'Change'})"
   ]
  },
  {
   "cell_type": "code",
   "execution_count": 185,
   "id": "c0002072",
   "metadata": {},
   "outputs": [
    {
     "data": {
      "text/html": [
       "<div>\n",
       "<style scoped>\n",
       "    .dataframe tbody tr th:only-of-type {\n",
       "        vertical-align: middle;\n",
       "    }\n",
       "\n",
       "    .dataframe tbody tr th {\n",
       "        vertical-align: top;\n",
       "    }\n",
       "\n",
       "    .dataframe thead th {\n",
       "        text-align: right;\n",
       "    }\n",
       "</style>\n",
       "<table border=\"1\" class=\"dataframe\">\n",
       "  <thead>\n",
       "    <tr style=\"text-align: right;\">\n",
       "      <th></th>\n",
       "      <th>Date</th>\n",
       "      <th>Price</th>\n",
       "      <th>Open</th>\n",
       "      <th>High</th>\n",
       "      <th>Low</th>\n",
       "      <th>Vol.</th>\n",
       "      <th>Change</th>\n",
       "      <th>change_percentage</th>\n",
       "    </tr>\n",
       "  </thead>\n",
       "  <tbody>\n",
       "    <tr>\n",
       "      <th>0</th>\n",
       "      <td>03/26/2024</td>\n",
       "      <td>29,057.50</td>\n",
       "      <td>31,013.88</td>\n",
       "      <td>29,532.31</td>\n",
       "      <td>28,997.13</td>\n",
       "      <td>211.16M</td>\n",
       "      <td>-0.98%</td>\n",
       "      <td>0</td>\n",
       "    </tr>\n",
       "    <tr>\n",
       "      <th>1</th>\n",
       "      <td>03/25/2024</td>\n",
       "      <td>29,344.46</td>\n",
       "      <td>31,013.88</td>\n",
       "      <td>29,344.46</td>\n",
       "      <td>28,946.14</td>\n",
       "      <td>1.19M</td>\n",
       "      <td>0.98%</td>\n",
       "      <td>1</td>\n",
       "    </tr>\n",
       "    <tr>\n",
       "      <th>2</th>\n",
       "      <td>03/24/2024</td>\n",
       "      <td>29,060.02</td>\n",
       "      <td>31,013.88</td>\n",
       "      <td>29,377.43</td>\n",
       "      <td>28,777.22</td>\n",
       "      <td>1.75M</td>\n",
       "      <td>0.02%</td>\n",
       "      <td>1</td>\n",
       "    </tr>\n",
       "    <tr>\n",
       "      <th>3</th>\n",
       "      <td>03/21/2024</td>\n",
       "      <td>29,054.96</td>\n",
       "      <td>31,013.88</td>\n",
       "      <td>29,094.10</td>\n",
       "      <td>28,280.76</td>\n",
       "      <td>2.80M</td>\n",
       "      <td>1.63%</td>\n",
       "      <td>1</td>\n",
       "    </tr>\n",
       "    <tr>\n",
       "      <th>4</th>\n",
       "      <td>03/20/2024</td>\n",
       "      <td>28,589.37</td>\n",
       "      <td>28,675.70</td>\n",
       "      <td>29,229.67</td>\n",
       "      <td>28,542.99</td>\n",
       "      <td>177.70M</td>\n",
       "      <td>-0.30%</td>\n",
       "      <td>0</td>\n",
       "    </tr>\n",
       "  </tbody>\n",
       "</table>\n",
       "</div>"
      ],
      "text/plain": [
       "         Date      Price       Open       High        Low     Vol.  Change  \\\n",
       "0  03/26/2024  29,057.50  31,013.88  29,532.31  28,997.13  211.16M  -0.98%   \n",
       "1  03/25/2024  29,344.46  31,013.88  29,344.46  28,946.14    1.19M   0.98%   \n",
       "2  03/24/2024  29,060.02  31,013.88  29,377.43  28,777.22    1.75M   0.02%   \n",
       "3  03/21/2024  29,054.96  31,013.88  29,094.10  28,280.76    2.80M   1.63%   \n",
       "4  03/20/2024  28,589.37  28,675.70  29,229.67  28,542.99  177.70M  -0.30%   \n",
       "\n",
       "   change_percentage  \n",
       "0                  0  \n",
       "1                  1  \n",
       "2                  1  \n",
       "3                  1  \n",
       "4                  0  "
      ]
     },
     "execution_count": 185,
     "metadata": {},
     "output_type": "execute_result"
    }
   ],
   "source": [
    "stock.head()"
   ]
  },
  {
   "cell_type": "code",
   "execution_count": 186,
   "id": "82fd74db",
   "metadata": {},
   "outputs": [
    {
     "data": {
      "text/html": [
       "<div>\n",
       "<style scoped>\n",
       "    .dataframe tbody tr th:only-of-type {\n",
       "        vertical-align: middle;\n",
       "    }\n",
       "\n",
       "    .dataframe tbody tr th {\n",
       "        vertical-align: top;\n",
       "    }\n",
       "\n",
       "    .dataframe thead th {\n",
       "        text-align: right;\n",
       "    }\n",
       "</style>\n",
       "<table border=\"1\" class=\"dataframe\">\n",
       "  <thead>\n",
       "    <tr style=\"text-align: right;\">\n",
       "      <th></th>\n",
       "      <th>Date</th>\n",
       "      <th>Price</th>\n",
       "      <th>Open</th>\n",
       "      <th>High</th>\n",
       "      <th>Low</th>\n",
       "      <th>Vol.</th>\n",
       "      <th>Change</th>\n",
       "      <th>change_percentage</th>\n",
       "    </tr>\n",
       "  </thead>\n",
       "  <tbody>\n",
       "    <tr>\n",
       "      <th>0</th>\n",
       "      <td>2024-03-26</td>\n",
       "      <td>29,057.50</td>\n",
       "      <td>31,013.88</td>\n",
       "      <td>29,532.31</td>\n",
       "      <td>28,997.13</td>\n",
       "      <td>211.16M</td>\n",
       "      <td>-0.98%</td>\n",
       "      <td>0</td>\n",
       "    </tr>\n",
       "    <tr>\n",
       "      <th>1</th>\n",
       "      <td>2024-03-25</td>\n",
       "      <td>29,344.46</td>\n",
       "      <td>31,013.88</td>\n",
       "      <td>29,344.46</td>\n",
       "      <td>28,946.14</td>\n",
       "      <td>1.19M</td>\n",
       "      <td>0.98%</td>\n",
       "      <td>1</td>\n",
       "    </tr>\n",
       "    <tr>\n",
       "      <th>2</th>\n",
       "      <td>2024-03-24</td>\n",
       "      <td>29,060.02</td>\n",
       "      <td>31,013.88</td>\n",
       "      <td>29,377.43</td>\n",
       "      <td>28,777.22</td>\n",
       "      <td>1.75M</td>\n",
       "      <td>0.02%</td>\n",
       "      <td>1</td>\n",
       "    </tr>\n",
       "    <tr>\n",
       "      <th>3</th>\n",
       "      <td>2024-03-21</td>\n",
       "      <td>29,054.96</td>\n",
       "      <td>31,013.88</td>\n",
       "      <td>29,094.10</td>\n",
       "      <td>28,280.76</td>\n",
       "      <td>2.80M</td>\n",
       "      <td>1.63%</td>\n",
       "      <td>1</td>\n",
       "    </tr>\n",
       "    <tr>\n",
       "      <th>4</th>\n",
       "      <td>2024-03-20</td>\n",
       "      <td>28,589.37</td>\n",
       "      <td>28,675.70</td>\n",
       "      <td>29,229.67</td>\n",
       "      <td>28,542.99</td>\n",
       "      <td>177.70M</td>\n",
       "      <td>-0.30%</td>\n",
       "      <td>0</td>\n",
       "    </tr>\n",
       "  </tbody>\n",
       "</table>\n",
       "</div>"
      ],
      "text/plain": [
       "         Date      Price       Open       High        Low     Vol.  Change  \\\n",
       "0  2024-03-26  29,057.50  31,013.88  29,532.31  28,997.13  211.16M  -0.98%   \n",
       "1  2024-03-25  29,344.46  31,013.88  29,344.46  28,946.14    1.19M   0.98%   \n",
       "2  2024-03-24  29,060.02  31,013.88  29,377.43  28,777.22    1.75M   0.02%   \n",
       "3  2024-03-21  29,054.96  31,013.88  29,094.10  28,280.76    2.80M   1.63%   \n",
       "4  2024-03-20  28,589.37  28,675.70  29,229.67  28,542.99  177.70M  -0.30%   \n",
       "\n",
       "   change_percentage  \n",
       "0                  0  \n",
       "1                  1  \n",
       "2                  1  \n",
       "3                  1  \n",
       "4                  0  "
      ]
     },
     "execution_count": 186,
     "metadata": {},
     "output_type": "execute_result"
    }
   ],
   "source": [
    "stock['Date'] = pd.to_datetime(stock['Date'])\n",
    "stock['Date'] = stock['Date'].dt.strftime('%Y-%m-%d')\n",
    "\n",
    "egx['Date'] = pd.to_datetime(stock['Date'])\n",
    "egx['Date'] = egx['Date'].dt.strftime('%Y-%m-%d')\n",
    "\n",
    "inv['Date'] = pd.to_datetime(stock['Date']) \n",
    "inv['Date'] = inv['Date'].dt.strftime('%Y-%m-%d')\n",
    "stock.head()"
   ]
  },
  {
   "cell_type": "code",
   "execution_count": 187,
   "id": "dc519d1b",
   "metadata": {},
   "outputs": [
    {
     "data": {
      "text/html": [
       "<div>\n",
       "<style scoped>\n",
       "    .dataframe tbody tr th:only-of-type {\n",
       "        vertical-align: middle;\n",
       "    }\n",
       "\n",
       "    .dataframe tbody tr th {\n",
       "        vertical-align: top;\n",
       "    }\n",
       "\n",
       "    .dataframe thead th {\n",
       "        text-align: right;\n",
       "    }\n",
       "</style>\n",
       "<table border=\"1\" class=\"dataframe\">\n",
       "  <thead>\n",
       "    <tr style=\"text-align: right;\">\n",
       "      <th></th>\n",
       "      <th>Date</th>\n",
       "      <th>Price</th>\n",
       "      <th>Open</th>\n",
       "      <th>High</th>\n",
       "      <th>Low</th>\n",
       "      <th>Vol.</th>\n",
       "      <th>Change</th>\n",
       "      <th>change_percentage</th>\n",
       "      <th>EGX_SENT</th>\n",
       "      <th>INV_SENT</th>\n",
       "    </tr>\n",
       "  </thead>\n",
       "  <tbody>\n",
       "    <tr>\n",
       "      <th>0</th>\n",
       "      <td>2024-03-26</td>\n",
       "      <td>29,057.50</td>\n",
       "      <td>31,013.88</td>\n",
       "      <td>29,532.31</td>\n",
       "      <td>28,997.13</td>\n",
       "      <td>211.16M</td>\n",
       "      <td>-0.98%</td>\n",
       "      <td>0</td>\n",
       "      <td>negative</td>\n",
       "      <td>positive</td>\n",
       "    </tr>\n",
       "    <tr>\n",
       "      <th>1</th>\n",
       "      <td>2024-03-25</td>\n",
       "      <td>29,344.46</td>\n",
       "      <td>31,013.88</td>\n",
       "      <td>29,344.46</td>\n",
       "      <td>28,946.14</td>\n",
       "      <td>1.19M</td>\n",
       "      <td>0.98%</td>\n",
       "      <td>1</td>\n",
       "      <td>positive</td>\n",
       "      <td>positive</td>\n",
       "    </tr>\n",
       "    <tr>\n",
       "      <th>2</th>\n",
       "      <td>2024-03-24</td>\n",
       "      <td>29,060.02</td>\n",
       "      <td>31,013.88</td>\n",
       "      <td>29,377.43</td>\n",
       "      <td>28,777.22</td>\n",
       "      <td>1.75M</td>\n",
       "      <td>0.02%</td>\n",
       "      <td>1</td>\n",
       "      <td>negative</td>\n",
       "      <td>positive</td>\n",
       "    </tr>\n",
       "    <tr>\n",
       "      <th>3</th>\n",
       "      <td>2024-03-21</td>\n",
       "      <td>29,054.96</td>\n",
       "      <td>31,013.88</td>\n",
       "      <td>29,094.10</td>\n",
       "      <td>28,280.76</td>\n",
       "      <td>2.80M</td>\n",
       "      <td>1.63%</td>\n",
       "      <td>1</td>\n",
       "      <td>negative</td>\n",
       "      <td>positive</td>\n",
       "    </tr>\n",
       "    <tr>\n",
       "      <th>4</th>\n",
       "      <td>2024-03-20</td>\n",
       "      <td>28,589.37</td>\n",
       "      <td>28,675.70</td>\n",
       "      <td>29,229.67</td>\n",
       "      <td>28,542.99</td>\n",
       "      <td>177.70M</td>\n",
       "      <td>-0.30%</td>\n",
       "      <td>0</td>\n",
       "      <td>positive</td>\n",
       "      <td>neutral</td>\n",
       "    </tr>\n",
       "  </tbody>\n",
       "</table>\n",
       "</div>"
      ],
      "text/plain": [
       "         Date      Price       Open       High        Low     Vol.  Change  \\\n",
       "0  2024-03-26  29,057.50  31,013.88  29,532.31  28,997.13  211.16M  -0.98%   \n",
       "1  2024-03-25  29,344.46  31,013.88  29,344.46  28,946.14    1.19M   0.98%   \n",
       "2  2024-03-24  29,060.02  31,013.88  29,377.43  28,777.22    1.75M   0.02%   \n",
       "3  2024-03-21  29,054.96  31,013.88  29,094.10  28,280.76    2.80M   1.63%   \n",
       "4  2024-03-20  28,589.37  28,675.70  29,229.67  28,542.99  177.70M  -0.30%   \n",
       "\n",
       "   change_percentage  EGX_SENT  INV_SENT  \n",
       "0                  0  negative  positive  \n",
       "1                  1  positive  positive  \n",
       "2                  1  negative  positive  \n",
       "3                  1  negative  positive  \n",
       "4                  0  positive   neutral  "
      ]
     },
     "execution_count": 187,
     "metadata": {},
     "output_type": "execute_result"
    }
   ],
   "source": [
    "df = stock.merge(egx, on='Date', how='left')\n",
    "df = df.merge(inv, on='Date', how='left')\n",
    "df.head()"
   ]
  },
  {
   "cell_type": "code",
   "execution_count": 188,
   "id": "bc06e9fc",
   "metadata": {},
   "outputs": [],
   "source": [
    "df['EGX_SENT'] = df['EGX_SENT'].fillna('neutral')\n",
    "df['INV_SENT']= df['INV_SENT'].fillna('neutral')"
   ]
  },
  {
   "cell_type": "code",
   "execution_count": 189,
   "id": "26e28f1e",
   "metadata": {},
   "outputs": [
    {
     "data": {
      "text/html": [
       "<div>\n",
       "<style scoped>\n",
       "    .dataframe tbody tr th:only-of-type {\n",
       "        vertical-align: middle;\n",
       "    }\n",
       "\n",
       "    .dataframe tbody tr th {\n",
       "        vertical-align: top;\n",
       "    }\n",
       "\n",
       "    .dataframe thead th {\n",
       "        text-align: right;\n",
       "    }\n",
       "</style>\n",
       "<table border=\"1\" class=\"dataframe\">\n",
       "  <thead>\n",
       "    <tr style=\"text-align: right;\">\n",
       "      <th></th>\n",
       "      <th>Date</th>\n",
       "      <th>Price</th>\n",
       "      <th>Open</th>\n",
       "      <th>High</th>\n",
       "      <th>Low</th>\n",
       "      <th>Vol.</th>\n",
       "      <th>Change</th>\n",
       "      <th>change_percentage</th>\n",
       "      <th>EGX_SENT</th>\n",
       "      <th>INV_SENT</th>\n",
       "    </tr>\n",
       "  </thead>\n",
       "  <tbody>\n",
       "    <tr>\n",
       "      <th>0</th>\n",
       "      <td>2024-03-26</td>\n",
       "      <td>29057.50</td>\n",
       "      <td>31,013.88</td>\n",
       "      <td>29,532.31</td>\n",
       "      <td>28,997.13</td>\n",
       "      <td>211.16M</td>\n",
       "      <td>-0.98</td>\n",
       "      <td>0</td>\n",
       "      <td>negative</td>\n",
       "      <td>positive</td>\n",
       "    </tr>\n",
       "    <tr>\n",
       "      <th>1</th>\n",
       "      <td>2024-03-25</td>\n",
       "      <td>29344.46</td>\n",
       "      <td>31,013.88</td>\n",
       "      <td>29,344.46</td>\n",
       "      <td>28,946.14</td>\n",
       "      <td>1.19M</td>\n",
       "      <td>0.98</td>\n",
       "      <td>1</td>\n",
       "      <td>positive</td>\n",
       "      <td>positive</td>\n",
       "    </tr>\n",
       "    <tr>\n",
       "      <th>2</th>\n",
       "      <td>2024-03-24</td>\n",
       "      <td>29060.02</td>\n",
       "      <td>31,013.88</td>\n",
       "      <td>29,377.43</td>\n",
       "      <td>28,777.22</td>\n",
       "      <td>1.75M</td>\n",
       "      <td>0.02</td>\n",
       "      <td>1</td>\n",
       "      <td>negative</td>\n",
       "      <td>positive</td>\n",
       "    </tr>\n",
       "    <tr>\n",
       "      <th>3</th>\n",
       "      <td>2024-03-21</td>\n",
       "      <td>29054.96</td>\n",
       "      <td>31,013.88</td>\n",
       "      <td>29,094.10</td>\n",
       "      <td>28,280.76</td>\n",
       "      <td>2.80M</td>\n",
       "      <td>1.63</td>\n",
       "      <td>1</td>\n",
       "      <td>negative</td>\n",
       "      <td>positive</td>\n",
       "    </tr>\n",
       "    <tr>\n",
       "      <th>4</th>\n",
       "      <td>2024-03-20</td>\n",
       "      <td>28589.37</td>\n",
       "      <td>28,675.70</td>\n",
       "      <td>29,229.67</td>\n",
       "      <td>28,542.99</td>\n",
       "      <td>177.70M</td>\n",
       "      <td>-0.30</td>\n",
       "      <td>0</td>\n",
       "      <td>positive</td>\n",
       "      <td>neutral</td>\n",
       "    </tr>\n",
       "    <tr>\n",
       "      <th>...</th>\n",
       "      <td>...</td>\n",
       "      <td>...</td>\n",
       "      <td>...</td>\n",
       "      <td>...</td>\n",
       "      <td>...</td>\n",
       "      <td>...</td>\n",
       "      <td>...</td>\n",
       "      <td>...</td>\n",
       "      <td>...</td>\n",
       "      <td>...</td>\n",
       "    </tr>\n",
       "    <tr>\n",
       "      <th>540</th>\n",
       "      <td>2022-01-09</td>\n",
       "      <td>11978.56</td>\n",
       "      <td>12,043.42</td>\n",
       "      <td>12,044.78</td>\n",
       "      <td>11,958.61</td>\n",
       "      <td>59.66M</td>\n",
       "      <td>-0.54</td>\n",
       "      <td>0</td>\n",
       "      <td>neutral</td>\n",
       "      <td>neutral</td>\n",
       "    </tr>\n",
       "    <tr>\n",
       "      <th>541</th>\n",
       "      <td>2022-01-05</td>\n",
       "      <td>12043.42</td>\n",
       "      <td>11,982.61</td>\n",
       "      <td>12,069.23</td>\n",
       "      <td>11,980.87</td>\n",
       "      <td>144.60M</td>\n",
       "      <td>0.51</td>\n",
       "      <td>1</td>\n",
       "      <td>neutral</td>\n",
       "      <td>neutral</td>\n",
       "    </tr>\n",
       "    <tr>\n",
       "      <th>542</th>\n",
       "      <td>2022-01-04</td>\n",
       "      <td>11982.61</td>\n",
       "      <td>11,897.40</td>\n",
       "      <td>11,984.21</td>\n",
       "      <td>11,897.15</td>\n",
       "      <td>114.48M</td>\n",
       "      <td>0.72</td>\n",
       "      <td>1</td>\n",
       "      <td>neutral</td>\n",
       "      <td>neutral</td>\n",
       "    </tr>\n",
       "    <tr>\n",
       "      <th>543</th>\n",
       "      <td>2022-01-03</td>\n",
       "      <td>11897.40</td>\n",
       "      <td>11,909.72</td>\n",
       "      <td>11,916.04</td>\n",
       "      <td>11,870.47</td>\n",
       "      <td>79.32M</td>\n",
       "      <td>-0.10</td>\n",
       "      <td>0</td>\n",
       "      <td>neutral</td>\n",
       "      <td>neutral</td>\n",
       "    </tr>\n",
       "    <tr>\n",
       "      <th>544</th>\n",
       "      <td>2022-01-02</td>\n",
       "      <td>11909.72</td>\n",
       "      <td>11,949.18</td>\n",
       "      <td>12,017.57</td>\n",
       "      <td>11,908.09</td>\n",
       "      <td>69.38M</td>\n",
       "      <td>-0.33</td>\n",
       "      <td>0</td>\n",
       "      <td>neutral</td>\n",
       "      <td>neutral</td>\n",
       "    </tr>\n",
       "  </tbody>\n",
       "</table>\n",
       "<p>545 rows × 10 columns</p>\n",
       "</div>"
      ],
      "text/plain": [
       "           Date     Price       Open       High        Low     Vol.  Change  \\\n",
       "0    2024-03-26  29057.50  31,013.88  29,532.31  28,997.13  211.16M   -0.98   \n",
       "1    2024-03-25  29344.46  31,013.88  29,344.46  28,946.14    1.19M    0.98   \n",
       "2    2024-03-24  29060.02  31,013.88  29,377.43  28,777.22    1.75M    0.02   \n",
       "3    2024-03-21  29054.96  31,013.88  29,094.10  28,280.76    2.80M    1.63   \n",
       "4    2024-03-20  28589.37  28,675.70  29,229.67  28,542.99  177.70M   -0.30   \n",
       "..          ...       ...        ...        ...        ...      ...     ...   \n",
       "540  2022-01-09  11978.56  12,043.42  12,044.78  11,958.61   59.66M   -0.54   \n",
       "541  2022-01-05  12043.42  11,982.61  12,069.23  11,980.87  144.60M    0.51   \n",
       "542  2022-01-04  11982.61  11,897.40  11,984.21  11,897.15  114.48M    0.72   \n",
       "543  2022-01-03  11897.40  11,909.72  11,916.04  11,870.47   79.32M   -0.10   \n",
       "544  2022-01-02  11909.72  11,949.18  12,017.57  11,908.09   69.38M   -0.33   \n",
       "\n",
       "     change_percentage  EGX_SENT  INV_SENT  \n",
       "0                    0  negative  positive  \n",
       "1                    1  positive  positive  \n",
       "2                    1  negative  positive  \n",
       "3                    1  negative  positive  \n",
       "4                    0  positive   neutral  \n",
       "..                 ...       ...       ...  \n",
       "540                  0   neutral   neutral  \n",
       "541                  1   neutral   neutral  \n",
       "542                  1   neutral   neutral  \n",
       "543                  0   neutral   neutral  \n",
       "544                  0   neutral   neutral  \n",
       "\n",
       "[545 rows x 10 columns]"
      ]
     },
     "execution_count": 189,
     "metadata": {},
     "output_type": "execute_result"
    }
   ],
   "source": [
    "df['Change'] = df['Change'].str.replace('%', '').astype(float)\n",
    "df['Price'] =  df['Price'].str.replace(',','').astype(float)\n",
    "\n",
    "df"
   ]
  },
  {
   "cell_type": "code",
   "execution_count": 190,
   "id": "f8924e3b",
   "metadata": {},
   "outputs": [
    {
     "data": {
      "text/html": [
       "<div>\n",
       "<style scoped>\n",
       "    .dataframe tbody tr th:only-of-type {\n",
       "        vertical-align: middle;\n",
       "    }\n",
       "\n",
       "    .dataframe tbody tr th {\n",
       "        vertical-align: top;\n",
       "    }\n",
       "\n",
       "    .dataframe thead th {\n",
       "        text-align: right;\n",
       "    }\n",
       "</style>\n",
       "<table border=\"1\" class=\"dataframe\">\n",
       "  <thead>\n",
       "    <tr style=\"text-align: right;\">\n",
       "      <th></th>\n",
       "      <th>Date</th>\n",
       "      <th>Price</th>\n",
       "      <th>Open</th>\n",
       "      <th>High</th>\n",
       "      <th>Low</th>\n",
       "      <th>Vol.</th>\n",
       "      <th>Change</th>\n",
       "      <th>change_percentage</th>\n",
       "      <th>EGX_SENT</th>\n",
       "      <th>INV_SENT</th>\n",
       "    </tr>\n",
       "  </thead>\n",
       "  <tbody>\n",
       "    <tr>\n",
       "      <th>0</th>\n",
       "      <td>2024-03-26</td>\n",
       "      <td>29057.50</td>\n",
       "      <td>31,013.88</td>\n",
       "      <td>29,532.31</td>\n",
       "      <td>28,997.13</td>\n",
       "      <td>211.16M</td>\n",
       "      <td>-0.98</td>\n",
       "      <td>0</td>\n",
       "      <td>-1</td>\n",
       "      <td>1</td>\n",
       "    </tr>\n",
       "    <tr>\n",
       "      <th>1</th>\n",
       "      <td>2024-03-25</td>\n",
       "      <td>29344.46</td>\n",
       "      <td>31,013.88</td>\n",
       "      <td>29,344.46</td>\n",
       "      <td>28,946.14</td>\n",
       "      <td>1.19M</td>\n",
       "      <td>0.98</td>\n",
       "      <td>1</td>\n",
       "      <td>1</td>\n",
       "      <td>1</td>\n",
       "    </tr>\n",
       "    <tr>\n",
       "      <th>2</th>\n",
       "      <td>2024-03-24</td>\n",
       "      <td>29060.02</td>\n",
       "      <td>31,013.88</td>\n",
       "      <td>29,377.43</td>\n",
       "      <td>28,777.22</td>\n",
       "      <td>1.75M</td>\n",
       "      <td>0.02</td>\n",
       "      <td>1</td>\n",
       "      <td>-1</td>\n",
       "      <td>1</td>\n",
       "    </tr>\n",
       "    <tr>\n",
       "      <th>3</th>\n",
       "      <td>2024-03-21</td>\n",
       "      <td>29054.96</td>\n",
       "      <td>31,013.88</td>\n",
       "      <td>29,094.10</td>\n",
       "      <td>28,280.76</td>\n",
       "      <td>2.80M</td>\n",
       "      <td>1.63</td>\n",
       "      <td>1</td>\n",
       "      <td>-1</td>\n",
       "      <td>1</td>\n",
       "    </tr>\n",
       "    <tr>\n",
       "      <th>4</th>\n",
       "      <td>2024-03-20</td>\n",
       "      <td>28589.37</td>\n",
       "      <td>28,675.70</td>\n",
       "      <td>29,229.67</td>\n",
       "      <td>28,542.99</td>\n",
       "      <td>177.70M</td>\n",
       "      <td>-0.30</td>\n",
       "      <td>0</td>\n",
       "      <td>1</td>\n",
       "      <td>0</td>\n",
       "    </tr>\n",
       "    <tr>\n",
       "      <th>...</th>\n",
       "      <td>...</td>\n",
       "      <td>...</td>\n",
       "      <td>...</td>\n",
       "      <td>...</td>\n",
       "      <td>...</td>\n",
       "      <td>...</td>\n",
       "      <td>...</td>\n",
       "      <td>...</td>\n",
       "      <td>...</td>\n",
       "      <td>...</td>\n",
       "    </tr>\n",
       "    <tr>\n",
       "      <th>540</th>\n",
       "      <td>2022-01-09</td>\n",
       "      <td>11978.56</td>\n",
       "      <td>12,043.42</td>\n",
       "      <td>12,044.78</td>\n",
       "      <td>11,958.61</td>\n",
       "      <td>59.66M</td>\n",
       "      <td>-0.54</td>\n",
       "      <td>0</td>\n",
       "      <td>0</td>\n",
       "      <td>0</td>\n",
       "    </tr>\n",
       "    <tr>\n",
       "      <th>541</th>\n",
       "      <td>2022-01-05</td>\n",
       "      <td>12043.42</td>\n",
       "      <td>11,982.61</td>\n",
       "      <td>12,069.23</td>\n",
       "      <td>11,980.87</td>\n",
       "      <td>144.60M</td>\n",
       "      <td>0.51</td>\n",
       "      <td>1</td>\n",
       "      <td>0</td>\n",
       "      <td>0</td>\n",
       "    </tr>\n",
       "    <tr>\n",
       "      <th>542</th>\n",
       "      <td>2022-01-04</td>\n",
       "      <td>11982.61</td>\n",
       "      <td>11,897.40</td>\n",
       "      <td>11,984.21</td>\n",
       "      <td>11,897.15</td>\n",
       "      <td>114.48M</td>\n",
       "      <td>0.72</td>\n",
       "      <td>1</td>\n",
       "      <td>0</td>\n",
       "      <td>0</td>\n",
       "    </tr>\n",
       "    <tr>\n",
       "      <th>543</th>\n",
       "      <td>2022-01-03</td>\n",
       "      <td>11897.40</td>\n",
       "      <td>11,909.72</td>\n",
       "      <td>11,916.04</td>\n",
       "      <td>11,870.47</td>\n",
       "      <td>79.32M</td>\n",
       "      <td>-0.10</td>\n",
       "      <td>0</td>\n",
       "      <td>0</td>\n",
       "      <td>0</td>\n",
       "    </tr>\n",
       "    <tr>\n",
       "      <th>544</th>\n",
       "      <td>2022-01-02</td>\n",
       "      <td>11909.72</td>\n",
       "      <td>11,949.18</td>\n",
       "      <td>12,017.57</td>\n",
       "      <td>11,908.09</td>\n",
       "      <td>69.38M</td>\n",
       "      <td>-0.33</td>\n",
       "      <td>0</td>\n",
       "      <td>0</td>\n",
       "      <td>0</td>\n",
       "    </tr>\n",
       "  </tbody>\n",
       "</table>\n",
       "<p>545 rows × 10 columns</p>\n",
       "</div>"
      ],
      "text/plain": [
       "           Date     Price       Open       High        Low     Vol.  Change  \\\n",
       "0    2024-03-26  29057.50  31,013.88  29,532.31  28,997.13  211.16M   -0.98   \n",
       "1    2024-03-25  29344.46  31,013.88  29,344.46  28,946.14    1.19M    0.98   \n",
       "2    2024-03-24  29060.02  31,013.88  29,377.43  28,777.22    1.75M    0.02   \n",
       "3    2024-03-21  29054.96  31,013.88  29,094.10  28,280.76    2.80M    1.63   \n",
       "4    2024-03-20  28589.37  28,675.70  29,229.67  28,542.99  177.70M   -0.30   \n",
       "..          ...       ...        ...        ...        ...      ...     ...   \n",
       "540  2022-01-09  11978.56  12,043.42  12,044.78  11,958.61   59.66M   -0.54   \n",
       "541  2022-01-05  12043.42  11,982.61  12,069.23  11,980.87  144.60M    0.51   \n",
       "542  2022-01-04  11982.61  11,897.40  11,984.21  11,897.15  114.48M    0.72   \n",
       "543  2022-01-03  11897.40  11,909.72  11,916.04  11,870.47   79.32M   -0.10   \n",
       "544  2022-01-02  11909.72  11,949.18  12,017.57  11,908.09   69.38M   -0.33   \n",
       "\n",
       "     change_percentage  EGX_SENT  INV_SENT  \n",
       "0                    0        -1         1  \n",
       "1                    1         1         1  \n",
       "2                    1        -1         1  \n",
       "3                    1        -1         1  \n",
       "4                    0         1         0  \n",
       "..                 ...       ...       ...  \n",
       "540                  0         0         0  \n",
       "541                  1         0         0  \n",
       "542                  1         0         0  \n",
       "543                  0         0         0  \n",
       "544                  0         0         0  \n",
       "\n",
       "[545 rows x 10 columns]"
      ]
     },
     "execution_count": 190,
     "metadata": {},
     "output_type": "execute_result"
    }
   ],
   "source": [
    "sentiment_map={'positive':1, 'neutral':0, 'negative': -1}\n",
    "df['EGX_SENT'] = df['EGX_SENT'].map(sentiment_map)\n",
    "df['INV_SENT'] = df['INV_SENT'].map(sentiment_map)\n",
    "\n",
    "df"
   ]
  },
  {
   "cell_type": "code",
   "execution_count": 191,
   "id": "b90d061a",
   "metadata": {},
   "outputs": [],
   "source": [
    "df['EGX_SENT'] = df['EGX_SENT'].shift(-1)\n",
    "df['INV_SENT'] = df['INV_SENT'].shift(-1)\n",
    "\n",
    "df = df[['Date','Price','change_percentage','Change','EGX_SENT','INV_SENT']]"
   ]
  },
  {
   "cell_type": "code",
   "execution_count": 192,
   "id": "41d877b9",
   "metadata": {},
   "outputs": [
    {
     "data": {
      "text/html": [
       "<div>\n",
       "<style scoped>\n",
       "    .dataframe tbody tr th:only-of-type {\n",
       "        vertical-align: middle;\n",
       "    }\n",
       "\n",
       "    .dataframe tbody tr th {\n",
       "        vertical-align: top;\n",
       "    }\n",
       "\n",
       "    .dataframe thead th {\n",
       "        text-align: right;\n",
       "    }\n",
       "</style>\n",
       "<table border=\"1\" class=\"dataframe\">\n",
       "  <thead>\n",
       "    <tr style=\"text-align: right;\">\n",
       "      <th></th>\n",
       "      <th>Date</th>\n",
       "      <th>Price</th>\n",
       "      <th>change_percentage</th>\n",
       "      <th>Change</th>\n",
       "      <th>EGX_SENT</th>\n",
       "      <th>INV_SENT</th>\n",
       "    </tr>\n",
       "  </thead>\n",
       "  <tbody>\n",
       "    <tr>\n",
       "      <th>0</th>\n",
       "      <td>2024-03-26</td>\n",
       "      <td>29057.50</td>\n",
       "      <td>0</td>\n",
       "      <td>-0.98</td>\n",
       "      <td>1.0</td>\n",
       "      <td>1.0</td>\n",
       "    </tr>\n",
       "    <tr>\n",
       "      <th>1</th>\n",
       "      <td>2024-03-25</td>\n",
       "      <td>29344.46</td>\n",
       "      <td>1</td>\n",
       "      <td>0.98</td>\n",
       "      <td>-1.0</td>\n",
       "      <td>1.0</td>\n",
       "    </tr>\n",
       "    <tr>\n",
       "      <th>2</th>\n",
       "      <td>2024-03-24</td>\n",
       "      <td>29060.02</td>\n",
       "      <td>1</td>\n",
       "      <td>0.02</td>\n",
       "      <td>-1.0</td>\n",
       "      <td>1.0</td>\n",
       "    </tr>\n",
       "    <tr>\n",
       "      <th>3</th>\n",
       "      <td>2024-03-21</td>\n",
       "      <td>29054.96</td>\n",
       "      <td>1</td>\n",
       "      <td>1.63</td>\n",
       "      <td>1.0</td>\n",
       "      <td>0.0</td>\n",
       "    </tr>\n",
       "    <tr>\n",
       "      <th>4</th>\n",
       "      <td>2024-03-20</td>\n",
       "      <td>28589.37</td>\n",
       "      <td>0</td>\n",
       "      <td>-0.30</td>\n",
       "      <td>-1.0</td>\n",
       "      <td>-1.0</td>\n",
       "    </tr>\n",
       "    <tr>\n",
       "      <th>...</th>\n",
       "      <td>...</td>\n",
       "      <td>...</td>\n",
       "      <td>...</td>\n",
       "      <td>...</td>\n",
       "      <td>...</td>\n",
       "      <td>...</td>\n",
       "    </tr>\n",
       "    <tr>\n",
       "      <th>540</th>\n",
       "      <td>2022-01-09</td>\n",
       "      <td>11978.56</td>\n",
       "      <td>0</td>\n",
       "      <td>-0.54</td>\n",
       "      <td>0.0</td>\n",
       "      <td>0.0</td>\n",
       "    </tr>\n",
       "    <tr>\n",
       "      <th>541</th>\n",
       "      <td>2022-01-05</td>\n",
       "      <td>12043.42</td>\n",
       "      <td>1</td>\n",
       "      <td>0.51</td>\n",
       "      <td>0.0</td>\n",
       "      <td>0.0</td>\n",
       "    </tr>\n",
       "    <tr>\n",
       "      <th>542</th>\n",
       "      <td>2022-01-04</td>\n",
       "      <td>11982.61</td>\n",
       "      <td>1</td>\n",
       "      <td>0.72</td>\n",
       "      <td>0.0</td>\n",
       "      <td>0.0</td>\n",
       "    </tr>\n",
       "    <tr>\n",
       "      <th>543</th>\n",
       "      <td>2022-01-03</td>\n",
       "      <td>11897.40</td>\n",
       "      <td>0</td>\n",
       "      <td>-0.10</td>\n",
       "      <td>0.0</td>\n",
       "      <td>0.0</td>\n",
       "    </tr>\n",
       "    <tr>\n",
       "      <th>544</th>\n",
       "      <td>2022-01-02</td>\n",
       "      <td>11909.72</td>\n",
       "      <td>0</td>\n",
       "      <td>-0.33</td>\n",
       "      <td>NaN</td>\n",
       "      <td>NaN</td>\n",
       "    </tr>\n",
       "  </tbody>\n",
       "</table>\n",
       "<p>545 rows × 6 columns</p>\n",
       "</div>"
      ],
      "text/plain": [
       "           Date     Price  change_percentage  Change  EGX_SENT  INV_SENT\n",
       "0    2024-03-26  29057.50                  0   -0.98       1.0       1.0\n",
       "1    2024-03-25  29344.46                  1    0.98      -1.0       1.0\n",
       "2    2024-03-24  29060.02                  1    0.02      -1.0       1.0\n",
       "3    2024-03-21  29054.96                  1    1.63       1.0       0.0\n",
       "4    2024-03-20  28589.37                  0   -0.30      -1.0      -1.0\n",
       "..          ...       ...                ...     ...       ...       ...\n",
       "540  2022-01-09  11978.56                  0   -0.54       0.0       0.0\n",
       "541  2022-01-05  12043.42                  1    0.51       0.0       0.0\n",
       "542  2022-01-04  11982.61                  1    0.72       0.0       0.0\n",
       "543  2022-01-03  11897.40                  0   -0.10       0.0       0.0\n",
       "544  2022-01-02  11909.72                  0   -0.33       NaN       NaN\n",
       "\n",
       "[545 rows x 6 columns]"
      ]
     },
     "execution_count": 192,
     "metadata": {},
     "output_type": "execute_result"
    }
   ],
   "source": [
    "df"
   ]
  },
  {
   "cell_type": "code",
   "execution_count": 193,
   "id": "5c0514d0",
   "metadata": {},
   "outputs": [
    {
     "data": {
      "application/vnd.plotly.v1+json": {
       "config": {
        "plotlyServerURL": "https://plot.ly"
       },
       "data": [
        {
         "hovertemplate": "Date=%{x}<br>Change=%{y}<extra></extra>",
         "legendgroup": "",
         "line": {
          "color": "#636efa",
          "dash": "solid"
         },
         "marker": {
          "symbol": "circle"
         },
         "mode": "lines+markers",
         "name": "",
         "orientation": "v",
         "showlegend": false,
         "type": "scatter",
         "x": [
          "2024-03-26",
          "2024-03-25",
          "2024-03-24",
          "2024-03-21",
          "2024-03-20",
          "2024-03-19",
          "2024-03-18",
          "2024-03-17",
          "2024-03-14",
          "2024-03-13",
          "2024-03-12",
          "2024-03-11",
          "2024-03-10",
          "2024-03-07",
          "2024-03-06",
          "2024-03-05",
          "2024-03-04",
          "2024-03-03",
          "2024-02-29",
          "2024-02-28",
          "2024-02-27",
          "2024-02-26",
          "2024-02-25",
          "2024-02-22",
          "2024-02-21",
          "2024-02-20",
          "2024-02-19",
          "2024-02-18",
          "2024-02-15",
          "2024-02-14",
          "2024-02-13",
          "2024-02-12",
          "2024-02-11",
          "2024-02-08",
          "2024-02-07",
          "2024-02-06",
          "2024-02-05",
          "2024-02-04",
          "2024-02-01",
          "2024-01-31",
          "2024-01-30",
          "2024-01-29",
          "2024-01-28",
          "2024-01-24",
          "2024-01-23",
          "2024-01-22",
          "2024-01-21",
          "2024-01-18",
          "2024-01-17",
          "2024-01-16",
          "2024-01-15",
          "2024-01-14",
          "2024-01-11",
          "2024-01-10",
          "2024-01-09",
          "2024-01-08",
          "2024-01-04",
          "2024-01-03",
          "2024-01-02",
          "2023-12-31",
          "2023-12-28",
          "2023-12-27",
          "2023-12-26",
          "2023-12-25",
          "2023-12-24",
          "2023-12-21",
          "2023-12-20",
          "2023-12-19",
          "2023-12-18",
          "2023-12-17",
          "2023-12-14",
          "2023-12-13",
          "2023-12-12",
          "2023-12-11",
          "2023-12-10",
          "2023-12-07",
          "2023-12-06",
          "2023-12-05",
          "2023-12-04",
          "2023-12-03",
          "2023-11-30",
          "2023-11-29",
          "2023-11-28",
          "2023-11-27",
          "2023-11-26",
          "2023-11-23",
          "2023-11-22",
          "2023-11-21",
          "2023-11-20",
          "2023-11-19",
          "2023-11-16",
          "2023-11-15",
          "2023-11-14",
          "2023-11-13",
          "2023-11-12",
          "2023-11-09",
          "2023-11-08",
          "2023-11-07",
          "2023-11-06",
          "2023-11-05",
          "2023-11-02",
          "2023-11-01",
          "2023-10-31",
          "2023-10-30",
          "2023-10-29",
          "2023-10-26",
          "2023-10-25",
          "2023-10-24",
          "2023-10-23",
          "2023-10-22",
          "2023-10-19",
          "2023-10-18",
          "2023-10-17",
          "2023-10-16",
          "2023-10-15",
          "2023-10-12",
          "2023-10-11",
          "2023-10-10",
          "2023-10-09",
          "2023-10-08",
          "2023-10-04",
          "2023-10-03",
          "2023-10-02",
          "2023-10-01",
          "2023-09-27",
          "2023-09-26",
          "2023-09-25",
          "2023-09-24",
          "2023-09-21",
          "2023-09-20",
          "2023-09-19",
          "2023-09-18",
          "2023-09-17",
          "2023-09-14",
          "2023-09-13",
          "2023-09-12",
          "2023-09-11",
          "2023-09-10",
          "2023-09-07",
          "2023-09-06",
          "2023-09-05",
          "2023-09-04",
          "2023-09-03",
          "2023-08-31",
          "2023-08-30",
          "2023-08-29",
          "2023-08-28",
          "2023-08-27",
          "2023-08-24",
          "2023-08-23",
          "2023-08-22",
          "2023-08-21",
          "2023-08-20",
          "2023-08-17",
          "2023-08-16",
          "2023-08-15",
          "2023-08-14",
          "2023-08-13",
          "2023-08-10",
          "2023-08-09",
          "2023-08-08",
          "2023-08-07",
          "2023-08-06",
          "2023-08-03",
          "2023-08-02",
          "2023-08-01",
          "2023-07-31",
          "2023-07-30",
          "2023-07-27",
          "2023-07-26",
          "2023-07-25",
          "2023-07-24",
          "2023-07-19",
          "2023-07-18",
          "2023-07-17",
          "2023-07-16",
          "2023-07-13",
          "2023-07-12",
          "2023-07-11",
          "2023-07-10",
          "2023-07-09",
          "2023-07-06",
          "2023-07-05",
          "2023-07-04",
          "2023-06-26",
          "2023-06-25",
          "2023-06-22",
          "2023-06-21",
          "2023-06-20",
          "2023-06-19",
          "2023-06-18",
          "2023-06-15",
          "2023-06-14",
          "2023-06-13",
          "2023-06-12",
          "2023-06-11",
          "2023-06-08",
          "2023-06-07",
          "2023-06-06",
          "2023-06-05",
          "2023-06-04",
          "2023-06-01",
          "2023-05-31",
          "2023-05-30",
          "2023-05-29",
          "2023-05-28",
          "2023-05-25",
          "2023-05-24",
          "2023-05-23",
          "2023-05-22",
          "2023-05-21",
          "2023-05-18",
          "2023-05-17",
          "2023-05-16",
          "2023-05-15",
          "2023-05-14",
          "2023-05-11",
          "2023-05-10",
          "2023-05-09",
          "2023-05-08",
          "2023-05-07",
          "2023-05-03",
          "2023-05-02",
          "2023-05-01",
          "2023-04-30",
          "2023-04-27",
          "2023-04-26",
          "2023-04-19",
          "2023-04-18",
          "2023-04-13",
          "2023-04-12",
          "2023-04-11",
          "2023-04-10",
          "2023-04-09",
          "2023-04-06",
          "2023-04-05",
          "2023-04-04",
          "2023-04-03",
          "2023-04-02",
          "2023-03-30",
          "2023-03-29",
          "2023-03-28",
          "2023-03-27",
          "2023-03-26",
          "2023-03-23",
          "2023-03-22",
          "2023-03-21",
          "2023-03-20",
          "2023-03-19",
          "2023-03-16",
          "2023-03-15",
          "2023-03-14",
          "2023-03-13",
          "2023-03-12",
          "2023-03-09",
          "2023-03-08",
          "2023-03-07",
          "2023-03-06",
          "2023-03-05",
          "2023-03-02",
          "2023-03-01",
          "2023-02-28",
          "2023-02-27",
          "2023-02-26",
          "2023-02-23",
          "2023-02-22",
          "2023-02-21",
          "2023-02-20",
          "2023-02-19",
          "2023-02-16",
          "2023-02-15",
          "2023-02-14",
          "2023-02-13",
          "2023-02-12",
          "2023-02-09",
          "2023-02-08",
          "2023-02-07",
          "2023-02-06",
          "2023-02-05",
          "2023-02-02",
          "2023-02-01",
          "2023-01-31",
          "2023-01-30",
          "2023-01-29",
          "2023-01-25",
          "2023-01-24",
          "2023-01-23",
          "2023-01-22",
          "2023-01-19",
          "2023-01-18",
          "2023-01-17",
          "2023-01-16",
          "2023-01-15",
          "2023-01-12",
          "2023-01-11",
          "2023-01-10",
          "2023-01-09",
          "2023-01-05",
          "2023-01-04",
          "2023-01-03",
          "2023-01-02",
          "2022-12-29",
          "2022-12-28",
          "2022-12-27",
          "2022-12-26",
          "2022-12-25",
          "2022-12-22",
          "2022-12-21",
          "2022-12-20",
          "2022-12-19",
          "2022-12-18",
          "2022-12-15",
          "2022-12-14",
          "2022-12-13",
          "2022-12-12",
          "2022-12-11",
          "2022-12-08",
          "2022-12-07",
          "2022-12-06",
          "2022-12-05",
          "2022-12-04",
          "2022-12-01",
          "2022-11-30",
          "2022-11-29",
          "2022-11-28",
          "2022-11-27",
          "2022-11-24",
          "2022-11-23",
          "2022-11-22",
          "2022-11-21",
          "2022-11-20",
          "2022-11-17",
          "2022-11-16",
          "2022-11-15",
          "2022-11-14",
          "2022-11-13",
          "2022-11-10",
          "2022-11-09",
          "2022-11-08",
          "2022-11-07",
          "2022-11-06",
          "2022-11-03",
          "2022-11-02",
          "2022-11-01",
          "2022-10-31",
          "2022-10-30",
          "2022-10-27",
          "2022-10-26",
          "2022-10-25",
          "2022-10-24",
          "2022-10-23",
          "2022-10-20",
          "2022-10-19",
          "2022-10-18",
          "2022-10-17",
          "2022-10-16",
          "2022-10-13",
          "2022-10-12",
          "2022-10-11",
          "2022-10-10",
          "2022-10-09",
          "2022-10-05",
          "2022-10-04",
          "2022-10-03",
          "2022-10-02",
          "2022-09-29",
          "2022-09-28",
          "2022-09-27",
          "2022-09-26",
          "2022-09-25",
          "2022-09-22",
          "2022-09-21",
          "2022-09-20",
          "2022-09-19",
          "2022-09-18",
          "2022-09-15",
          "2022-09-14",
          "2022-09-13",
          "2022-09-12",
          "2022-09-11",
          "2022-09-08",
          "2022-09-07",
          "2022-09-06",
          "2022-09-05",
          "2022-09-04",
          "2022-09-01",
          "2022-08-31",
          "2022-08-30",
          "2022-08-29",
          "2022-08-28",
          "2022-08-25",
          "2022-08-24",
          "2022-08-23",
          "2022-08-22",
          "2022-08-21",
          "2022-08-18",
          "2022-08-17",
          "2022-08-16",
          "2022-08-15",
          "2022-08-14",
          "2022-08-11",
          "2022-08-10",
          "2022-08-09",
          "2022-08-08",
          "2022-08-07",
          "2022-08-04",
          "2022-08-03",
          "2022-08-02",
          "2022-08-01",
          "2022-07-31",
          "2022-07-28",
          "2022-07-27",
          "2022-07-26",
          "2022-07-25",
          "2022-07-24",
          "2022-07-21",
          "2022-07-20",
          "2022-07-19",
          "2022-07-18",
          "2022-07-17",
          "2022-07-07",
          "2022-07-06",
          "2022-07-05",
          "2022-07-04",
          "2022-07-03",
          "2022-06-29",
          "2022-06-28",
          "2022-06-27",
          "2022-06-26",
          "2022-06-23",
          "2022-06-22",
          "2022-06-21",
          "2022-06-20",
          "2022-06-19",
          "2022-06-16",
          "2022-06-15",
          "2022-06-14",
          "2022-06-13",
          "2022-06-12",
          "2022-06-09",
          "2022-06-08",
          "2022-06-07",
          "2022-06-06",
          "2022-06-05",
          "2022-06-02",
          "2022-06-01",
          "2022-05-31",
          "2022-05-30",
          "2022-05-29",
          "2022-05-26",
          "2022-05-25",
          "2022-05-24",
          "2022-05-23",
          "2022-05-22",
          "2022-05-19",
          "2022-05-18",
          "2022-05-17",
          "2022-05-16",
          "2022-05-15",
          "2022-05-12",
          "2022-05-11",
          "2022-05-10",
          "2022-05-09",
          "2022-05-08",
          "2022-04-28",
          "2022-04-27",
          "2022-04-26",
          "2022-04-21",
          "2022-04-20",
          "2022-04-19",
          "2022-04-18",
          "2022-04-17",
          "2022-04-14",
          "2022-04-13",
          "2022-04-12",
          "2022-04-11",
          "2022-04-10",
          "2022-04-07",
          "2022-04-06",
          "2022-04-05",
          "2022-04-04",
          "2022-04-03",
          "2022-03-31",
          "2022-03-30",
          "2022-03-29",
          "2022-03-28",
          "2022-03-27",
          "2022-03-24",
          "2022-03-23",
          "2022-03-22",
          "2022-03-21",
          "2022-03-20",
          "2022-03-17",
          "2022-03-16",
          "2022-03-15",
          "2022-03-14",
          "2022-03-13",
          "2022-03-10",
          "2022-03-09",
          "2022-03-08",
          "2022-03-07",
          "2022-03-06",
          "2022-03-03",
          "2022-03-02",
          "2022-03-01",
          "2022-02-28",
          "2022-02-27",
          "2022-02-24",
          "2022-02-23",
          "2022-02-22",
          "2022-02-21",
          "2022-02-20",
          "2022-02-17",
          "2022-02-16",
          "2022-02-15",
          "2022-02-14",
          "2022-02-13",
          "2022-02-10",
          "2022-02-09",
          "2022-02-08",
          "2022-02-07",
          "2022-02-06",
          "2022-02-03",
          "2022-02-02",
          "2022-02-01",
          "2022-01-31",
          "2022-01-30",
          "2022-01-26",
          "2022-01-25",
          "2022-01-24",
          "2022-01-23",
          "2022-01-20",
          "2022-01-19",
          "2022-01-18",
          "2022-01-17",
          "2022-01-16",
          "2022-01-13",
          "2022-01-12",
          "2022-01-11",
          "2022-01-10",
          "2022-01-09",
          "2022-01-05",
          "2022-01-04",
          "2022-01-03",
          "2022-01-02"
         ],
         "xaxis": "x",
         "y": [
          -0.98,
          0.98,
          0.02,
          1.63,
          -0.3,
          -1.43,
          -6.34,
          -0.81,
          0.98,
          -5.04,
          -2.16,
          1.41,
          5.17,
          5.24,
          -3.02,
          0.41,
          5.11,
          0.32,
          0.3,
          -1.13,
          0.94,
          3.92,
          -5.01,
          0.06,
          -0.13,
          -0.41,
          1.12,
          0.69,
          0.18,
          0.95,
          0.39,
          1.05,
          -0.75,
          1.81,
          2.33,
          -1.43,
          0.33,
          -3.03,
          0.54,
          -6.81,
          3.83,
          2.1,
          3.47,
          0.29,
          -1.65,
          1.19,
          3.27,
          0.32,
          -0.67,
          2.62,
          1.06,
          1.79,
          0.21,
          -0.48,
          0.97,
          -0.02,
          -0.23,
          -0.37,
          2.44,
          0.82,
          1.4,
          1.49,
          -0.96,
          1.7,
          -1.99,
          -2.14,
          -0.95,
          -1.02,
          2.19,
          0.28,
          -0.21,
          2.92,
          -0.46,
          -0.03,
          -2.01,
          -0.07,
          -1.69,
          -0.54,
          2.82,
          -0.66,
          -0.1,
          -1.44,
          -3.03,
          2.39,
          -0.86,
          1.96,
          1.03,
          0.06,
          -0.56,
          2.12,
          1.01,
          1.02,
          -0.25,
          0.19,
          -1.65,
          1.36,
          2.54,
          1.45,
          -0.15,
          2.01,
          0.92,
          -0.52,
          -3.78,
          1.51,
          -0.75,
          0.56,
          3.37,
          -0.86,
          2.01,
          2.37,
          -2.26,
          0.2,
          4.95,
          3.48,
          1.61,
          1.77,
          -0.36,
          1.62,
          0.27,
          -2.6,
          0.84,
          -0.98,
          -0.77,
          -0.59,
          -0.89,
          0.17,
          0.53,
          0.66,
          1.43,
          -0.79,
          1.03,
          0.42,
          0.66,
          0.92,
          1.14,
          -0.7,
          -1.53,
          1.04,
          0.79,
          0.95,
          0.71,
          0.99,
          -0.78,
          0.3,
          1.01,
          0.24,
          0.37,
          1.7,
          0.41,
          -0.46,
          1.65,
          -0.63,
          0.36,
          -0.52,
          0.54,
          0.38,
          0.23,
          0.82,
          -0.3,
          0.08,
          -0.51,
          0.8,
          1.41,
          -0.02,
          -0.33,
          -0.46,
          0.24,
          1.24,
          -0.33,
          -0.48,
          -0.4,
          -0.16,
          -0.17,
          0.55,
          0.97,
          0,
          1.16,
          -0.06,
          1.13,
          2.46,
          -3.2,
          -1.6,
          -0.49,
          -1.13,
          2.18,
          -2.4,
          0.04,
          -1.2,
          -0.37,
          -0.21,
          0.81,
          0.05,
          0.04,
          0.92,
          -0.2,
          1.25,
          1,
          -0.82,
          0.84,
          -0.63,
          -0.44,
          0.21,
          -0.22,
          1.88,
          0.47,
          0.52,
          -0.27,
          1.8,
          0.14,
          -0.57,
          0.69,
          -0.58,
          -1.12,
          -0.59,
          -1.34,
          0.57,
          -1.28,
          0.97,
          -1.8,
          2.37,
          -0.35,
          -0.03,
          -0.06,
          -2.02,
          -0.73,
          1.98,
          -0.36,
          -0.13,
          -0.75,
          5.55,
          -1.59,
          1.41,
          0.6,
          -0.21,
          -1.82,
          0.12,
          -0.34,
          2.17,
          1.68,
          0.04,
          3.17,
          -0.27,
          -0.24,
          2.33,
          2.44,
          -0.47,
          2.69,
          1.65,
          -0.16,
          -0.14,
          -4.15,
          -0.49,
          -3.13,
          -3.14,
          0.85,
          -0.71,
          -2.21,
          -0.14,
          -0.11,
          -1.61,
          0.71,
          -0.56,
          -0.67,
          1.23,
          1.35,
          -1.54,
          1.34,
          -2.96,
          -0.93,
          -0.19,
          0.53,
          1.26,
          -0.42,
          -1.85,
          3.93,
          0.28,
          1.89,
          1.97,
          0.06,
          -0.93,
          -0.23,
          -3.41,
          -2.21,
          3.69,
          2.13,
          1.59,
          0.4,
          0.33,
          0.49,
          0.03,
          0.91,
          1.78,
          0.06,
          0.15,
          0.42,
          -3.94,
          0.59,
          2.86,
          3.25,
          0.72,
          2.48,
          0.14,
          0.64,
          -0.52,
          1.22,
          -0.67,
          -0.41,
          0.13,
          -1.46,
          -0.7,
          -1.97,
          -1.54,
          1.5,
          2.9,
          0.93,
          -1.69,
          0.35,
          1.99,
          1.19,
          1.77,
          3.22,
          2.87,
          0.57,
          2.07,
          -0.71,
          1.8,
          1.42,
          -0.18,
          1.39,
          -0.59,
          0.06,
          1.41,
          1.68,
          0.01,
          1.3,
          1.91,
          -0.21,
          4.56,
          -1.54,
          2.37,
          -0.74,
          0.18,
          -1.67,
          0.53,
          2.45,
          0.26,
          4.92,
          0.75,
          1.49,
          0.61,
          -0.15,
          1.15,
          -0.07,
          0.15,
          0.99,
          1.98,
          0.54,
          -0.67,
          -0.82,
          0.08,
          -0.7,
          0.88,
          2.46,
          -0.02,
          -1.43,
          1.29,
          -1.17,
          -0.11,
          -0.68,
          -0.38,
          -0.23,
          -0.55,
          1.59,
          0.93,
          -3.13,
          -1.13,
          -1.96,
          -0.35,
          0.75,
          0.89,
          0.32,
          -0.94,
          1.49,
          1.81,
          0.6,
          -0.62,
          -1.32,
          0.1,
          -0.55,
          -1.06,
          1.8,
          -0.32,
          -1.06,
          -0.9,
          2.43,
          0.36,
          2.18,
          -0.72,
          -0.7,
          -0.04,
          0.23,
          -0.03,
          -0.78,
          -0.75,
          0.8,
          5.28,
          1.03,
          0.2,
          -0.46,
          1.04,
          0.88,
          -0.67,
          1.22,
          -0.42,
          -0.15,
          1.94,
          0.88,
          1.87,
          1.08,
          0.1,
          1.09,
          0.15,
          -0.33,
          -3.59,
          -2.35,
          0.5,
          -0.82,
          -1.99,
          0.04,
          -1.8,
          -0.88,
          0.18,
          -0.49,
          -1.4,
          -1.04,
          -0.11,
          -0.34,
          -0.82,
          -1.35,
          -0.01,
          1.87,
          0.64,
          -0.01,
          -0.21,
          -0.76,
          -0.65,
          0.4,
          0.22,
          -1.12,
          -0.46,
          -1.61,
          -0.95,
          0.5,
          -0.83,
          0.79,
          0.27,
          -0.22,
          -0.69,
          -1.36,
          -1.63,
          0.41,
          -0.87,
          -1.82,
          0.56,
          3.07,
          0.34,
          1.27,
          0.99,
          -1.71,
          -0.91,
          0.16,
          0.27,
          -1.55,
          -0.47,
          1.58,
          -1.55,
          -1.84,
          -2.17,
          -0.29,
          -1.29,
          -0.29,
          2.88,
          -0.01,
          -1.35,
          1.36,
          -2.64,
          -1.4,
          -0.3,
          0.69,
          1.32,
          4.9,
          2.31,
          0.19,
          2.71,
          0.03,
          -0.58,
          0.26,
          0.36,
          0.18,
          -2.84,
          -3.55,
          -1.87,
          1.04,
          -0.77,
          1.23,
          -0.32,
          2.6,
          -3.63,
          -0.01,
          -1.73,
          1.15,
          -1.42,
          -0.29,
          0.04,
          1.4,
          -0.3,
          -1.21,
          -0.15,
          0.59,
          -0.18,
          -1.21,
          0.44,
          -0.46,
          0.76,
          0.98,
          0.29,
          -0.37,
          -0.37,
          -0.63,
          -0.34,
          -0.65,
          0.14,
          -1.36,
          0.15,
          0.24,
          -1.51,
          -0.4,
          0.48,
          -0.17,
          0.37,
          -0.54,
          0.51,
          0.72,
          -0.1,
          -0.33
         ],
         "yaxis": "y"
        }
       ],
       "layout": {
        "legend": {
         "tracegroupgap": 0
        },
        "margin": {
         "t": 60
        },
        "template": {
         "data": {
          "bar": [
           {
            "error_x": {
             "color": "#2a3f5f"
            },
            "error_y": {
             "color": "#2a3f5f"
            },
            "marker": {
             "line": {
              "color": "#E5ECF6",
              "width": 0.5
             },
             "pattern": {
              "fillmode": "overlay",
              "size": 10,
              "solidity": 0.2
             }
            },
            "type": "bar"
           }
          ],
          "barpolar": [
           {
            "marker": {
             "line": {
              "color": "#E5ECF6",
              "width": 0.5
             },
             "pattern": {
              "fillmode": "overlay",
              "size": 10,
              "solidity": 0.2
             }
            },
            "type": "barpolar"
           }
          ],
          "carpet": [
           {
            "aaxis": {
             "endlinecolor": "#2a3f5f",
             "gridcolor": "white",
             "linecolor": "white",
             "minorgridcolor": "white",
             "startlinecolor": "#2a3f5f"
            },
            "baxis": {
             "endlinecolor": "#2a3f5f",
             "gridcolor": "white",
             "linecolor": "white",
             "minorgridcolor": "white",
             "startlinecolor": "#2a3f5f"
            },
            "type": "carpet"
           }
          ],
          "choropleth": [
           {
            "colorbar": {
             "outlinewidth": 0,
             "ticks": ""
            },
            "type": "choropleth"
           }
          ],
          "contour": [
           {
            "colorbar": {
             "outlinewidth": 0,
             "ticks": ""
            },
            "colorscale": [
             [
              0,
              "#0d0887"
             ],
             [
              0.1111111111111111,
              "#46039f"
             ],
             [
              0.2222222222222222,
              "#7201a8"
             ],
             [
              0.3333333333333333,
              "#9c179e"
             ],
             [
              0.4444444444444444,
              "#bd3786"
             ],
             [
              0.5555555555555556,
              "#d8576b"
             ],
             [
              0.6666666666666666,
              "#ed7953"
             ],
             [
              0.7777777777777778,
              "#fb9f3a"
             ],
             [
              0.8888888888888888,
              "#fdca26"
             ],
             [
              1,
              "#f0f921"
             ]
            ],
            "type": "contour"
           }
          ],
          "contourcarpet": [
           {
            "colorbar": {
             "outlinewidth": 0,
             "ticks": ""
            },
            "type": "contourcarpet"
           }
          ],
          "heatmap": [
           {
            "colorbar": {
             "outlinewidth": 0,
             "ticks": ""
            },
            "colorscale": [
             [
              0,
              "#0d0887"
             ],
             [
              0.1111111111111111,
              "#46039f"
             ],
             [
              0.2222222222222222,
              "#7201a8"
             ],
             [
              0.3333333333333333,
              "#9c179e"
             ],
             [
              0.4444444444444444,
              "#bd3786"
             ],
             [
              0.5555555555555556,
              "#d8576b"
             ],
             [
              0.6666666666666666,
              "#ed7953"
             ],
             [
              0.7777777777777778,
              "#fb9f3a"
             ],
             [
              0.8888888888888888,
              "#fdca26"
             ],
             [
              1,
              "#f0f921"
             ]
            ],
            "type": "heatmap"
           }
          ],
          "heatmapgl": [
           {
            "colorbar": {
             "outlinewidth": 0,
             "ticks": ""
            },
            "colorscale": [
             [
              0,
              "#0d0887"
             ],
             [
              0.1111111111111111,
              "#46039f"
             ],
             [
              0.2222222222222222,
              "#7201a8"
             ],
             [
              0.3333333333333333,
              "#9c179e"
             ],
             [
              0.4444444444444444,
              "#bd3786"
             ],
             [
              0.5555555555555556,
              "#d8576b"
             ],
             [
              0.6666666666666666,
              "#ed7953"
             ],
             [
              0.7777777777777778,
              "#fb9f3a"
             ],
             [
              0.8888888888888888,
              "#fdca26"
             ],
             [
              1,
              "#f0f921"
             ]
            ],
            "type": "heatmapgl"
           }
          ],
          "histogram": [
           {
            "marker": {
             "pattern": {
              "fillmode": "overlay",
              "size": 10,
              "solidity": 0.2
             }
            },
            "type": "histogram"
           }
          ],
          "histogram2d": [
           {
            "colorbar": {
             "outlinewidth": 0,
             "ticks": ""
            },
            "colorscale": [
             [
              0,
              "#0d0887"
             ],
             [
              0.1111111111111111,
              "#46039f"
             ],
             [
              0.2222222222222222,
              "#7201a8"
             ],
             [
              0.3333333333333333,
              "#9c179e"
             ],
             [
              0.4444444444444444,
              "#bd3786"
             ],
             [
              0.5555555555555556,
              "#d8576b"
             ],
             [
              0.6666666666666666,
              "#ed7953"
             ],
             [
              0.7777777777777778,
              "#fb9f3a"
             ],
             [
              0.8888888888888888,
              "#fdca26"
             ],
             [
              1,
              "#f0f921"
             ]
            ],
            "type": "histogram2d"
           }
          ],
          "histogram2dcontour": [
           {
            "colorbar": {
             "outlinewidth": 0,
             "ticks": ""
            },
            "colorscale": [
             [
              0,
              "#0d0887"
             ],
             [
              0.1111111111111111,
              "#46039f"
             ],
             [
              0.2222222222222222,
              "#7201a8"
             ],
             [
              0.3333333333333333,
              "#9c179e"
             ],
             [
              0.4444444444444444,
              "#bd3786"
             ],
             [
              0.5555555555555556,
              "#d8576b"
             ],
             [
              0.6666666666666666,
              "#ed7953"
             ],
             [
              0.7777777777777778,
              "#fb9f3a"
             ],
             [
              0.8888888888888888,
              "#fdca26"
             ],
             [
              1,
              "#f0f921"
             ]
            ],
            "type": "histogram2dcontour"
           }
          ],
          "mesh3d": [
           {
            "colorbar": {
             "outlinewidth": 0,
             "ticks": ""
            },
            "type": "mesh3d"
           }
          ],
          "parcoords": [
           {
            "line": {
             "colorbar": {
              "outlinewidth": 0,
              "ticks": ""
             }
            },
            "type": "parcoords"
           }
          ],
          "pie": [
           {
            "automargin": true,
            "type": "pie"
           }
          ],
          "scatter": [
           {
            "fillpattern": {
             "fillmode": "overlay",
             "size": 10,
             "solidity": 0.2
            },
            "type": "scatter"
           }
          ],
          "scatter3d": [
           {
            "line": {
             "colorbar": {
              "outlinewidth": 0,
              "ticks": ""
             }
            },
            "marker": {
             "colorbar": {
              "outlinewidth": 0,
              "ticks": ""
             }
            },
            "type": "scatter3d"
           }
          ],
          "scattercarpet": [
           {
            "marker": {
             "colorbar": {
              "outlinewidth": 0,
              "ticks": ""
             }
            },
            "type": "scattercarpet"
           }
          ],
          "scattergeo": [
           {
            "marker": {
             "colorbar": {
              "outlinewidth": 0,
              "ticks": ""
             }
            },
            "type": "scattergeo"
           }
          ],
          "scattergl": [
           {
            "marker": {
             "colorbar": {
              "outlinewidth": 0,
              "ticks": ""
             }
            },
            "type": "scattergl"
           }
          ],
          "scattermapbox": [
           {
            "marker": {
             "colorbar": {
              "outlinewidth": 0,
              "ticks": ""
             }
            },
            "type": "scattermapbox"
           }
          ],
          "scatterpolar": [
           {
            "marker": {
             "colorbar": {
              "outlinewidth": 0,
              "ticks": ""
             }
            },
            "type": "scatterpolar"
           }
          ],
          "scatterpolargl": [
           {
            "marker": {
             "colorbar": {
              "outlinewidth": 0,
              "ticks": ""
             }
            },
            "type": "scatterpolargl"
           }
          ],
          "scatterternary": [
           {
            "marker": {
             "colorbar": {
              "outlinewidth": 0,
              "ticks": ""
             }
            },
            "type": "scatterternary"
           }
          ],
          "surface": [
           {
            "colorbar": {
             "outlinewidth": 0,
             "ticks": ""
            },
            "colorscale": [
             [
              0,
              "#0d0887"
             ],
             [
              0.1111111111111111,
              "#46039f"
             ],
             [
              0.2222222222222222,
              "#7201a8"
             ],
             [
              0.3333333333333333,
              "#9c179e"
             ],
             [
              0.4444444444444444,
              "#bd3786"
             ],
             [
              0.5555555555555556,
              "#d8576b"
             ],
             [
              0.6666666666666666,
              "#ed7953"
             ],
             [
              0.7777777777777778,
              "#fb9f3a"
             ],
             [
              0.8888888888888888,
              "#fdca26"
             ],
             [
              1,
              "#f0f921"
             ]
            ],
            "type": "surface"
           }
          ],
          "table": [
           {
            "cells": {
             "fill": {
              "color": "#EBF0F8"
             },
             "line": {
              "color": "white"
             }
            },
            "header": {
             "fill": {
              "color": "#C8D4E3"
             },
             "line": {
              "color": "white"
             }
            },
            "type": "table"
           }
          ]
         },
         "layout": {
          "annotationdefaults": {
           "arrowcolor": "#2a3f5f",
           "arrowhead": 0,
           "arrowwidth": 1
          },
          "autotypenumbers": "strict",
          "coloraxis": {
           "colorbar": {
            "outlinewidth": 0,
            "ticks": ""
           }
          },
          "colorscale": {
           "diverging": [
            [
             0,
             "#8e0152"
            ],
            [
             0.1,
             "#c51b7d"
            ],
            [
             0.2,
             "#de77ae"
            ],
            [
             0.3,
             "#f1b6da"
            ],
            [
             0.4,
             "#fde0ef"
            ],
            [
             0.5,
             "#f7f7f7"
            ],
            [
             0.6,
             "#e6f5d0"
            ],
            [
             0.7,
             "#b8e186"
            ],
            [
             0.8,
             "#7fbc41"
            ],
            [
             0.9,
             "#4d9221"
            ],
            [
             1,
             "#276419"
            ]
           ],
           "sequential": [
            [
             0,
             "#0d0887"
            ],
            [
             0.1111111111111111,
             "#46039f"
            ],
            [
             0.2222222222222222,
             "#7201a8"
            ],
            [
             0.3333333333333333,
             "#9c179e"
            ],
            [
             0.4444444444444444,
             "#bd3786"
            ],
            [
             0.5555555555555556,
             "#d8576b"
            ],
            [
             0.6666666666666666,
             "#ed7953"
            ],
            [
             0.7777777777777778,
             "#fb9f3a"
            ],
            [
             0.8888888888888888,
             "#fdca26"
            ],
            [
             1,
             "#f0f921"
            ]
           ],
           "sequentialminus": [
            [
             0,
             "#0d0887"
            ],
            [
             0.1111111111111111,
             "#46039f"
            ],
            [
             0.2222222222222222,
             "#7201a8"
            ],
            [
             0.3333333333333333,
             "#9c179e"
            ],
            [
             0.4444444444444444,
             "#bd3786"
            ],
            [
             0.5555555555555556,
             "#d8576b"
            ],
            [
             0.6666666666666666,
             "#ed7953"
            ],
            [
             0.7777777777777778,
             "#fb9f3a"
            ],
            [
             0.8888888888888888,
             "#fdca26"
            ],
            [
             1,
             "#f0f921"
            ]
           ]
          },
          "colorway": [
           "#636efa",
           "#EF553B",
           "#00cc96",
           "#ab63fa",
           "#FFA15A",
           "#19d3f3",
           "#FF6692",
           "#B6E880",
           "#FF97FF",
           "#FECB52"
          ],
          "font": {
           "color": "#2a3f5f"
          },
          "geo": {
           "bgcolor": "white",
           "lakecolor": "white",
           "landcolor": "#E5ECF6",
           "showlakes": true,
           "showland": true,
           "subunitcolor": "white"
          },
          "hoverlabel": {
           "align": "left"
          },
          "hovermode": "closest",
          "mapbox": {
           "style": "light"
          },
          "paper_bgcolor": "white",
          "plot_bgcolor": "#E5ECF6",
          "polar": {
           "angularaxis": {
            "gridcolor": "white",
            "linecolor": "white",
            "ticks": ""
           },
           "bgcolor": "#E5ECF6",
           "radialaxis": {
            "gridcolor": "white",
            "linecolor": "white",
            "ticks": ""
           }
          },
          "scene": {
           "xaxis": {
            "backgroundcolor": "#E5ECF6",
            "gridcolor": "white",
            "gridwidth": 2,
            "linecolor": "white",
            "showbackground": true,
            "ticks": "",
            "zerolinecolor": "white"
           },
           "yaxis": {
            "backgroundcolor": "#E5ECF6",
            "gridcolor": "white",
            "gridwidth": 2,
            "linecolor": "white",
            "showbackground": true,
            "ticks": "",
            "zerolinecolor": "white"
           },
           "zaxis": {
            "backgroundcolor": "#E5ECF6",
            "gridcolor": "white",
            "gridwidth": 2,
            "linecolor": "white",
            "showbackground": true,
            "ticks": "",
            "zerolinecolor": "white"
           }
          },
          "shapedefaults": {
           "line": {
            "color": "#2a3f5f"
           }
          },
          "ternary": {
           "aaxis": {
            "gridcolor": "white",
            "linecolor": "white",
            "ticks": ""
           },
           "baxis": {
            "gridcolor": "white",
            "linecolor": "white",
            "ticks": ""
           },
           "bgcolor": "#E5ECF6",
           "caxis": {
            "gridcolor": "white",
            "linecolor": "white",
            "ticks": ""
           }
          },
          "title": {
           "x": 0.05
          },
          "xaxis": {
           "automargin": true,
           "gridcolor": "white",
           "linecolor": "white",
           "ticks": "",
           "title": {
            "standoff": 15
           },
           "zerolinecolor": "white",
           "zerolinewidth": 2
          },
          "yaxis": {
           "automargin": true,
           "gridcolor": "white",
           "linecolor": "white",
           "ticks": "",
           "title": {
            "standoff": 15
           },
           "zerolinecolor": "white",
           "zerolinewidth": 2
          }
         }
        },
        "xaxis": {
         "anchor": "y",
         "domain": [
          0,
          1
         ],
         "title": {
          "text": "Date"
         }
        },
        "yaxis": {
         "anchor": "x",
         "domain": [
          0,
          1
         ],
         "title": {
          "text": "Change"
         }
        }
       }
      },
      "text/html": [
       "<div>                            <div id=\"4f37f219-e844-489b-8989-cfbec1c6776e\" class=\"plotly-graph-div\" style=\"height:525px; width:100%;\"></div>            <script type=\"text/javascript\">                require([\"plotly\"], function(Plotly) {                    window.PLOTLYENV=window.PLOTLYENV || {};                                    if (document.getElementById(\"4f37f219-e844-489b-8989-cfbec1c6776e\")) {                    Plotly.newPlot(                        \"4f37f219-e844-489b-8989-cfbec1c6776e\",                        [{\"hovertemplate\":\"Date=%{x}<br>Change=%{y}<extra></extra>\",\"legendgroup\":\"\",\"line\":{\"color\":\"#636efa\",\"dash\":\"solid\"},\"marker\":{\"symbol\":\"circle\"},\"mode\":\"lines+markers\",\"name\":\"\",\"orientation\":\"v\",\"showlegend\":false,\"x\":[\"2024-03-26\",\"2024-03-25\",\"2024-03-24\",\"2024-03-21\",\"2024-03-20\",\"2024-03-19\",\"2024-03-18\",\"2024-03-17\",\"2024-03-14\",\"2024-03-13\",\"2024-03-12\",\"2024-03-11\",\"2024-03-10\",\"2024-03-07\",\"2024-03-06\",\"2024-03-05\",\"2024-03-04\",\"2024-03-03\",\"2024-02-29\",\"2024-02-28\",\"2024-02-27\",\"2024-02-26\",\"2024-02-25\",\"2024-02-22\",\"2024-02-21\",\"2024-02-20\",\"2024-02-19\",\"2024-02-18\",\"2024-02-15\",\"2024-02-14\",\"2024-02-13\",\"2024-02-12\",\"2024-02-11\",\"2024-02-08\",\"2024-02-07\",\"2024-02-06\",\"2024-02-05\",\"2024-02-04\",\"2024-02-01\",\"2024-01-31\",\"2024-01-30\",\"2024-01-29\",\"2024-01-28\",\"2024-01-24\",\"2024-01-23\",\"2024-01-22\",\"2024-01-21\",\"2024-01-18\",\"2024-01-17\",\"2024-01-16\",\"2024-01-15\",\"2024-01-14\",\"2024-01-11\",\"2024-01-10\",\"2024-01-09\",\"2024-01-08\",\"2024-01-04\",\"2024-01-03\",\"2024-01-02\",\"2023-12-31\",\"2023-12-28\",\"2023-12-27\",\"2023-12-26\",\"2023-12-25\",\"2023-12-24\",\"2023-12-21\",\"2023-12-20\",\"2023-12-19\",\"2023-12-18\",\"2023-12-17\",\"2023-12-14\",\"2023-12-13\",\"2023-12-12\",\"2023-12-11\",\"2023-12-10\",\"2023-12-07\",\"2023-12-06\",\"2023-12-05\",\"2023-12-04\",\"2023-12-03\",\"2023-11-30\",\"2023-11-29\",\"2023-11-28\",\"2023-11-27\",\"2023-11-26\",\"2023-11-23\",\"2023-11-22\",\"2023-11-21\",\"2023-11-20\",\"2023-11-19\",\"2023-11-16\",\"2023-11-15\",\"2023-11-14\",\"2023-11-13\",\"2023-11-12\",\"2023-11-09\",\"2023-11-08\",\"2023-11-07\",\"2023-11-06\",\"2023-11-05\",\"2023-11-02\",\"2023-11-01\",\"2023-10-31\",\"2023-10-30\",\"2023-10-29\",\"2023-10-26\",\"2023-10-25\",\"2023-10-24\",\"2023-10-23\",\"2023-10-22\",\"2023-10-19\",\"2023-10-18\",\"2023-10-17\",\"2023-10-16\",\"2023-10-15\",\"2023-10-12\",\"2023-10-11\",\"2023-10-10\",\"2023-10-09\",\"2023-10-08\",\"2023-10-04\",\"2023-10-03\",\"2023-10-02\",\"2023-10-01\",\"2023-09-27\",\"2023-09-26\",\"2023-09-25\",\"2023-09-24\",\"2023-09-21\",\"2023-09-20\",\"2023-09-19\",\"2023-09-18\",\"2023-09-17\",\"2023-09-14\",\"2023-09-13\",\"2023-09-12\",\"2023-09-11\",\"2023-09-10\",\"2023-09-07\",\"2023-09-06\",\"2023-09-05\",\"2023-09-04\",\"2023-09-03\",\"2023-08-31\",\"2023-08-30\",\"2023-08-29\",\"2023-08-28\",\"2023-08-27\",\"2023-08-24\",\"2023-08-23\",\"2023-08-22\",\"2023-08-21\",\"2023-08-20\",\"2023-08-17\",\"2023-08-16\",\"2023-08-15\",\"2023-08-14\",\"2023-08-13\",\"2023-08-10\",\"2023-08-09\",\"2023-08-08\",\"2023-08-07\",\"2023-08-06\",\"2023-08-03\",\"2023-08-02\",\"2023-08-01\",\"2023-07-31\",\"2023-07-30\",\"2023-07-27\",\"2023-07-26\",\"2023-07-25\",\"2023-07-24\",\"2023-07-19\",\"2023-07-18\",\"2023-07-17\",\"2023-07-16\",\"2023-07-13\",\"2023-07-12\",\"2023-07-11\",\"2023-07-10\",\"2023-07-09\",\"2023-07-06\",\"2023-07-05\",\"2023-07-04\",\"2023-06-26\",\"2023-06-25\",\"2023-06-22\",\"2023-06-21\",\"2023-06-20\",\"2023-06-19\",\"2023-06-18\",\"2023-06-15\",\"2023-06-14\",\"2023-06-13\",\"2023-06-12\",\"2023-06-11\",\"2023-06-08\",\"2023-06-07\",\"2023-06-06\",\"2023-06-05\",\"2023-06-04\",\"2023-06-01\",\"2023-05-31\",\"2023-05-30\",\"2023-05-29\",\"2023-05-28\",\"2023-05-25\",\"2023-05-24\",\"2023-05-23\",\"2023-05-22\",\"2023-05-21\",\"2023-05-18\",\"2023-05-17\",\"2023-05-16\",\"2023-05-15\",\"2023-05-14\",\"2023-05-11\",\"2023-05-10\",\"2023-05-09\",\"2023-05-08\",\"2023-05-07\",\"2023-05-03\",\"2023-05-02\",\"2023-05-01\",\"2023-04-30\",\"2023-04-27\",\"2023-04-26\",\"2023-04-19\",\"2023-04-18\",\"2023-04-13\",\"2023-04-12\",\"2023-04-11\",\"2023-04-10\",\"2023-04-09\",\"2023-04-06\",\"2023-04-05\",\"2023-04-04\",\"2023-04-03\",\"2023-04-02\",\"2023-03-30\",\"2023-03-29\",\"2023-03-28\",\"2023-03-27\",\"2023-03-26\",\"2023-03-23\",\"2023-03-22\",\"2023-03-21\",\"2023-03-20\",\"2023-03-19\",\"2023-03-16\",\"2023-03-15\",\"2023-03-14\",\"2023-03-13\",\"2023-03-12\",\"2023-03-09\",\"2023-03-08\",\"2023-03-07\",\"2023-03-06\",\"2023-03-05\",\"2023-03-02\",\"2023-03-01\",\"2023-02-28\",\"2023-02-27\",\"2023-02-26\",\"2023-02-23\",\"2023-02-22\",\"2023-02-21\",\"2023-02-20\",\"2023-02-19\",\"2023-02-16\",\"2023-02-15\",\"2023-02-14\",\"2023-02-13\",\"2023-02-12\",\"2023-02-09\",\"2023-02-08\",\"2023-02-07\",\"2023-02-06\",\"2023-02-05\",\"2023-02-02\",\"2023-02-01\",\"2023-01-31\",\"2023-01-30\",\"2023-01-29\",\"2023-01-25\",\"2023-01-24\",\"2023-01-23\",\"2023-01-22\",\"2023-01-19\",\"2023-01-18\",\"2023-01-17\",\"2023-01-16\",\"2023-01-15\",\"2023-01-12\",\"2023-01-11\",\"2023-01-10\",\"2023-01-09\",\"2023-01-05\",\"2023-01-04\",\"2023-01-03\",\"2023-01-02\",\"2022-12-29\",\"2022-12-28\",\"2022-12-27\",\"2022-12-26\",\"2022-12-25\",\"2022-12-22\",\"2022-12-21\",\"2022-12-20\",\"2022-12-19\",\"2022-12-18\",\"2022-12-15\",\"2022-12-14\",\"2022-12-13\",\"2022-12-12\",\"2022-12-11\",\"2022-12-08\",\"2022-12-07\",\"2022-12-06\",\"2022-12-05\",\"2022-12-04\",\"2022-12-01\",\"2022-11-30\",\"2022-11-29\",\"2022-11-28\",\"2022-11-27\",\"2022-11-24\",\"2022-11-23\",\"2022-11-22\",\"2022-11-21\",\"2022-11-20\",\"2022-11-17\",\"2022-11-16\",\"2022-11-15\",\"2022-11-14\",\"2022-11-13\",\"2022-11-10\",\"2022-11-09\",\"2022-11-08\",\"2022-11-07\",\"2022-11-06\",\"2022-11-03\",\"2022-11-02\",\"2022-11-01\",\"2022-10-31\",\"2022-10-30\",\"2022-10-27\",\"2022-10-26\",\"2022-10-25\",\"2022-10-24\",\"2022-10-23\",\"2022-10-20\",\"2022-10-19\",\"2022-10-18\",\"2022-10-17\",\"2022-10-16\",\"2022-10-13\",\"2022-10-12\",\"2022-10-11\",\"2022-10-10\",\"2022-10-09\",\"2022-10-05\",\"2022-10-04\",\"2022-10-03\",\"2022-10-02\",\"2022-09-29\",\"2022-09-28\",\"2022-09-27\",\"2022-09-26\",\"2022-09-25\",\"2022-09-22\",\"2022-09-21\",\"2022-09-20\",\"2022-09-19\",\"2022-09-18\",\"2022-09-15\",\"2022-09-14\",\"2022-09-13\",\"2022-09-12\",\"2022-09-11\",\"2022-09-08\",\"2022-09-07\",\"2022-09-06\",\"2022-09-05\",\"2022-09-04\",\"2022-09-01\",\"2022-08-31\",\"2022-08-30\",\"2022-08-29\",\"2022-08-28\",\"2022-08-25\",\"2022-08-24\",\"2022-08-23\",\"2022-08-22\",\"2022-08-21\",\"2022-08-18\",\"2022-08-17\",\"2022-08-16\",\"2022-08-15\",\"2022-08-14\",\"2022-08-11\",\"2022-08-10\",\"2022-08-09\",\"2022-08-08\",\"2022-08-07\",\"2022-08-04\",\"2022-08-03\",\"2022-08-02\",\"2022-08-01\",\"2022-07-31\",\"2022-07-28\",\"2022-07-27\",\"2022-07-26\",\"2022-07-25\",\"2022-07-24\",\"2022-07-21\",\"2022-07-20\",\"2022-07-19\",\"2022-07-18\",\"2022-07-17\",\"2022-07-07\",\"2022-07-06\",\"2022-07-05\",\"2022-07-04\",\"2022-07-03\",\"2022-06-29\",\"2022-06-28\",\"2022-06-27\",\"2022-06-26\",\"2022-06-23\",\"2022-06-22\",\"2022-06-21\",\"2022-06-20\",\"2022-06-19\",\"2022-06-16\",\"2022-06-15\",\"2022-06-14\",\"2022-06-13\",\"2022-06-12\",\"2022-06-09\",\"2022-06-08\",\"2022-06-07\",\"2022-06-06\",\"2022-06-05\",\"2022-06-02\",\"2022-06-01\",\"2022-05-31\",\"2022-05-30\",\"2022-05-29\",\"2022-05-26\",\"2022-05-25\",\"2022-05-24\",\"2022-05-23\",\"2022-05-22\",\"2022-05-19\",\"2022-05-18\",\"2022-05-17\",\"2022-05-16\",\"2022-05-15\",\"2022-05-12\",\"2022-05-11\",\"2022-05-10\",\"2022-05-09\",\"2022-05-08\",\"2022-04-28\",\"2022-04-27\",\"2022-04-26\",\"2022-04-21\",\"2022-04-20\",\"2022-04-19\",\"2022-04-18\",\"2022-04-17\",\"2022-04-14\",\"2022-04-13\",\"2022-04-12\",\"2022-04-11\",\"2022-04-10\",\"2022-04-07\",\"2022-04-06\",\"2022-04-05\",\"2022-04-04\",\"2022-04-03\",\"2022-03-31\",\"2022-03-30\",\"2022-03-29\",\"2022-03-28\",\"2022-03-27\",\"2022-03-24\",\"2022-03-23\",\"2022-03-22\",\"2022-03-21\",\"2022-03-20\",\"2022-03-17\",\"2022-03-16\",\"2022-03-15\",\"2022-03-14\",\"2022-03-13\",\"2022-03-10\",\"2022-03-09\",\"2022-03-08\",\"2022-03-07\",\"2022-03-06\",\"2022-03-03\",\"2022-03-02\",\"2022-03-01\",\"2022-02-28\",\"2022-02-27\",\"2022-02-24\",\"2022-02-23\",\"2022-02-22\",\"2022-02-21\",\"2022-02-20\",\"2022-02-17\",\"2022-02-16\",\"2022-02-15\",\"2022-02-14\",\"2022-02-13\",\"2022-02-10\",\"2022-02-09\",\"2022-02-08\",\"2022-02-07\",\"2022-02-06\",\"2022-02-03\",\"2022-02-02\",\"2022-02-01\",\"2022-01-31\",\"2022-01-30\",\"2022-01-26\",\"2022-01-25\",\"2022-01-24\",\"2022-01-23\",\"2022-01-20\",\"2022-01-19\",\"2022-01-18\",\"2022-01-17\",\"2022-01-16\",\"2022-01-13\",\"2022-01-12\",\"2022-01-11\",\"2022-01-10\",\"2022-01-09\",\"2022-01-05\",\"2022-01-04\",\"2022-01-03\",\"2022-01-02\"],\"xaxis\":\"x\",\"y\":[-0.98,0.98,0.02,1.63,-0.3,-1.43,-6.34,-0.81,0.98,-5.04,-2.16,1.41,5.17,5.24,-3.02,0.41,5.11,0.32,0.3,-1.13,0.94,3.92,-5.01,0.06,-0.13,-0.41,1.12,0.69,0.18,0.95,0.39,1.05,-0.75,1.81,2.33,-1.43,0.33,-3.03,0.54,-6.81,3.83,2.1,3.47,0.29,-1.65,1.19,3.27,0.32,-0.67,2.62,1.06,1.79,0.21,-0.48,0.97,-0.02,-0.23,-0.37,2.44,0.82,1.4,1.49,-0.96,1.7,-1.99,-2.14,-0.95,-1.02,2.19,0.28,-0.21,2.92,-0.46,-0.03,-2.01,-0.07,-1.69,-0.54,2.82,-0.66,-0.1,-1.44,-3.03,2.39,-0.86,1.96,1.03,0.06,-0.56,2.12,1.01,1.02,-0.25,0.19,-1.65,1.36,2.54,1.45,-0.15,2.01,0.92,-0.52,-3.78,1.51,-0.75,0.56,3.37,-0.86,2.01,2.37,-2.26,0.2,4.95,3.48,1.61,1.77,-0.36,1.62,0.27,-2.6,0.84,-0.98,-0.77,-0.59,-0.89,0.17,0.53,0.66,1.43,-0.79,1.03,0.42,0.66,0.92,1.14,-0.7,-1.53,1.04,0.79,0.95,0.71,0.99,-0.78,0.3,1.01,0.24,0.37,1.7,0.41,-0.46,1.65,-0.63,0.36,-0.52,0.54,0.38,0.23,0.82,-0.3,0.08,-0.51,0.8,1.41,-0.02,-0.33,-0.46,0.24,1.24,-0.33,-0.48,-0.4,-0.16,-0.17,0.55,0.97,0.0,1.16,-0.06,1.13,2.46,-3.2,-1.6,-0.49,-1.13,2.18,-2.4,0.04,-1.2,-0.37,-0.21,0.81,0.05,0.04,0.92,-0.2,1.25,1.0,-0.82,0.84,-0.63,-0.44,0.21,-0.22,1.88,0.47,0.52,-0.27,1.8,0.14,-0.57,0.69,-0.58,-1.12,-0.59,-1.34,0.57,-1.28,0.97,-1.8,2.37,-0.35,-0.03,-0.06,-2.02,-0.73,1.98,-0.36,-0.13,-0.75,5.55,-1.59,1.41,0.6,-0.21,-1.82,0.12,-0.34,2.17,1.68,0.04,3.17,-0.27,-0.24,2.33,2.44,-0.47,2.69,1.65,-0.16,-0.14,-4.15,-0.49,-3.13,-3.14,0.85,-0.71,-2.21,-0.14,-0.11,-1.61,0.71,-0.56,-0.67,1.23,1.35,-1.54,1.34,-2.96,-0.93,-0.19,0.53,1.26,-0.42,-1.85,3.93,0.28,1.89,1.97,0.06,-0.93,-0.23,-3.41,-2.21,3.69,2.13,1.59,0.4,0.33,0.49,0.03,0.91,1.78,0.06,0.15,0.42,-3.94,0.59,2.86,3.25,0.72,2.48,0.14,0.64,-0.52,1.22,-0.67,-0.41,0.13,-1.46,-0.7,-1.97,-1.54,1.5,2.9,0.93,-1.69,0.35,1.99,1.19,1.77,3.22,2.87,0.57,2.07,-0.71,1.8,1.42,-0.18,1.39,-0.59,0.06,1.41,1.68,0.01,1.3,1.91,-0.21,4.56,-1.54,2.37,-0.74,0.18,-1.67,0.53,2.45,0.26,4.92,0.75,1.49,0.61,-0.15,1.15,-0.07,0.15,0.99,1.98,0.54,-0.67,-0.82,0.08,-0.7,0.88,2.46,-0.02,-1.43,1.29,-1.17,-0.11,-0.68,-0.38,-0.23,-0.55,1.59,0.93,-3.13,-1.13,-1.96,-0.35,0.75,0.89,0.32,-0.94,1.49,1.81,0.6,-0.62,-1.32,0.1,-0.55,-1.06,1.8,-0.32,-1.06,-0.9,2.43,0.36,2.18,-0.72,-0.7,-0.04,0.23,-0.03,-0.78,-0.75,0.8,5.28,1.03,0.2,-0.46,1.04,0.88,-0.67,1.22,-0.42,-0.15,1.94,0.88,1.87,1.08,0.1,1.09,0.15,-0.33,-3.59,-2.35,0.5,-0.82,-1.99,0.04,-1.8,-0.88,0.18,-0.49,-1.4,-1.04,-0.11,-0.34,-0.82,-1.35,-0.01,1.87,0.64,-0.01,-0.21,-0.76,-0.65,0.4,0.22,-1.12,-0.46,-1.61,-0.95,0.5,-0.83,0.79,0.27,-0.22,-0.69,-1.36,-1.63,0.41,-0.87,-1.82,0.56,3.07,0.34,1.27,0.99,-1.71,-0.91,0.16,0.27,-1.55,-0.47,1.58,-1.55,-1.84,-2.17,-0.29,-1.29,-0.29,2.88,-0.01,-1.35,1.36,-2.64,-1.4,-0.3,0.69,1.32,4.9,2.31,0.19,2.71,0.03,-0.58,0.26,0.36,0.18,-2.84,-3.55,-1.87,1.04,-0.77,1.23,-0.32,2.6,-3.63,-0.01,-1.73,1.15,-1.42,-0.29,0.04,1.4,-0.3,-1.21,-0.15,0.59,-0.18,-1.21,0.44,-0.46,0.76,0.98,0.29,-0.37,-0.37,-0.63,-0.34,-0.65,0.14,-1.36,0.15,0.24,-1.51,-0.4,0.48,-0.17,0.37,-0.54,0.51,0.72,-0.1,-0.33],\"yaxis\":\"y\",\"type\":\"scatter\"}],                        {\"template\":{\"data\":{\"histogram2dcontour\":[{\"type\":\"histogram2dcontour\",\"colorbar\":{\"outlinewidth\":0,\"ticks\":\"\"},\"colorscale\":[[0.0,\"#0d0887\"],[0.1111111111111111,\"#46039f\"],[0.2222222222222222,\"#7201a8\"],[0.3333333333333333,\"#9c179e\"],[0.4444444444444444,\"#bd3786\"],[0.5555555555555556,\"#d8576b\"],[0.6666666666666666,\"#ed7953\"],[0.7777777777777778,\"#fb9f3a\"],[0.8888888888888888,\"#fdca26\"],[1.0,\"#f0f921\"]]}],\"choropleth\":[{\"type\":\"choropleth\",\"colorbar\":{\"outlinewidth\":0,\"ticks\":\"\"}}],\"histogram2d\":[{\"type\":\"histogram2d\",\"colorbar\":{\"outlinewidth\":0,\"ticks\":\"\"},\"colorscale\":[[0.0,\"#0d0887\"],[0.1111111111111111,\"#46039f\"],[0.2222222222222222,\"#7201a8\"],[0.3333333333333333,\"#9c179e\"],[0.4444444444444444,\"#bd3786\"],[0.5555555555555556,\"#d8576b\"],[0.6666666666666666,\"#ed7953\"],[0.7777777777777778,\"#fb9f3a\"],[0.8888888888888888,\"#fdca26\"],[1.0,\"#f0f921\"]]}],\"heatmap\":[{\"type\":\"heatmap\",\"colorbar\":{\"outlinewidth\":0,\"ticks\":\"\"},\"colorscale\":[[0.0,\"#0d0887\"],[0.1111111111111111,\"#46039f\"],[0.2222222222222222,\"#7201a8\"],[0.3333333333333333,\"#9c179e\"],[0.4444444444444444,\"#bd3786\"],[0.5555555555555556,\"#d8576b\"],[0.6666666666666666,\"#ed7953\"],[0.7777777777777778,\"#fb9f3a\"],[0.8888888888888888,\"#fdca26\"],[1.0,\"#f0f921\"]]}],\"heatmapgl\":[{\"type\":\"heatmapgl\",\"colorbar\":{\"outlinewidth\":0,\"ticks\":\"\"},\"colorscale\":[[0.0,\"#0d0887\"],[0.1111111111111111,\"#46039f\"],[0.2222222222222222,\"#7201a8\"],[0.3333333333333333,\"#9c179e\"],[0.4444444444444444,\"#bd3786\"],[0.5555555555555556,\"#d8576b\"],[0.6666666666666666,\"#ed7953\"],[0.7777777777777778,\"#fb9f3a\"],[0.8888888888888888,\"#fdca26\"],[1.0,\"#f0f921\"]]}],\"contourcarpet\":[{\"type\":\"contourcarpet\",\"colorbar\":{\"outlinewidth\":0,\"ticks\":\"\"}}],\"contour\":[{\"type\":\"contour\",\"colorbar\":{\"outlinewidth\":0,\"ticks\":\"\"},\"colorscale\":[[0.0,\"#0d0887\"],[0.1111111111111111,\"#46039f\"],[0.2222222222222222,\"#7201a8\"],[0.3333333333333333,\"#9c179e\"],[0.4444444444444444,\"#bd3786\"],[0.5555555555555556,\"#d8576b\"],[0.6666666666666666,\"#ed7953\"],[0.7777777777777778,\"#fb9f3a\"],[0.8888888888888888,\"#fdca26\"],[1.0,\"#f0f921\"]]}],\"surface\":[{\"type\":\"surface\",\"colorbar\":{\"outlinewidth\":0,\"ticks\":\"\"},\"colorscale\":[[0.0,\"#0d0887\"],[0.1111111111111111,\"#46039f\"],[0.2222222222222222,\"#7201a8\"],[0.3333333333333333,\"#9c179e\"],[0.4444444444444444,\"#bd3786\"],[0.5555555555555556,\"#d8576b\"],[0.6666666666666666,\"#ed7953\"],[0.7777777777777778,\"#fb9f3a\"],[0.8888888888888888,\"#fdca26\"],[1.0,\"#f0f921\"]]}],\"mesh3d\":[{\"type\":\"mesh3d\",\"colorbar\":{\"outlinewidth\":0,\"ticks\":\"\"}}],\"scatter\":[{\"fillpattern\":{\"fillmode\":\"overlay\",\"size\":10,\"solidity\":0.2},\"type\":\"scatter\"}],\"parcoords\":[{\"type\":\"parcoords\",\"line\":{\"colorbar\":{\"outlinewidth\":0,\"ticks\":\"\"}}}],\"scatterpolargl\":[{\"type\":\"scatterpolargl\",\"marker\":{\"colorbar\":{\"outlinewidth\":0,\"ticks\":\"\"}}}],\"bar\":[{\"error_x\":{\"color\":\"#2a3f5f\"},\"error_y\":{\"color\":\"#2a3f5f\"},\"marker\":{\"line\":{\"color\":\"#E5ECF6\",\"width\":0.5},\"pattern\":{\"fillmode\":\"overlay\",\"size\":10,\"solidity\":0.2}},\"type\":\"bar\"}],\"scattergeo\":[{\"type\":\"scattergeo\",\"marker\":{\"colorbar\":{\"outlinewidth\":0,\"ticks\":\"\"}}}],\"scatterpolar\":[{\"type\":\"scatterpolar\",\"marker\":{\"colorbar\":{\"outlinewidth\":0,\"ticks\":\"\"}}}],\"histogram\":[{\"marker\":{\"pattern\":{\"fillmode\":\"overlay\",\"size\":10,\"solidity\":0.2}},\"type\":\"histogram\"}],\"scattergl\":[{\"type\":\"scattergl\",\"marker\":{\"colorbar\":{\"outlinewidth\":0,\"ticks\":\"\"}}}],\"scatter3d\":[{\"type\":\"scatter3d\",\"line\":{\"colorbar\":{\"outlinewidth\":0,\"ticks\":\"\"}},\"marker\":{\"colorbar\":{\"outlinewidth\":0,\"ticks\":\"\"}}}],\"scattermapbox\":[{\"type\":\"scattermapbox\",\"marker\":{\"colorbar\":{\"outlinewidth\":0,\"ticks\":\"\"}}}],\"scatterternary\":[{\"type\":\"scatterternary\",\"marker\":{\"colorbar\":{\"outlinewidth\":0,\"ticks\":\"\"}}}],\"scattercarpet\":[{\"type\":\"scattercarpet\",\"marker\":{\"colorbar\":{\"outlinewidth\":0,\"ticks\":\"\"}}}],\"carpet\":[{\"aaxis\":{\"endlinecolor\":\"#2a3f5f\",\"gridcolor\":\"white\",\"linecolor\":\"white\",\"minorgridcolor\":\"white\",\"startlinecolor\":\"#2a3f5f\"},\"baxis\":{\"endlinecolor\":\"#2a3f5f\",\"gridcolor\":\"white\",\"linecolor\":\"white\",\"minorgridcolor\":\"white\",\"startlinecolor\":\"#2a3f5f\"},\"type\":\"carpet\"}],\"table\":[{\"cells\":{\"fill\":{\"color\":\"#EBF0F8\"},\"line\":{\"color\":\"white\"}},\"header\":{\"fill\":{\"color\":\"#C8D4E3\"},\"line\":{\"color\":\"white\"}},\"type\":\"table\"}],\"barpolar\":[{\"marker\":{\"line\":{\"color\":\"#E5ECF6\",\"width\":0.5},\"pattern\":{\"fillmode\":\"overlay\",\"size\":10,\"solidity\":0.2}},\"type\":\"barpolar\"}],\"pie\":[{\"automargin\":true,\"type\":\"pie\"}]},\"layout\":{\"autotypenumbers\":\"strict\",\"colorway\":[\"#636efa\",\"#EF553B\",\"#00cc96\",\"#ab63fa\",\"#FFA15A\",\"#19d3f3\",\"#FF6692\",\"#B6E880\",\"#FF97FF\",\"#FECB52\"],\"font\":{\"color\":\"#2a3f5f\"},\"hovermode\":\"closest\",\"hoverlabel\":{\"align\":\"left\"},\"paper_bgcolor\":\"white\",\"plot_bgcolor\":\"#E5ECF6\",\"polar\":{\"bgcolor\":\"#E5ECF6\",\"angularaxis\":{\"gridcolor\":\"white\",\"linecolor\":\"white\",\"ticks\":\"\"},\"radialaxis\":{\"gridcolor\":\"white\",\"linecolor\":\"white\",\"ticks\":\"\"}},\"ternary\":{\"bgcolor\":\"#E5ECF6\",\"aaxis\":{\"gridcolor\":\"white\",\"linecolor\":\"white\",\"ticks\":\"\"},\"baxis\":{\"gridcolor\":\"white\",\"linecolor\":\"white\",\"ticks\":\"\"},\"caxis\":{\"gridcolor\":\"white\",\"linecolor\":\"white\",\"ticks\":\"\"}},\"coloraxis\":{\"colorbar\":{\"outlinewidth\":0,\"ticks\":\"\"}},\"colorscale\":{\"sequential\":[[0.0,\"#0d0887\"],[0.1111111111111111,\"#46039f\"],[0.2222222222222222,\"#7201a8\"],[0.3333333333333333,\"#9c179e\"],[0.4444444444444444,\"#bd3786\"],[0.5555555555555556,\"#d8576b\"],[0.6666666666666666,\"#ed7953\"],[0.7777777777777778,\"#fb9f3a\"],[0.8888888888888888,\"#fdca26\"],[1.0,\"#f0f921\"]],\"sequentialminus\":[[0.0,\"#0d0887\"],[0.1111111111111111,\"#46039f\"],[0.2222222222222222,\"#7201a8\"],[0.3333333333333333,\"#9c179e\"],[0.4444444444444444,\"#bd3786\"],[0.5555555555555556,\"#d8576b\"],[0.6666666666666666,\"#ed7953\"],[0.7777777777777778,\"#fb9f3a\"],[0.8888888888888888,\"#fdca26\"],[1.0,\"#f0f921\"]],\"diverging\":[[0,\"#8e0152\"],[0.1,\"#c51b7d\"],[0.2,\"#de77ae\"],[0.3,\"#f1b6da\"],[0.4,\"#fde0ef\"],[0.5,\"#f7f7f7\"],[0.6,\"#e6f5d0\"],[0.7,\"#b8e186\"],[0.8,\"#7fbc41\"],[0.9,\"#4d9221\"],[1,\"#276419\"]]},\"xaxis\":{\"gridcolor\":\"white\",\"linecolor\":\"white\",\"ticks\":\"\",\"title\":{\"standoff\":15},\"zerolinecolor\":\"white\",\"automargin\":true,\"zerolinewidth\":2},\"yaxis\":{\"gridcolor\":\"white\",\"linecolor\":\"white\",\"ticks\":\"\",\"title\":{\"standoff\":15},\"zerolinecolor\":\"white\",\"automargin\":true,\"zerolinewidth\":2},\"scene\":{\"xaxis\":{\"backgroundcolor\":\"#E5ECF6\",\"gridcolor\":\"white\",\"linecolor\":\"white\",\"showbackground\":true,\"ticks\":\"\",\"zerolinecolor\":\"white\",\"gridwidth\":2},\"yaxis\":{\"backgroundcolor\":\"#E5ECF6\",\"gridcolor\":\"white\",\"linecolor\":\"white\",\"showbackground\":true,\"ticks\":\"\",\"zerolinecolor\":\"white\",\"gridwidth\":2},\"zaxis\":{\"backgroundcolor\":\"#E5ECF6\",\"gridcolor\":\"white\",\"linecolor\":\"white\",\"showbackground\":true,\"ticks\":\"\",\"zerolinecolor\":\"white\",\"gridwidth\":2}},\"shapedefaults\":{\"line\":{\"color\":\"#2a3f5f\"}},\"annotationdefaults\":{\"arrowcolor\":\"#2a3f5f\",\"arrowhead\":0,\"arrowwidth\":1},\"geo\":{\"bgcolor\":\"white\",\"landcolor\":\"#E5ECF6\",\"subunitcolor\":\"white\",\"showland\":true,\"showlakes\":true,\"lakecolor\":\"white\"},\"title\":{\"x\":0.05},\"mapbox\":{\"style\":\"light\"}}},\"xaxis\":{\"anchor\":\"y\",\"domain\":[0.0,1.0],\"title\":{\"text\":\"Date\"}},\"yaxis\":{\"anchor\":\"x\",\"domain\":[0.0,1.0],\"title\":{\"text\":\"Change\"}},\"legend\":{\"tracegroupgap\":0},\"margin\":{\"t\":60}},                        {\"responsive\": true}                    ).then(function(){\n",
       "                            \n",
       "var gd = document.getElementById('4f37f219-e844-489b-8989-cfbec1c6776e');\n",
       "var x = new MutationObserver(function (mutations, observer) {{\n",
       "        var display = window.getComputedStyle(gd).display;\n",
       "        if (!display || display === 'none') {{\n",
       "            console.log([gd, 'removed!']);\n",
       "            Plotly.purge(gd);\n",
       "            observer.disconnect();\n",
       "        }}\n",
       "}});\n",
       "\n",
       "// Listen for the removal of the full notebook cells\n",
       "var notebookContainer = gd.closest('#notebook-container');\n",
       "if (notebookContainer) {{\n",
       "    x.observe(notebookContainer, {childList: true});\n",
       "}}\n",
       "\n",
       "// Listen for the clearing of the current output cell\n",
       "var outputEl = gd.closest('.output');\n",
       "if (outputEl) {{\n",
       "    x.observe(outputEl, {childList: true});\n",
       "}}\n",
       "\n",
       "                        })                };                });            </script>        </div>"
      ]
     },
     "metadata": {},
     "output_type": "display_data"
    }
   ],
   "source": [
    "import plotly.express as px\n",
    "\n",
    "fig = px.line(df, x=\"Date\", y=\"Change\", markers=True)\n",
    "fig.show()"
   ]
  },
  {
   "cell_type": "code",
   "execution_count": 194,
   "id": "76f8f8d3",
   "metadata": {},
   "outputs": [],
   "source": [
    "df= df.sort_values(by='Date')\n",
    "df.reset_index(drop=True, inplace=True)"
   ]
  },
  {
   "cell_type": "code",
   "execution_count": 195,
   "id": "58971dab",
   "metadata": {},
   "outputs": [],
   "source": [
    "train = df[df['Date']<'2023-03-01']\n",
    "test = df[df['Date']>='2023-03-01']"
   ]
  },
  {
   "cell_type": "code",
   "execution_count": 196,
   "id": "c3be6ec0",
   "metadata": {},
   "outputs": [
    {
     "name": "stderr",
     "output_type": "stream",
     "text": [
      "C:\\Users\\Farah\\AppData\\Local\\Temp\\ipykernel_11360\\2246764937.py:1: SettingWithCopyWarning:\n",
      "\n",
      "\n",
      "A value is trying to be set on a copy of a slice from a DataFrame\n",
      "\n",
      "See the caveats in the documentation: https://pandas.pydata.org/pandas-docs/stable/user_guide/indexing.html#returning-a-view-versus-a-copy\n",
      "\n"
     ]
    },
    {
     "data": {
      "text/html": [
       "<div>\n",
       "<style scoped>\n",
       "    .dataframe tbody tr th:only-of-type {\n",
       "        vertical-align: middle;\n",
       "    }\n",
       "\n",
       "    .dataframe tbody tr th {\n",
       "        vertical-align: top;\n",
       "    }\n",
       "\n",
       "    .dataframe thead th {\n",
       "        text-align: right;\n",
       "    }\n",
       "</style>\n",
       "<table border=\"1\" class=\"dataframe\">\n",
       "  <thead>\n",
       "    <tr style=\"text-align: right;\">\n",
       "      <th></th>\n",
       "      <th>Date</th>\n",
       "      <th>Price</th>\n",
       "      <th>change_percentage</th>\n",
       "      <th>Change</th>\n",
       "      <th>EGX_SENT</th>\n",
       "      <th>INV_SENT</th>\n",
       "    </tr>\n",
       "  </thead>\n",
       "  <tbody>\n",
       "    <tr>\n",
       "      <th>0</th>\n",
       "      <td>2022-01-02</td>\n",
       "      <td>11909.72</td>\n",
       "      <td>0</td>\n",
       "      <td>-0.33</td>\n",
       "      <td>0.0</td>\n",
       "      <td>0.0</td>\n",
       "    </tr>\n",
       "    <tr>\n",
       "      <th>1</th>\n",
       "      <td>2022-01-03</td>\n",
       "      <td>11897.40</td>\n",
       "      <td>0</td>\n",
       "      <td>-0.10</td>\n",
       "      <td>0.0</td>\n",
       "      <td>0.0</td>\n",
       "    </tr>\n",
       "    <tr>\n",
       "      <th>2</th>\n",
       "      <td>2022-01-04</td>\n",
       "      <td>11982.61</td>\n",
       "      <td>1</td>\n",
       "      <td>0.72</td>\n",
       "      <td>0.0</td>\n",
       "      <td>0.0</td>\n",
       "    </tr>\n",
       "    <tr>\n",
       "      <th>3</th>\n",
       "      <td>2022-01-05</td>\n",
       "      <td>12043.42</td>\n",
       "      <td>1</td>\n",
       "      <td>0.51</td>\n",
       "      <td>0.0</td>\n",
       "      <td>0.0</td>\n",
       "    </tr>\n",
       "    <tr>\n",
       "      <th>4</th>\n",
       "      <td>2022-01-09</td>\n",
       "      <td>11978.56</td>\n",
       "      <td>0</td>\n",
       "      <td>-0.54</td>\n",
       "      <td>0.0</td>\n",
       "      <td>0.0</td>\n",
       "    </tr>\n",
       "    <tr>\n",
       "      <th>...</th>\n",
       "      <td>...</td>\n",
       "      <td>...</td>\n",
       "      <td>...</td>\n",
       "      <td>...</td>\n",
       "      <td>...</td>\n",
       "      <td>...</td>\n",
       "    </tr>\n",
       "    <tr>\n",
       "      <th>279</th>\n",
       "      <td>2023-02-22</td>\n",
       "      <td>16777.20</td>\n",
       "      <td>0</td>\n",
       "      <td>-1.54</td>\n",
       "      <td>0.0</td>\n",
       "      <td>1.0</td>\n",
       "    </tr>\n",
       "    <tr>\n",
       "      <th>280</th>\n",
       "      <td>2023-02-23</td>\n",
       "      <td>17003.90</td>\n",
       "      <td>1</td>\n",
       "      <td>1.35</td>\n",
       "      <td>0.0</td>\n",
       "      <td>1.0</td>\n",
       "    </tr>\n",
       "    <tr>\n",
       "      <th>281</th>\n",
       "      <td>2023-02-26</td>\n",
       "      <td>17213.01</td>\n",
       "      <td>1</td>\n",
       "      <td>1.23</td>\n",
       "      <td>0.0</td>\n",
       "      <td>0.0</td>\n",
       "    </tr>\n",
       "    <tr>\n",
       "      <th>282</th>\n",
       "      <td>2023-02-27</td>\n",
       "      <td>17098.16</td>\n",
       "      <td>0</td>\n",
       "      <td>-0.67</td>\n",
       "      <td>0.0</td>\n",
       "      <td>0.0</td>\n",
       "    </tr>\n",
       "    <tr>\n",
       "      <th>283</th>\n",
       "      <td>2023-02-28</td>\n",
       "      <td>17002.08</td>\n",
       "      <td>0</td>\n",
       "      <td>-0.56</td>\n",
       "      <td>0.0</td>\n",
       "      <td>0.0</td>\n",
       "    </tr>\n",
       "  </tbody>\n",
       "</table>\n",
       "<p>284 rows × 6 columns</p>\n",
       "</div>"
      ],
      "text/plain": [
       "           Date     Price  change_percentage  Change  EGX_SENT  INV_SENT\n",
       "0    2022-01-02  11909.72                  0   -0.33       0.0       0.0\n",
       "1    2022-01-03  11897.40                  0   -0.10       0.0       0.0\n",
       "2    2022-01-04  11982.61                  1    0.72       0.0       0.0\n",
       "3    2022-01-05  12043.42                  1    0.51       0.0       0.0\n",
       "4    2022-01-09  11978.56                  0   -0.54       0.0       0.0\n",
       "..          ...       ...                ...     ...       ...       ...\n",
       "279  2023-02-22  16777.20                  0   -1.54       0.0       1.0\n",
       "280  2023-02-23  17003.90                  1    1.35       0.0       1.0\n",
       "281  2023-02-26  17213.01                  1    1.23       0.0       0.0\n",
       "282  2023-02-27  17098.16                  0   -0.67       0.0       0.0\n",
       "283  2023-02-28  17002.08                  0   -0.56       0.0       0.0\n",
       "\n",
       "[284 rows x 6 columns]"
      ]
     },
     "execution_count": 196,
     "metadata": {},
     "output_type": "execute_result"
    }
   ],
   "source": [
    "train.fillna(0,inplace=True)\n",
    "train"
   ]
  },
  {
   "cell_type": "code",
   "execution_count": 197,
   "id": "9cc27f7f",
   "metadata": {},
   "outputs": [],
   "source": [
    "exog_vars = ['INV_SENT', 'EGX_SENT']\n"
   ]
  },
  {
   "cell_type": "code",
   "execution_count": 198,
   "id": "b0bef5dc",
   "metadata": {},
   "outputs": [
    {
     "name": "stderr",
     "output_type": "stream",
     "text": [
      "D:\\anaconda\\Lib\\site-packages\\statsmodels\\tsa\\statespace\\sarimax.py:978: UserWarning:\n",
      "\n",
      "Non-invertible starting MA parameters found. Using zeros as starting parameters.\n",
      "\n",
      "D:\\anaconda\\Lib\\site-packages\\statsmodels\\base\\model.py:607: ConvergenceWarning:\n",
      "\n",
      "Maximum Likelihood optimization failed to converge. Check mle_retvals\n",
      "\n"
     ]
    }
   ],
   "source": [
    "sarimax_model = SARIMAX(train['change_percentage'], exog=train[exog_vars], order=(2,2,2), seasonal_order=(0, 1, 0, 12))\n",
    "\n",
    "sarimax_results = sarimax_model.fit()\n"
   ]
  },
  {
   "cell_type": "code",
   "execution_count": 199,
   "id": "10c1fd6c",
   "metadata": {},
   "outputs": [],
   "source": [
    "sarimax_forecast = sarimax_results.predict(start=test.index[0], end=test.index[-1], exog=test[exog_vars])\n"
   ]
  },
  {
   "cell_type": "code",
   "execution_count": 200,
   "id": "3dd9ee36",
   "metadata": {},
   "outputs": [
    {
     "name": "stderr",
     "output_type": "stream",
     "text": [
      "C:\\Users\\Farah\\AppData\\Local\\Temp\\ipykernel_11360\\599234636.py:1: SettingWithCopyWarning:\n",
      "\n",
      "\n",
      "A value is trying to be set on a copy of a slice from a DataFrame.\n",
      "Try using .loc[row_indexer,col_indexer] = value instead\n",
      "\n",
      "See the caveats in the documentation: https://pandas.pydata.org/pandas-docs/stable/user_guide/indexing.html#returning-a-view-versus-a-copy\n",
      "\n"
     ]
    }
   ],
   "source": [
    "\n",
    "test['pred'] = sarimax_forecast\n"
   ]
  },
  {
   "cell_type": "code",
   "execution_count": 201,
   "id": "efe75f86",
   "metadata": {},
   "outputs": [
    {
     "data": {
      "application/vnd.plotly.v1+json": {
       "config": {
        "plotlyServerURL": "https://plot.ly"
       },
       "data": [
        {
         "hovertemplate": "Date=%{x}<br>change_percentage=%{y}<extra></extra>",
         "legendgroup": "",
         "line": {
          "color": "#636efa",
          "dash": "solid"
         },
         "marker": {
          "symbol": "circle"
         },
         "mode": "lines+markers",
         "name": "",
         "orientation": "v",
         "showlegend": false,
         "type": "scatter",
         "x": [
          "2022-01-02",
          "2022-01-03",
          "2022-01-04",
          "2022-01-05",
          "2022-01-09",
          "2022-01-10",
          "2022-01-11",
          "2022-01-12",
          "2022-01-13",
          "2022-01-16",
          "2022-01-17",
          "2022-01-18",
          "2022-01-19",
          "2022-01-20",
          "2022-01-23",
          "2022-01-24",
          "2022-01-25",
          "2022-01-26",
          "2022-01-30",
          "2022-01-31",
          "2022-02-01",
          "2022-02-02",
          "2022-02-03",
          "2022-02-06",
          "2022-02-07",
          "2022-02-08",
          "2022-02-09",
          "2022-02-10",
          "2022-02-13",
          "2022-02-14",
          "2022-02-15",
          "2022-02-16",
          "2022-02-17",
          "2022-02-20",
          "2022-02-21",
          "2022-02-22",
          "2022-02-23",
          "2022-02-24",
          "2022-02-27",
          "2022-02-28",
          "2022-03-01",
          "2022-03-02",
          "2022-03-03",
          "2022-03-06",
          "2022-03-07",
          "2022-03-08",
          "2022-03-09",
          "2022-03-10",
          "2022-03-13",
          "2022-03-14",
          "2022-03-15",
          "2022-03-16",
          "2022-03-17",
          "2022-03-20",
          "2022-03-21",
          "2022-03-22",
          "2022-03-23",
          "2022-03-24",
          "2022-03-27",
          "2022-03-28",
          "2022-03-29",
          "2022-03-30",
          "2022-03-31",
          "2022-04-03",
          "2022-04-04",
          "2022-04-05",
          "2022-04-06",
          "2022-04-07",
          "2022-04-10",
          "2022-04-11",
          "2022-04-12",
          "2022-04-13",
          "2022-04-14",
          "2022-04-17",
          "2022-04-18",
          "2022-04-19",
          "2022-04-20",
          "2022-04-21",
          "2022-04-26",
          "2022-04-27",
          "2022-04-28",
          "2022-05-08",
          "2022-05-09",
          "2022-05-10",
          "2022-05-11",
          "2022-05-12",
          "2022-05-15",
          "2022-05-16",
          "2022-05-17",
          "2022-05-18",
          "2022-05-19",
          "2022-05-22",
          "2022-05-23",
          "2022-05-24",
          "2022-05-25",
          "2022-05-26",
          "2022-05-29",
          "2022-05-30",
          "2022-05-31",
          "2022-06-01",
          "2022-06-02",
          "2022-06-05",
          "2022-06-06",
          "2022-06-07",
          "2022-06-08",
          "2022-06-09",
          "2022-06-12",
          "2022-06-13",
          "2022-06-14",
          "2022-06-15",
          "2022-06-16",
          "2022-06-19",
          "2022-06-20",
          "2022-06-21",
          "2022-06-22",
          "2022-06-23",
          "2022-06-26",
          "2022-06-27",
          "2022-06-28",
          "2022-06-29",
          "2022-07-03",
          "2022-07-04",
          "2022-07-05",
          "2022-07-06",
          "2022-07-07",
          "2022-07-17",
          "2022-07-18",
          "2022-07-19",
          "2022-07-20",
          "2022-07-21",
          "2022-07-24",
          "2022-07-25",
          "2022-07-26",
          "2022-07-27",
          "2022-07-28",
          "2022-07-31",
          "2022-08-01",
          "2022-08-02",
          "2022-08-03",
          "2022-08-04",
          "2022-08-07",
          "2022-08-08",
          "2022-08-09",
          "2022-08-10",
          "2022-08-11",
          "2022-08-14",
          "2022-08-15",
          "2022-08-16",
          "2022-08-17",
          "2022-08-18",
          "2022-08-21",
          "2022-08-22",
          "2022-08-23",
          "2022-08-24",
          "2022-08-25",
          "2022-08-28",
          "2022-08-29",
          "2022-08-30",
          "2022-08-31",
          "2022-09-01",
          "2022-09-04",
          "2022-09-05",
          "2022-09-06",
          "2022-09-07",
          "2022-09-08",
          "2022-09-11",
          "2022-09-12",
          "2022-09-13",
          "2022-09-14",
          "2022-09-15",
          "2022-09-18",
          "2022-09-19",
          "2022-09-20",
          "2022-09-21",
          "2022-09-22",
          "2022-09-25",
          "2022-09-26",
          "2022-09-27",
          "2022-09-28",
          "2022-09-29",
          "2022-10-02",
          "2022-10-03",
          "2022-10-04",
          "2022-10-05",
          "2022-10-09",
          "2022-10-10",
          "2022-10-11",
          "2022-10-12",
          "2022-10-13",
          "2022-10-16",
          "2022-10-17",
          "2022-10-18",
          "2022-10-19",
          "2022-10-20",
          "2022-10-23",
          "2022-10-24",
          "2022-10-25",
          "2022-10-26",
          "2022-10-27",
          "2022-10-30",
          "2022-10-31",
          "2022-11-01",
          "2022-11-02",
          "2022-11-03",
          "2022-11-06",
          "2022-11-07",
          "2022-11-08",
          "2022-11-09",
          "2022-11-10",
          "2022-11-13",
          "2022-11-14",
          "2022-11-15",
          "2022-11-16",
          "2022-11-17",
          "2022-11-20",
          "2022-11-21",
          "2022-11-22",
          "2022-11-23",
          "2022-11-24",
          "2022-11-27",
          "2022-11-28",
          "2022-11-29",
          "2022-11-30",
          "2022-12-01",
          "2022-12-04",
          "2022-12-05",
          "2022-12-06",
          "2022-12-07",
          "2022-12-08",
          "2022-12-11",
          "2022-12-12",
          "2022-12-13",
          "2022-12-14",
          "2022-12-15",
          "2022-12-18",
          "2022-12-19",
          "2022-12-20",
          "2022-12-21",
          "2022-12-22",
          "2022-12-25",
          "2022-12-26",
          "2022-12-27",
          "2022-12-28",
          "2022-12-29",
          "2023-01-02",
          "2023-01-03",
          "2023-01-04",
          "2023-01-05",
          "2023-01-09",
          "2023-01-10",
          "2023-01-11",
          "2023-01-12",
          "2023-01-15",
          "2023-01-16",
          "2023-01-17",
          "2023-01-18",
          "2023-01-19",
          "2023-01-22",
          "2023-01-23",
          "2023-01-24",
          "2023-01-25",
          "2023-01-29",
          "2023-01-30",
          "2023-01-31",
          "2023-02-01",
          "2023-02-02",
          "2023-02-05",
          "2023-02-06",
          "2023-02-07",
          "2023-02-08",
          "2023-02-09",
          "2023-02-12",
          "2023-02-13",
          "2023-02-14",
          "2023-02-15",
          "2023-02-16",
          "2023-02-19",
          "2023-02-20",
          "2023-02-21",
          "2023-02-22",
          "2023-02-23",
          "2023-02-26",
          "2023-02-27",
          "2023-02-28"
         ],
         "xaxis": "x",
         "y": [
          0,
          0,
          1,
          1,
          0,
          1,
          0,
          1,
          0,
          0,
          1,
          1,
          0,
          1,
          0,
          0,
          0,
          0,
          0,
          1,
          1,
          1,
          0,
          1,
          0,
          0,
          1,
          0,
          0,
          0,
          1,
          1,
          0,
          0,
          1,
          0,
          0,
          0,
          1,
          0,
          1,
          0,
          1,
          0,
          0,
          0,
          1,
          1,
          1,
          0,
          1,
          1,
          1,
          1,
          1,
          1,
          1,
          0,
          0,
          0,
          1,
          0,
          0,
          1,
          0,
          0,
          0,
          0,
          0,
          0,
          1,
          0,
          0,
          1,
          1,
          0,
          0,
          1,
          1,
          1,
          1,
          1,
          0,
          0,
          1,
          0,
          0,
          0,
          0,
          1,
          1,
          0,
          1,
          0,
          0,
          0,
          0,
          1,
          1,
          0,
          0,
          0,
          0,
          1,
          1,
          0,
          0,
          0,
          0,
          0,
          0,
          0,
          0,
          1,
          0,
          0,
          1,
          0,
          0,
          1,
          0,
          0,
          0,
          1,
          1,
          1,
          1,
          1,
          1,
          1,
          0,
          0,
          1,
          0,
          1,
          1,
          0,
          1,
          1,
          1,
          1,
          0,
          0,
          0,
          1,
          0,
          0,
          0,
          1,
          1,
          1,
          0,
          0,
          0,
          1,
          0,
          0,
          1,
          0,
          0,
          1,
          1,
          1,
          0,
          1,
          1,
          1,
          0,
          0,
          0,
          0,
          1,
          1,
          0,
          0,
          0,
          0,
          0,
          0,
          1,
          0,
          0,
          1,
          1,
          0,
          1,
          0,
          0,
          1,
          1,
          1,
          1,
          0,
          1,
          0,
          1,
          1,
          1,
          1,
          1,
          1,
          1,
          0,
          1,
          0,
          1,
          0,
          1,
          0,
          1,
          1,
          1,
          1,
          1,
          1,
          0,
          1,
          0,
          1,
          1,
          0,
          1,
          1,
          1,
          1,
          1,
          1,
          1,
          1,
          0,
          1,
          1,
          1,
          0,
          0,
          0,
          0,
          1,
          0,
          0,
          1,
          0,
          1,
          1,
          1,
          1,
          1,
          1,
          1,
          0,
          1,
          1,
          1,
          1,
          1,
          1,
          1,
          1,
          1,
          1,
          1,
          1,
          0,
          0,
          0,
          0,
          1,
          1,
          1,
          1,
          1,
          0,
          0,
          1,
          1,
          0,
          0,
          0,
          1,
          0,
          1,
          1,
          0,
          0
         ],
         "yaxis": "y"
        },
        {
         "line": {
          "color": "red"
         },
         "mode": "lines",
         "name": "Test Data",
         "type": "scatter",
         "x": [
          "2023-03-01",
          "2023-03-02",
          "2023-03-05",
          "2023-03-06",
          "2023-03-07",
          "2023-03-08",
          "2023-03-09",
          "2023-03-12",
          "2023-03-13",
          "2023-03-14",
          "2023-03-15",
          "2023-03-16",
          "2023-03-19",
          "2023-03-20",
          "2023-03-21",
          "2023-03-22",
          "2023-03-23",
          "2023-03-26",
          "2023-03-27",
          "2023-03-28",
          "2023-03-29",
          "2023-03-30",
          "2023-04-02",
          "2023-04-03",
          "2023-04-04",
          "2023-04-05",
          "2023-04-06",
          "2023-04-09",
          "2023-04-10",
          "2023-04-11",
          "2023-04-12",
          "2023-04-13",
          "2023-04-18",
          "2023-04-19",
          "2023-04-26",
          "2023-04-27",
          "2023-04-30",
          "2023-05-01",
          "2023-05-02",
          "2023-05-03",
          "2023-05-07",
          "2023-05-08",
          "2023-05-09",
          "2023-05-10",
          "2023-05-11",
          "2023-05-14",
          "2023-05-15",
          "2023-05-16",
          "2023-05-17",
          "2023-05-18",
          "2023-05-21",
          "2023-05-22",
          "2023-05-23",
          "2023-05-24",
          "2023-05-25",
          "2023-05-28",
          "2023-05-29",
          "2023-05-30",
          "2023-05-31",
          "2023-06-01",
          "2023-06-04",
          "2023-06-05",
          "2023-06-06",
          "2023-06-07",
          "2023-06-08",
          "2023-06-11",
          "2023-06-12",
          "2023-06-13",
          "2023-06-14",
          "2023-06-15",
          "2023-06-18",
          "2023-06-19",
          "2023-06-20",
          "2023-06-21",
          "2023-06-22",
          "2023-06-25",
          "2023-06-26",
          "2023-07-04",
          "2023-07-05",
          "2023-07-06",
          "2023-07-09",
          "2023-07-10",
          "2023-07-11",
          "2023-07-12",
          "2023-07-13",
          "2023-07-16",
          "2023-07-17",
          "2023-07-18",
          "2023-07-19",
          "2023-07-24",
          "2023-07-25",
          "2023-07-26",
          "2023-07-27",
          "2023-07-30",
          "2023-07-31",
          "2023-08-01",
          "2023-08-02",
          "2023-08-03",
          "2023-08-06",
          "2023-08-07",
          "2023-08-08",
          "2023-08-09",
          "2023-08-10",
          "2023-08-13",
          "2023-08-14",
          "2023-08-15",
          "2023-08-16",
          "2023-08-17",
          "2023-08-20",
          "2023-08-21",
          "2023-08-22",
          "2023-08-23",
          "2023-08-24",
          "2023-08-27",
          "2023-08-28",
          "2023-08-29",
          "2023-08-30",
          "2023-08-31",
          "2023-09-03",
          "2023-09-04",
          "2023-09-05",
          "2023-09-06",
          "2023-09-07",
          "2023-09-10",
          "2023-09-11",
          "2023-09-12",
          "2023-09-13",
          "2023-09-14",
          "2023-09-17",
          "2023-09-18",
          "2023-09-19",
          "2023-09-20",
          "2023-09-21",
          "2023-09-24",
          "2023-09-25",
          "2023-09-26",
          "2023-09-27",
          "2023-10-01",
          "2023-10-02",
          "2023-10-03",
          "2023-10-04",
          "2023-10-08",
          "2023-10-09",
          "2023-10-10",
          "2023-10-11",
          "2023-10-12",
          "2023-10-15",
          "2023-10-16",
          "2023-10-17",
          "2023-10-18",
          "2023-10-19",
          "2023-10-22",
          "2023-10-23",
          "2023-10-24",
          "2023-10-25",
          "2023-10-26",
          "2023-10-29",
          "2023-10-30",
          "2023-10-31",
          "2023-11-01",
          "2023-11-02",
          "2023-11-05",
          "2023-11-06",
          "2023-11-07",
          "2023-11-08",
          "2023-11-09",
          "2023-11-12",
          "2023-11-13",
          "2023-11-14",
          "2023-11-15",
          "2023-11-16",
          "2023-11-19",
          "2023-11-20",
          "2023-11-21",
          "2023-11-22",
          "2023-11-23",
          "2023-11-26",
          "2023-11-27",
          "2023-11-28",
          "2023-11-29",
          "2023-11-30",
          "2023-12-03",
          "2023-12-04",
          "2023-12-05",
          "2023-12-06",
          "2023-12-07",
          "2023-12-10",
          "2023-12-11",
          "2023-12-12",
          "2023-12-13",
          "2023-12-14",
          "2023-12-17",
          "2023-12-18",
          "2023-12-19",
          "2023-12-20",
          "2023-12-21",
          "2023-12-24",
          "2023-12-25",
          "2023-12-26",
          "2023-12-27",
          "2023-12-28",
          "2023-12-31",
          "2024-01-02",
          "2024-01-03",
          "2024-01-04",
          "2024-01-08",
          "2024-01-09",
          "2024-01-10",
          "2024-01-11",
          "2024-01-14",
          "2024-01-15",
          "2024-01-16",
          "2024-01-17",
          "2024-01-18",
          "2024-01-21",
          "2024-01-22",
          "2024-01-23",
          "2024-01-24",
          "2024-01-28",
          "2024-01-29",
          "2024-01-30",
          "2024-01-31",
          "2024-02-01",
          "2024-02-04",
          "2024-02-05",
          "2024-02-06",
          "2024-02-07",
          "2024-02-08",
          "2024-02-11",
          "2024-02-12",
          "2024-02-13",
          "2024-02-14",
          "2024-02-15",
          "2024-02-18",
          "2024-02-19",
          "2024-02-20",
          "2024-02-21",
          "2024-02-22",
          "2024-02-25",
          "2024-02-26",
          "2024-02-27",
          "2024-02-28",
          "2024-02-29",
          "2024-03-03",
          "2024-03-04",
          "2024-03-05",
          "2024-03-06",
          "2024-03-07",
          "2024-03-10",
          "2024-03-11",
          "2024-03-12",
          "2024-03-13",
          "2024-03-14",
          "2024-03-17",
          "2024-03-18",
          "2024-03-19",
          "2024-03-20",
          "2024-03-21",
          "2024-03-24",
          "2024-03-25",
          "2024-03-26"
         ],
         "y": [
          1,
          0,
          0,
          0,
          0,
          0,
          1,
          0,
          0,
          0,
          0,
          0,
          0,
          1,
          1,
          0,
          1,
          1,
          0,
          0,
          1,
          1,
          1,
          1,
          0,
          1,
          0,
          0,
          1,
          1,
          0,
          1,
          0,
          0,
          0,
          1,
          0,
          0,
          0,
          0,
          0,
          1,
          0,
          1,
          0,
          1,
          0,
          0,
          0,
          0,
          1,
          0,
          1,
          1,
          0,
          1,
          1,
          1,
          0,
          1,
          0,
          0,
          1,
          0,
          1,
          1,
          0,
          1,
          1,
          1,
          1,
          0,
          0,
          0,
          1,
          0,
          1,
          0,
          0,
          0,
          0,
          1,
          1,
          0,
          1,
          -1,
          1,
          1,
          0,
          0,
          0,
          0,
          0,
          1,
          1,
          0,
          0,
          0,
          1,
          1,
          0,
          1,
          0,
          1,
          1,
          1,
          1,
          0,
          1,
          0,
          1,
          0,
          1,
          1,
          1,
          1,
          1,
          1,
          0,
          1,
          1,
          1,
          1,
          1,
          0,
          0,
          1,
          1,
          1,
          1,
          1,
          0,
          1,
          1,
          1,
          1,
          0,
          0,
          0,
          0,
          1,
          0,
          1,
          1,
          0,
          1,
          1,
          1,
          1,
          1,
          0,
          1,
          1,
          0,
          1,
          1,
          0,
          1,
          0,
          0,
          1,
          1,
          0,
          1,
          1,
          1,
          0,
          1,
          0,
          1,
          1,
          1,
          0,
          1,
          1,
          1,
          0,
          1,
          0,
          0,
          0,
          0,
          1,
          0,
          0,
          0,
          0,
          0,
          0,
          1,
          0,
          1,
          1,
          0,
          0,
          0,
          0,
          1,
          0,
          1,
          1,
          1,
          1,
          0,
          0,
          0,
          1,
          0,
          1,
          1,
          1,
          1,
          0,
          1,
          1,
          1,
          0,
          1,
          1,
          1,
          1,
          0,
          1,
          0,
          1,
          0,
          1,
          1,
          0,
          1,
          1,
          1,
          1,
          1,
          1,
          0,
          0,
          1,
          0,
          1,
          1,
          0,
          1,
          1,
          1,
          1,
          0,
          1,
          1,
          1,
          0,
          0,
          1,
          0,
          0,
          0,
          0,
          1,
          1,
          1,
          0
         ]
        },
        {
         "line": {
          "color": "green"
         },
         "mode": "lines",
         "name": "Predicted Data",
         "type": "scatter",
         "x": [
          "2023-03-01",
          "2023-03-02",
          "2023-03-05",
          "2023-03-06",
          "2023-03-07",
          "2023-03-08",
          "2023-03-09",
          "2023-03-12",
          "2023-03-13",
          "2023-03-14",
          "2023-03-15",
          "2023-03-16",
          "2023-03-19",
          "2023-03-20",
          "2023-03-21",
          "2023-03-22",
          "2023-03-23",
          "2023-03-26",
          "2023-03-27",
          "2023-03-28",
          "2023-03-29",
          "2023-03-30",
          "2023-04-02",
          "2023-04-03",
          "2023-04-04",
          "2023-04-05",
          "2023-04-06",
          "2023-04-09",
          "2023-04-10",
          "2023-04-11",
          "2023-04-12",
          "2023-04-13",
          "2023-04-18",
          "2023-04-19",
          "2023-04-26",
          "2023-04-27",
          "2023-04-30",
          "2023-05-01",
          "2023-05-02",
          "2023-05-03",
          "2023-05-07",
          "2023-05-08",
          "2023-05-09",
          "2023-05-10",
          "2023-05-11",
          "2023-05-14",
          "2023-05-15",
          "2023-05-16",
          "2023-05-17",
          "2023-05-18",
          "2023-05-21",
          "2023-05-22",
          "2023-05-23",
          "2023-05-24",
          "2023-05-25",
          "2023-05-28",
          "2023-05-29",
          "2023-05-30",
          "2023-05-31",
          "2023-06-01",
          "2023-06-04",
          "2023-06-05",
          "2023-06-06",
          "2023-06-07",
          "2023-06-08",
          "2023-06-11",
          "2023-06-12",
          "2023-06-13",
          "2023-06-14",
          "2023-06-15",
          "2023-06-18",
          "2023-06-19",
          "2023-06-20",
          "2023-06-21",
          "2023-06-22",
          "2023-06-25",
          "2023-06-26",
          "2023-07-04",
          "2023-07-05",
          "2023-07-06",
          "2023-07-09",
          "2023-07-10",
          "2023-07-11",
          "2023-07-12",
          "2023-07-13",
          "2023-07-16",
          "2023-07-17",
          "2023-07-18",
          "2023-07-19",
          "2023-07-24",
          "2023-07-25",
          "2023-07-26",
          "2023-07-27",
          "2023-07-30",
          "2023-07-31",
          "2023-08-01",
          "2023-08-02",
          "2023-08-03",
          "2023-08-06",
          "2023-08-07",
          "2023-08-08",
          "2023-08-09",
          "2023-08-10",
          "2023-08-13",
          "2023-08-14",
          "2023-08-15",
          "2023-08-16",
          "2023-08-17",
          "2023-08-20",
          "2023-08-21",
          "2023-08-22",
          "2023-08-23",
          "2023-08-24",
          "2023-08-27",
          "2023-08-28",
          "2023-08-29",
          "2023-08-30",
          "2023-08-31",
          "2023-09-03",
          "2023-09-04",
          "2023-09-05",
          "2023-09-06",
          "2023-09-07",
          "2023-09-10",
          "2023-09-11",
          "2023-09-12",
          "2023-09-13",
          "2023-09-14",
          "2023-09-17",
          "2023-09-18",
          "2023-09-19",
          "2023-09-20",
          "2023-09-21",
          "2023-09-24",
          "2023-09-25",
          "2023-09-26",
          "2023-09-27",
          "2023-10-01",
          "2023-10-02",
          "2023-10-03",
          "2023-10-04",
          "2023-10-08",
          "2023-10-09",
          "2023-10-10",
          "2023-10-11",
          "2023-10-12",
          "2023-10-15",
          "2023-10-16",
          "2023-10-17",
          "2023-10-18",
          "2023-10-19",
          "2023-10-22",
          "2023-10-23",
          "2023-10-24",
          "2023-10-25",
          "2023-10-26",
          "2023-10-29",
          "2023-10-30",
          "2023-10-31",
          "2023-11-01",
          "2023-11-02",
          "2023-11-05",
          "2023-11-06",
          "2023-11-07",
          "2023-11-08",
          "2023-11-09",
          "2023-11-12",
          "2023-11-13",
          "2023-11-14",
          "2023-11-15",
          "2023-11-16",
          "2023-11-19",
          "2023-11-20",
          "2023-11-21",
          "2023-11-22",
          "2023-11-23",
          "2023-11-26",
          "2023-11-27",
          "2023-11-28",
          "2023-11-29",
          "2023-11-30",
          "2023-12-03",
          "2023-12-04",
          "2023-12-05",
          "2023-12-06",
          "2023-12-07",
          "2023-12-10",
          "2023-12-11",
          "2023-12-12",
          "2023-12-13",
          "2023-12-14",
          "2023-12-17",
          "2023-12-18",
          "2023-12-19",
          "2023-12-20",
          "2023-12-21",
          "2023-12-24",
          "2023-12-25",
          "2023-12-26",
          "2023-12-27",
          "2023-12-28",
          "2023-12-31",
          "2024-01-02",
          "2024-01-03",
          "2024-01-04",
          "2024-01-08",
          "2024-01-09",
          "2024-01-10",
          "2024-01-11",
          "2024-01-14",
          "2024-01-15",
          "2024-01-16",
          "2024-01-17",
          "2024-01-18",
          "2024-01-21",
          "2024-01-22",
          "2024-01-23",
          "2024-01-24",
          "2024-01-28",
          "2024-01-29",
          "2024-01-30",
          "2024-01-31",
          "2024-02-01",
          "2024-02-04",
          "2024-02-05",
          "2024-02-06",
          "2024-02-07",
          "2024-02-08",
          "2024-02-11",
          "2024-02-12",
          "2024-02-13",
          "2024-02-14",
          "2024-02-15",
          "2024-02-18",
          "2024-02-19",
          "2024-02-20",
          "2024-02-21",
          "2024-02-22",
          "2024-02-25",
          "2024-02-26",
          "2024-02-27",
          "2024-02-28",
          "2024-02-29",
          "2024-03-03",
          "2024-03-04",
          "2024-03-05",
          "2024-03-06",
          "2024-03-07",
          "2024-03-10",
          "2024-03-11",
          "2024-03-12",
          "2024-03-13",
          "2024-03-14",
          "2024-03-17",
          "2024-03-18",
          "2024-03-19",
          "2024-03-20",
          "2024-03-21",
          "2024-03-24",
          "2024-03-25",
          "2024-03-26"
         ],
         "y": [
          0.34551118060963465,
          0.9914790872282211,
          1.0046076604918088,
          0.4220161907149035,
          0.42260080353389345,
          0.008049198790067436,
          1.0080991884518473,
          0.8375168002743187,
          1.4228505204524344,
          1.0081834240748924,
          0.008209475677673161,
          0.008235492209261255,
          -0.06092063512433027,
          0.9997665964577305,
          1.012921177166109,
          0.8450490319758059,
          0.016273017748466345,
          0.016440737575055986,
          1.0165167346001678,
          0.43126703657934384,
          1.431320081327155,
          1.0166789923127957,
          0.016731051278757958,
          0.01678307517352756,
          -0.05234704479688257,
          0.5936728769418516,
          0.6068534650134119,
          0.4390073271862902,
          0.43964395473514783,
          0.025144364718410805,
          1.4399396863132117,
          0.02532936124255286,
          1.0254084133535453,
          1.025486648908875,
          0.44025803244452627,
          0.02564274649596887,
          0.3712319510952478,
          1.017277880197163,
          1.0304844756319043,
          0.4479710279614557,
          0.4486336628734944,
          -0.3805332369865696,
          1.4489814091779203,
          0.4490904086769507,
          1.4491954681511243,
          1.0346063938631271,
          0.034710467555451485,
          -0.3798788110299249,
          0.3804297181390431,
          1.0265016546041392,
          1.0397342574020616,
          0.042553499888286106,
          0.4579354593700138,
          0.04348788407963883,
          1.4583352204008018,
          0.8731635444695209,
          1.4586012941003674,
          1.0440382271755513,
          -0.3705250089754513,
          -0.37039496299113867,
          -0.02475374366549765,
          1.0360375173692875,
          0.634602810323883,
          0.05214137737979646,
          0.4675493442247052,
          -0.36156554090899673,
          1.4680011199818552,
          0.4681621342072477,
          1.053625891201275,
          1.0537821488461478,
          -0.3607550799416737,
          0.054094290612327955,
          0.39976151730115,
          0.6311921512861003,
          1.0591700860168927,
          0.4767346604359872,
          0.477475317437569,
          0.0630797568735561,
          1.4779791079210811,
          0.4781661295096544,
          1.478349211073371,
          1.0638381588749168,
          -0.3506730625497237,
          0.06420231536745902,
          0.4098955494194621,
          1.0560455079741013,
          1.0693561328615668,
          0.07225339743733444,
          0.07302006180209725,
          0.07334382580777338,
          1.4882691842184794,
          0.488482213170234,
          1.4886913020971313,
          0.6595129400553503,
          -0.34027895679960124,
          -0.3400708887257455,
          0.4203416698959466,
          1.066517635813767,
          1.4945475852709214,
          0.08277754000336207,
          0.4982635289378139,
          -0.3307733341063449,
          1.0841780316675422,
          0.49911038518898554,
          1.499345481479064,
          1.084886444006972,
          -0.32957276269130636,
          0.08535462995223841,
          0.016406561524095586,
          0.662608534805097,
          1.0906644916254324,
          0.5083070881340701,
          0.094432450018687,
          0.0948082287507252,
          1.0950922846812854,
          0.51005064556591,
          1.5103117492191693,
          1.0958787191102584,
          -0.31855448022483907,
          -0.31829439742462123,
          0.027476858716924957,
          1.0883981565676153,
          0.687093486338116,
          0.5194554074164426,
          0.5203000938707485,
          -0.30868475444704824,
          1.9357052604662168,
          0.10660967709449837,
          1.521590105317447,
          1.107183082571717,
          -0.30722410940019934,
          0.10775529796970751,
          0.03885924426792675,
          0.6851132322752902,
          1.1132212038219877,
          0.1162224978504795,
          0.5317865088744744,
          0.11752098512636672,
          1.117857055783289,
          0.5328674313942756,
          1.533180549773897,
          1.1187995343913482,
          -0.2955816502173872,
          0.11942376451570069,
          0.05055371817710097,
          1.1115270307541534,
          1.124967692457524,
          0.5426883110557048,
          0.5435850122363728,
          0.1293454958514461,
          1.1297075738715494,
          0.13005063963920888,
          1.5450830825885196,
          1.1307280745691517,
          -0.2836271026764026,
          0.1314043194198663,
          0.06256028044444761,
          0.7088662831781731,
          1.1370262694512328,
          0.14007957820608657,
          0.1410022867499356,
          0.14148209493469793,
          1.5565634975244902,
          0.556932570655331,
          1.1426043865548066,
          1.1429687031051277,
          -0.2713604667772456,
          0.14369696268220433,
          0.07487893106996668,
          1.1359042583733812,
          0.734703617596606,
          0.15247625092114875,
          0.1534249668281788,
          -0.2607625348303858,
          1.5690381923290955,
          0.5694332728231171,
          1.155131096085774,
          1.155521419999276,
          0.15591157468659178,
          -0.2583916229037932,
          0.08750967005365812,
          0.7338676875137458,
          1.1620796885131675,
          0.16518501199438335,
          0.5808530524711024,
          0.16669155817571885,
          1.996518292698381,
          0.16755274614256804,
          1.5826632111814216,
          1.1683862252515969,
          0.16880238730209363,
          0.16921851428139767,
          0.51514581460203,
          0.7468365222187907,
          1.1750745305813934,
          0.5928991786322984,
          0.5938999092656905,
          -0.23492889487302004,
          1.5949238470128233,
          0.595370942233207,
          1.5958140974287338,
          1.18156311886209,
          0.1820052882757679,
          0.18244742261825297,
          0.11370741309555837,
          1.174810762488516,
          0.7736881438012839,
          0.19153879921536981,
          0.607258854418451,
          0.19314937484942946,
          1.6083348068919459,
          0.6088079094755108,
          2.0239703892407266,
          1.1950521008307557,
          0.1955202776076146,
          -0.21870489789322728,
          0.12727441715376714,
          0.7737104567033979,
          0.7873071625858548,
          0.20518382536312169,
          0.6209298879293839,
          0.2068464157235434,
          2.036751172335749,
          0.20786364786947858,
          1.6230521349978755,
          0.7941598539510859,
          -0.20534596190887427,
          0.20984150436648086,
          0.14115350957014833,
          1.202308873689468,
          1.6306249041416139,
          1.048527574282062,
          0.2202196925919812,
          0.22085554495582976,
          1.6360929917247082,
          0.22192479182812724,
          1.637139286319705,
          1.2229663298426043,
          -0.19120679586068273,
          -0.19068663942865455,
          0.5700380075512099,
          1.2165260618272027,
          0.8154814652295137,
          0.6481034599396507,
          1.0639015372322749,
          -0.17951655466021943,
          1.650440216678348,
          0.23629802414494788,
          1.6515385259997069,
          1.2373915768857873,
          0.23793777575218922,
          0.23848393954739844,
          0.584541276683936,
          1.2310553383231098,
          1.2447300662951097,
          0.24799143395541184,
          1.078508835817725,
          0.24981006849491977,
          1.2504062127836524,
          0.2509833448199414,
          1.2515565368313732
         ]
        }
       ],
       "layout": {
        "legend": {
         "tracegroupgap": 0
        },
        "margin": {
         "t": 60
        },
        "template": {
         "data": {
          "bar": [
           {
            "error_x": {
             "color": "#2a3f5f"
            },
            "error_y": {
             "color": "#2a3f5f"
            },
            "marker": {
             "line": {
              "color": "#E5ECF6",
              "width": 0.5
             },
             "pattern": {
              "fillmode": "overlay",
              "size": 10,
              "solidity": 0.2
             }
            },
            "type": "bar"
           }
          ],
          "barpolar": [
           {
            "marker": {
             "line": {
              "color": "#E5ECF6",
              "width": 0.5
             },
             "pattern": {
              "fillmode": "overlay",
              "size": 10,
              "solidity": 0.2
             }
            },
            "type": "barpolar"
           }
          ],
          "carpet": [
           {
            "aaxis": {
             "endlinecolor": "#2a3f5f",
             "gridcolor": "white",
             "linecolor": "white",
             "minorgridcolor": "white",
             "startlinecolor": "#2a3f5f"
            },
            "baxis": {
             "endlinecolor": "#2a3f5f",
             "gridcolor": "white",
             "linecolor": "white",
             "minorgridcolor": "white",
             "startlinecolor": "#2a3f5f"
            },
            "type": "carpet"
           }
          ],
          "choropleth": [
           {
            "colorbar": {
             "outlinewidth": 0,
             "ticks": ""
            },
            "type": "choropleth"
           }
          ],
          "contour": [
           {
            "colorbar": {
             "outlinewidth": 0,
             "ticks": ""
            },
            "colorscale": [
             [
              0,
              "#0d0887"
             ],
             [
              0.1111111111111111,
              "#46039f"
             ],
             [
              0.2222222222222222,
              "#7201a8"
             ],
             [
              0.3333333333333333,
              "#9c179e"
             ],
             [
              0.4444444444444444,
              "#bd3786"
             ],
             [
              0.5555555555555556,
              "#d8576b"
             ],
             [
              0.6666666666666666,
              "#ed7953"
             ],
             [
              0.7777777777777778,
              "#fb9f3a"
             ],
             [
              0.8888888888888888,
              "#fdca26"
             ],
             [
              1,
              "#f0f921"
             ]
            ],
            "type": "contour"
           }
          ],
          "contourcarpet": [
           {
            "colorbar": {
             "outlinewidth": 0,
             "ticks": ""
            },
            "type": "contourcarpet"
           }
          ],
          "heatmap": [
           {
            "colorbar": {
             "outlinewidth": 0,
             "ticks": ""
            },
            "colorscale": [
             [
              0,
              "#0d0887"
             ],
             [
              0.1111111111111111,
              "#46039f"
             ],
             [
              0.2222222222222222,
              "#7201a8"
             ],
             [
              0.3333333333333333,
              "#9c179e"
             ],
             [
              0.4444444444444444,
              "#bd3786"
             ],
             [
              0.5555555555555556,
              "#d8576b"
             ],
             [
              0.6666666666666666,
              "#ed7953"
             ],
             [
              0.7777777777777778,
              "#fb9f3a"
             ],
             [
              0.8888888888888888,
              "#fdca26"
             ],
             [
              1,
              "#f0f921"
             ]
            ],
            "type": "heatmap"
           }
          ],
          "heatmapgl": [
           {
            "colorbar": {
             "outlinewidth": 0,
             "ticks": ""
            },
            "colorscale": [
             [
              0,
              "#0d0887"
             ],
             [
              0.1111111111111111,
              "#46039f"
             ],
             [
              0.2222222222222222,
              "#7201a8"
             ],
             [
              0.3333333333333333,
              "#9c179e"
             ],
             [
              0.4444444444444444,
              "#bd3786"
             ],
             [
              0.5555555555555556,
              "#d8576b"
             ],
             [
              0.6666666666666666,
              "#ed7953"
             ],
             [
              0.7777777777777778,
              "#fb9f3a"
             ],
             [
              0.8888888888888888,
              "#fdca26"
             ],
             [
              1,
              "#f0f921"
             ]
            ],
            "type": "heatmapgl"
           }
          ],
          "histogram": [
           {
            "marker": {
             "pattern": {
              "fillmode": "overlay",
              "size": 10,
              "solidity": 0.2
             }
            },
            "type": "histogram"
           }
          ],
          "histogram2d": [
           {
            "colorbar": {
             "outlinewidth": 0,
             "ticks": ""
            },
            "colorscale": [
             [
              0,
              "#0d0887"
             ],
             [
              0.1111111111111111,
              "#46039f"
             ],
             [
              0.2222222222222222,
              "#7201a8"
             ],
             [
              0.3333333333333333,
              "#9c179e"
             ],
             [
              0.4444444444444444,
              "#bd3786"
             ],
             [
              0.5555555555555556,
              "#d8576b"
             ],
             [
              0.6666666666666666,
              "#ed7953"
             ],
             [
              0.7777777777777778,
              "#fb9f3a"
             ],
             [
              0.8888888888888888,
              "#fdca26"
             ],
             [
              1,
              "#f0f921"
             ]
            ],
            "type": "histogram2d"
           }
          ],
          "histogram2dcontour": [
           {
            "colorbar": {
             "outlinewidth": 0,
             "ticks": ""
            },
            "colorscale": [
             [
              0,
              "#0d0887"
             ],
             [
              0.1111111111111111,
              "#46039f"
             ],
             [
              0.2222222222222222,
              "#7201a8"
             ],
             [
              0.3333333333333333,
              "#9c179e"
             ],
             [
              0.4444444444444444,
              "#bd3786"
             ],
             [
              0.5555555555555556,
              "#d8576b"
             ],
             [
              0.6666666666666666,
              "#ed7953"
             ],
             [
              0.7777777777777778,
              "#fb9f3a"
             ],
             [
              0.8888888888888888,
              "#fdca26"
             ],
             [
              1,
              "#f0f921"
             ]
            ],
            "type": "histogram2dcontour"
           }
          ],
          "mesh3d": [
           {
            "colorbar": {
             "outlinewidth": 0,
             "ticks": ""
            },
            "type": "mesh3d"
           }
          ],
          "parcoords": [
           {
            "line": {
             "colorbar": {
              "outlinewidth": 0,
              "ticks": ""
             }
            },
            "type": "parcoords"
           }
          ],
          "pie": [
           {
            "automargin": true,
            "type": "pie"
           }
          ],
          "scatter": [
           {
            "fillpattern": {
             "fillmode": "overlay",
             "size": 10,
             "solidity": 0.2
            },
            "type": "scatter"
           }
          ],
          "scatter3d": [
           {
            "line": {
             "colorbar": {
              "outlinewidth": 0,
              "ticks": ""
             }
            },
            "marker": {
             "colorbar": {
              "outlinewidth": 0,
              "ticks": ""
             }
            },
            "type": "scatter3d"
           }
          ],
          "scattercarpet": [
           {
            "marker": {
             "colorbar": {
              "outlinewidth": 0,
              "ticks": ""
             }
            },
            "type": "scattercarpet"
           }
          ],
          "scattergeo": [
           {
            "marker": {
             "colorbar": {
              "outlinewidth": 0,
              "ticks": ""
             }
            },
            "type": "scattergeo"
           }
          ],
          "scattergl": [
           {
            "marker": {
             "colorbar": {
              "outlinewidth": 0,
              "ticks": ""
             }
            },
            "type": "scattergl"
           }
          ],
          "scattermapbox": [
           {
            "marker": {
             "colorbar": {
              "outlinewidth": 0,
              "ticks": ""
             }
            },
            "type": "scattermapbox"
           }
          ],
          "scatterpolar": [
           {
            "marker": {
             "colorbar": {
              "outlinewidth": 0,
              "ticks": ""
             }
            },
            "type": "scatterpolar"
           }
          ],
          "scatterpolargl": [
           {
            "marker": {
             "colorbar": {
              "outlinewidth": 0,
              "ticks": ""
             }
            },
            "type": "scatterpolargl"
           }
          ],
          "scatterternary": [
           {
            "marker": {
             "colorbar": {
              "outlinewidth": 0,
              "ticks": ""
             }
            },
            "type": "scatterternary"
           }
          ],
          "surface": [
           {
            "colorbar": {
             "outlinewidth": 0,
             "ticks": ""
            },
            "colorscale": [
             [
              0,
              "#0d0887"
             ],
             [
              0.1111111111111111,
              "#46039f"
             ],
             [
              0.2222222222222222,
              "#7201a8"
             ],
             [
              0.3333333333333333,
              "#9c179e"
             ],
             [
              0.4444444444444444,
              "#bd3786"
             ],
             [
              0.5555555555555556,
              "#d8576b"
             ],
             [
              0.6666666666666666,
              "#ed7953"
             ],
             [
              0.7777777777777778,
              "#fb9f3a"
             ],
             [
              0.8888888888888888,
              "#fdca26"
             ],
             [
              1,
              "#f0f921"
             ]
            ],
            "type": "surface"
           }
          ],
          "table": [
           {
            "cells": {
             "fill": {
              "color": "#EBF0F8"
             },
             "line": {
              "color": "white"
             }
            },
            "header": {
             "fill": {
              "color": "#C8D4E3"
             },
             "line": {
              "color": "white"
             }
            },
            "type": "table"
           }
          ]
         },
         "layout": {
          "annotationdefaults": {
           "arrowcolor": "#2a3f5f",
           "arrowhead": 0,
           "arrowwidth": 1
          },
          "autotypenumbers": "strict",
          "coloraxis": {
           "colorbar": {
            "outlinewidth": 0,
            "ticks": ""
           }
          },
          "colorscale": {
           "diverging": [
            [
             0,
             "#8e0152"
            ],
            [
             0.1,
             "#c51b7d"
            ],
            [
             0.2,
             "#de77ae"
            ],
            [
             0.3,
             "#f1b6da"
            ],
            [
             0.4,
             "#fde0ef"
            ],
            [
             0.5,
             "#f7f7f7"
            ],
            [
             0.6,
             "#e6f5d0"
            ],
            [
             0.7,
             "#b8e186"
            ],
            [
             0.8,
             "#7fbc41"
            ],
            [
             0.9,
             "#4d9221"
            ],
            [
             1,
             "#276419"
            ]
           ],
           "sequential": [
            [
             0,
             "#0d0887"
            ],
            [
             0.1111111111111111,
             "#46039f"
            ],
            [
             0.2222222222222222,
             "#7201a8"
            ],
            [
             0.3333333333333333,
             "#9c179e"
            ],
            [
             0.4444444444444444,
             "#bd3786"
            ],
            [
             0.5555555555555556,
             "#d8576b"
            ],
            [
             0.6666666666666666,
             "#ed7953"
            ],
            [
             0.7777777777777778,
             "#fb9f3a"
            ],
            [
             0.8888888888888888,
             "#fdca26"
            ],
            [
             1,
             "#f0f921"
            ]
           ],
           "sequentialminus": [
            [
             0,
             "#0d0887"
            ],
            [
             0.1111111111111111,
             "#46039f"
            ],
            [
             0.2222222222222222,
             "#7201a8"
            ],
            [
             0.3333333333333333,
             "#9c179e"
            ],
            [
             0.4444444444444444,
             "#bd3786"
            ],
            [
             0.5555555555555556,
             "#d8576b"
            ],
            [
             0.6666666666666666,
             "#ed7953"
            ],
            [
             0.7777777777777778,
             "#fb9f3a"
            ],
            [
             0.8888888888888888,
             "#fdca26"
            ],
            [
             1,
             "#f0f921"
            ]
           ]
          },
          "colorway": [
           "#636efa",
           "#EF553B",
           "#00cc96",
           "#ab63fa",
           "#FFA15A",
           "#19d3f3",
           "#FF6692",
           "#B6E880",
           "#FF97FF",
           "#FECB52"
          ],
          "font": {
           "color": "#2a3f5f"
          },
          "geo": {
           "bgcolor": "white",
           "lakecolor": "white",
           "landcolor": "#E5ECF6",
           "showlakes": true,
           "showland": true,
           "subunitcolor": "white"
          },
          "hoverlabel": {
           "align": "left"
          },
          "hovermode": "closest",
          "mapbox": {
           "style": "light"
          },
          "paper_bgcolor": "white",
          "plot_bgcolor": "#E5ECF6",
          "polar": {
           "angularaxis": {
            "gridcolor": "white",
            "linecolor": "white",
            "ticks": ""
           },
           "bgcolor": "#E5ECF6",
           "radialaxis": {
            "gridcolor": "white",
            "linecolor": "white",
            "ticks": ""
           }
          },
          "scene": {
           "xaxis": {
            "backgroundcolor": "#E5ECF6",
            "gridcolor": "white",
            "gridwidth": 2,
            "linecolor": "white",
            "showbackground": true,
            "ticks": "",
            "zerolinecolor": "white"
           },
           "yaxis": {
            "backgroundcolor": "#E5ECF6",
            "gridcolor": "white",
            "gridwidth": 2,
            "linecolor": "white",
            "showbackground": true,
            "ticks": "",
            "zerolinecolor": "white"
           },
           "zaxis": {
            "backgroundcolor": "#E5ECF6",
            "gridcolor": "white",
            "gridwidth": 2,
            "linecolor": "white",
            "showbackground": true,
            "ticks": "",
            "zerolinecolor": "white"
           }
          },
          "shapedefaults": {
           "line": {
            "color": "#2a3f5f"
           }
          },
          "ternary": {
           "aaxis": {
            "gridcolor": "white",
            "linecolor": "white",
            "ticks": ""
           },
           "baxis": {
            "gridcolor": "white",
            "linecolor": "white",
            "ticks": ""
           },
           "bgcolor": "#E5ECF6",
           "caxis": {
            "gridcolor": "white",
            "linecolor": "white",
            "ticks": ""
           }
          },
          "title": {
           "x": 0.05
          },
          "xaxis": {
           "automargin": true,
           "gridcolor": "white",
           "linecolor": "white",
           "ticks": "",
           "title": {
            "standoff": 15
           },
           "zerolinecolor": "white",
           "zerolinewidth": 2
          },
          "yaxis": {
           "automargin": true,
           "gridcolor": "white",
           "linecolor": "white",
           "ticks": "",
           "title": {
            "standoff": 15
           },
           "zerolinecolor": "white",
           "zerolinewidth": 2
          }
         }
        },
        "xaxis": {
         "anchor": "y",
         "domain": [
          0,
          1
         ],
         "title": {
          "text": "Date"
         }
        },
        "yaxis": {
         "anchor": "x",
         "domain": [
          0,
          1
         ],
         "title": {
          "text": "change_percentage"
         }
        }
       }
      },
      "text/html": [
       "<div>                            <div id=\"a1832de4-7585-4054-a5d1-0d14ba51abb0\" class=\"plotly-graph-div\" style=\"height:525px; width:100%;\"></div>            <script type=\"text/javascript\">                require([\"plotly\"], function(Plotly) {                    window.PLOTLYENV=window.PLOTLYENV || {};                                    if (document.getElementById(\"a1832de4-7585-4054-a5d1-0d14ba51abb0\")) {                    Plotly.newPlot(                        \"a1832de4-7585-4054-a5d1-0d14ba51abb0\",                        [{\"hovertemplate\":\"Date=%{x}<br>change_percentage=%{y}<extra></extra>\",\"legendgroup\":\"\",\"line\":{\"color\":\"#636efa\",\"dash\":\"solid\"},\"marker\":{\"symbol\":\"circle\"},\"mode\":\"lines+markers\",\"name\":\"\",\"orientation\":\"v\",\"showlegend\":false,\"x\":[\"2022-01-02\",\"2022-01-03\",\"2022-01-04\",\"2022-01-05\",\"2022-01-09\",\"2022-01-10\",\"2022-01-11\",\"2022-01-12\",\"2022-01-13\",\"2022-01-16\",\"2022-01-17\",\"2022-01-18\",\"2022-01-19\",\"2022-01-20\",\"2022-01-23\",\"2022-01-24\",\"2022-01-25\",\"2022-01-26\",\"2022-01-30\",\"2022-01-31\",\"2022-02-01\",\"2022-02-02\",\"2022-02-03\",\"2022-02-06\",\"2022-02-07\",\"2022-02-08\",\"2022-02-09\",\"2022-02-10\",\"2022-02-13\",\"2022-02-14\",\"2022-02-15\",\"2022-02-16\",\"2022-02-17\",\"2022-02-20\",\"2022-02-21\",\"2022-02-22\",\"2022-02-23\",\"2022-02-24\",\"2022-02-27\",\"2022-02-28\",\"2022-03-01\",\"2022-03-02\",\"2022-03-03\",\"2022-03-06\",\"2022-03-07\",\"2022-03-08\",\"2022-03-09\",\"2022-03-10\",\"2022-03-13\",\"2022-03-14\",\"2022-03-15\",\"2022-03-16\",\"2022-03-17\",\"2022-03-20\",\"2022-03-21\",\"2022-03-22\",\"2022-03-23\",\"2022-03-24\",\"2022-03-27\",\"2022-03-28\",\"2022-03-29\",\"2022-03-30\",\"2022-03-31\",\"2022-04-03\",\"2022-04-04\",\"2022-04-05\",\"2022-04-06\",\"2022-04-07\",\"2022-04-10\",\"2022-04-11\",\"2022-04-12\",\"2022-04-13\",\"2022-04-14\",\"2022-04-17\",\"2022-04-18\",\"2022-04-19\",\"2022-04-20\",\"2022-04-21\",\"2022-04-26\",\"2022-04-27\",\"2022-04-28\",\"2022-05-08\",\"2022-05-09\",\"2022-05-10\",\"2022-05-11\",\"2022-05-12\",\"2022-05-15\",\"2022-05-16\",\"2022-05-17\",\"2022-05-18\",\"2022-05-19\",\"2022-05-22\",\"2022-05-23\",\"2022-05-24\",\"2022-05-25\",\"2022-05-26\",\"2022-05-29\",\"2022-05-30\",\"2022-05-31\",\"2022-06-01\",\"2022-06-02\",\"2022-06-05\",\"2022-06-06\",\"2022-06-07\",\"2022-06-08\",\"2022-06-09\",\"2022-06-12\",\"2022-06-13\",\"2022-06-14\",\"2022-06-15\",\"2022-06-16\",\"2022-06-19\",\"2022-06-20\",\"2022-06-21\",\"2022-06-22\",\"2022-06-23\",\"2022-06-26\",\"2022-06-27\",\"2022-06-28\",\"2022-06-29\",\"2022-07-03\",\"2022-07-04\",\"2022-07-05\",\"2022-07-06\",\"2022-07-07\",\"2022-07-17\",\"2022-07-18\",\"2022-07-19\",\"2022-07-20\",\"2022-07-21\",\"2022-07-24\",\"2022-07-25\",\"2022-07-26\",\"2022-07-27\",\"2022-07-28\",\"2022-07-31\",\"2022-08-01\",\"2022-08-02\",\"2022-08-03\",\"2022-08-04\",\"2022-08-07\",\"2022-08-08\",\"2022-08-09\",\"2022-08-10\",\"2022-08-11\",\"2022-08-14\",\"2022-08-15\",\"2022-08-16\",\"2022-08-17\",\"2022-08-18\",\"2022-08-21\",\"2022-08-22\",\"2022-08-23\",\"2022-08-24\",\"2022-08-25\",\"2022-08-28\",\"2022-08-29\",\"2022-08-30\",\"2022-08-31\",\"2022-09-01\",\"2022-09-04\",\"2022-09-05\",\"2022-09-06\",\"2022-09-07\",\"2022-09-08\",\"2022-09-11\",\"2022-09-12\",\"2022-09-13\",\"2022-09-14\",\"2022-09-15\",\"2022-09-18\",\"2022-09-19\",\"2022-09-20\",\"2022-09-21\",\"2022-09-22\",\"2022-09-25\",\"2022-09-26\",\"2022-09-27\",\"2022-09-28\",\"2022-09-29\",\"2022-10-02\",\"2022-10-03\",\"2022-10-04\",\"2022-10-05\",\"2022-10-09\",\"2022-10-10\",\"2022-10-11\",\"2022-10-12\",\"2022-10-13\",\"2022-10-16\",\"2022-10-17\",\"2022-10-18\",\"2022-10-19\",\"2022-10-20\",\"2022-10-23\",\"2022-10-24\",\"2022-10-25\",\"2022-10-26\",\"2022-10-27\",\"2022-10-30\",\"2022-10-31\",\"2022-11-01\",\"2022-11-02\",\"2022-11-03\",\"2022-11-06\",\"2022-11-07\",\"2022-11-08\",\"2022-11-09\",\"2022-11-10\",\"2022-11-13\",\"2022-11-14\",\"2022-11-15\",\"2022-11-16\",\"2022-11-17\",\"2022-11-20\",\"2022-11-21\",\"2022-11-22\",\"2022-11-23\",\"2022-11-24\",\"2022-11-27\",\"2022-11-28\",\"2022-11-29\",\"2022-11-30\",\"2022-12-01\",\"2022-12-04\",\"2022-12-05\",\"2022-12-06\",\"2022-12-07\",\"2022-12-08\",\"2022-12-11\",\"2022-12-12\",\"2022-12-13\",\"2022-12-14\",\"2022-12-15\",\"2022-12-18\",\"2022-12-19\",\"2022-12-20\",\"2022-12-21\",\"2022-12-22\",\"2022-12-25\",\"2022-12-26\",\"2022-12-27\",\"2022-12-28\",\"2022-12-29\",\"2023-01-02\",\"2023-01-03\",\"2023-01-04\",\"2023-01-05\",\"2023-01-09\",\"2023-01-10\",\"2023-01-11\",\"2023-01-12\",\"2023-01-15\",\"2023-01-16\",\"2023-01-17\",\"2023-01-18\",\"2023-01-19\",\"2023-01-22\",\"2023-01-23\",\"2023-01-24\",\"2023-01-25\",\"2023-01-29\",\"2023-01-30\",\"2023-01-31\",\"2023-02-01\",\"2023-02-02\",\"2023-02-05\",\"2023-02-06\",\"2023-02-07\",\"2023-02-08\",\"2023-02-09\",\"2023-02-12\",\"2023-02-13\",\"2023-02-14\",\"2023-02-15\",\"2023-02-16\",\"2023-02-19\",\"2023-02-20\",\"2023-02-21\",\"2023-02-22\",\"2023-02-23\",\"2023-02-26\",\"2023-02-27\",\"2023-02-28\"],\"xaxis\":\"x\",\"y\":[0,0,1,1,0,1,0,1,0,0,1,1,0,1,0,0,0,0,0,1,1,1,0,1,0,0,1,0,0,0,1,1,0,0,1,0,0,0,1,0,1,0,1,0,0,0,1,1,1,0,1,1,1,1,1,1,1,0,0,0,1,0,0,1,0,0,0,0,0,0,1,0,0,1,1,0,0,1,1,1,1,1,0,0,1,0,0,0,0,1,1,0,1,0,0,0,0,1,1,0,0,0,0,1,1,0,0,0,0,0,0,0,0,1,0,0,1,0,0,1,0,0,0,1,1,1,1,1,1,1,0,0,1,0,1,1,0,1,1,1,1,0,0,0,1,0,0,0,1,1,1,0,0,0,1,0,0,1,0,0,1,1,1,0,1,1,1,0,0,0,0,1,1,0,0,0,0,0,0,1,0,0,1,1,0,1,0,0,1,1,1,1,0,1,0,1,1,1,1,1,1,1,0,1,0,1,0,1,0,1,1,1,1,1,1,0,1,0,1,1,0,1,1,1,1,1,1,1,1,0,1,1,1,0,0,0,0,1,0,0,1,0,1,1,1,1,1,1,1,0,1,1,1,1,1,1,1,1,1,1,1,1,0,0,0,0,1,1,1,1,1,0,0,1,1,0,0,0,1,0,1,1,0,0],\"yaxis\":\"y\",\"type\":\"scatter\"},{\"line\":{\"color\":\"red\"},\"mode\":\"lines\",\"name\":\"Test Data\",\"x\":[\"2023-03-01\",\"2023-03-02\",\"2023-03-05\",\"2023-03-06\",\"2023-03-07\",\"2023-03-08\",\"2023-03-09\",\"2023-03-12\",\"2023-03-13\",\"2023-03-14\",\"2023-03-15\",\"2023-03-16\",\"2023-03-19\",\"2023-03-20\",\"2023-03-21\",\"2023-03-22\",\"2023-03-23\",\"2023-03-26\",\"2023-03-27\",\"2023-03-28\",\"2023-03-29\",\"2023-03-30\",\"2023-04-02\",\"2023-04-03\",\"2023-04-04\",\"2023-04-05\",\"2023-04-06\",\"2023-04-09\",\"2023-04-10\",\"2023-04-11\",\"2023-04-12\",\"2023-04-13\",\"2023-04-18\",\"2023-04-19\",\"2023-04-26\",\"2023-04-27\",\"2023-04-30\",\"2023-05-01\",\"2023-05-02\",\"2023-05-03\",\"2023-05-07\",\"2023-05-08\",\"2023-05-09\",\"2023-05-10\",\"2023-05-11\",\"2023-05-14\",\"2023-05-15\",\"2023-05-16\",\"2023-05-17\",\"2023-05-18\",\"2023-05-21\",\"2023-05-22\",\"2023-05-23\",\"2023-05-24\",\"2023-05-25\",\"2023-05-28\",\"2023-05-29\",\"2023-05-30\",\"2023-05-31\",\"2023-06-01\",\"2023-06-04\",\"2023-06-05\",\"2023-06-06\",\"2023-06-07\",\"2023-06-08\",\"2023-06-11\",\"2023-06-12\",\"2023-06-13\",\"2023-06-14\",\"2023-06-15\",\"2023-06-18\",\"2023-06-19\",\"2023-06-20\",\"2023-06-21\",\"2023-06-22\",\"2023-06-25\",\"2023-06-26\",\"2023-07-04\",\"2023-07-05\",\"2023-07-06\",\"2023-07-09\",\"2023-07-10\",\"2023-07-11\",\"2023-07-12\",\"2023-07-13\",\"2023-07-16\",\"2023-07-17\",\"2023-07-18\",\"2023-07-19\",\"2023-07-24\",\"2023-07-25\",\"2023-07-26\",\"2023-07-27\",\"2023-07-30\",\"2023-07-31\",\"2023-08-01\",\"2023-08-02\",\"2023-08-03\",\"2023-08-06\",\"2023-08-07\",\"2023-08-08\",\"2023-08-09\",\"2023-08-10\",\"2023-08-13\",\"2023-08-14\",\"2023-08-15\",\"2023-08-16\",\"2023-08-17\",\"2023-08-20\",\"2023-08-21\",\"2023-08-22\",\"2023-08-23\",\"2023-08-24\",\"2023-08-27\",\"2023-08-28\",\"2023-08-29\",\"2023-08-30\",\"2023-08-31\",\"2023-09-03\",\"2023-09-04\",\"2023-09-05\",\"2023-09-06\",\"2023-09-07\",\"2023-09-10\",\"2023-09-11\",\"2023-09-12\",\"2023-09-13\",\"2023-09-14\",\"2023-09-17\",\"2023-09-18\",\"2023-09-19\",\"2023-09-20\",\"2023-09-21\",\"2023-09-24\",\"2023-09-25\",\"2023-09-26\",\"2023-09-27\",\"2023-10-01\",\"2023-10-02\",\"2023-10-03\",\"2023-10-04\",\"2023-10-08\",\"2023-10-09\",\"2023-10-10\",\"2023-10-11\",\"2023-10-12\",\"2023-10-15\",\"2023-10-16\",\"2023-10-17\",\"2023-10-18\",\"2023-10-19\",\"2023-10-22\",\"2023-10-23\",\"2023-10-24\",\"2023-10-25\",\"2023-10-26\",\"2023-10-29\",\"2023-10-30\",\"2023-10-31\",\"2023-11-01\",\"2023-11-02\",\"2023-11-05\",\"2023-11-06\",\"2023-11-07\",\"2023-11-08\",\"2023-11-09\",\"2023-11-12\",\"2023-11-13\",\"2023-11-14\",\"2023-11-15\",\"2023-11-16\",\"2023-11-19\",\"2023-11-20\",\"2023-11-21\",\"2023-11-22\",\"2023-11-23\",\"2023-11-26\",\"2023-11-27\",\"2023-11-28\",\"2023-11-29\",\"2023-11-30\",\"2023-12-03\",\"2023-12-04\",\"2023-12-05\",\"2023-12-06\",\"2023-12-07\",\"2023-12-10\",\"2023-12-11\",\"2023-12-12\",\"2023-12-13\",\"2023-12-14\",\"2023-12-17\",\"2023-12-18\",\"2023-12-19\",\"2023-12-20\",\"2023-12-21\",\"2023-12-24\",\"2023-12-25\",\"2023-12-26\",\"2023-12-27\",\"2023-12-28\",\"2023-12-31\",\"2024-01-02\",\"2024-01-03\",\"2024-01-04\",\"2024-01-08\",\"2024-01-09\",\"2024-01-10\",\"2024-01-11\",\"2024-01-14\",\"2024-01-15\",\"2024-01-16\",\"2024-01-17\",\"2024-01-18\",\"2024-01-21\",\"2024-01-22\",\"2024-01-23\",\"2024-01-24\",\"2024-01-28\",\"2024-01-29\",\"2024-01-30\",\"2024-01-31\",\"2024-02-01\",\"2024-02-04\",\"2024-02-05\",\"2024-02-06\",\"2024-02-07\",\"2024-02-08\",\"2024-02-11\",\"2024-02-12\",\"2024-02-13\",\"2024-02-14\",\"2024-02-15\",\"2024-02-18\",\"2024-02-19\",\"2024-02-20\",\"2024-02-21\",\"2024-02-22\",\"2024-02-25\",\"2024-02-26\",\"2024-02-27\",\"2024-02-28\",\"2024-02-29\",\"2024-03-03\",\"2024-03-04\",\"2024-03-05\",\"2024-03-06\",\"2024-03-07\",\"2024-03-10\",\"2024-03-11\",\"2024-03-12\",\"2024-03-13\",\"2024-03-14\",\"2024-03-17\",\"2024-03-18\",\"2024-03-19\",\"2024-03-20\",\"2024-03-21\",\"2024-03-24\",\"2024-03-25\",\"2024-03-26\"],\"y\":[1,0,0,0,0,0,1,0,0,0,0,0,0,1,1,0,1,1,0,0,1,1,1,1,0,1,0,0,1,1,0,1,0,0,0,1,0,0,0,0,0,1,0,1,0,1,0,0,0,0,1,0,1,1,0,1,1,1,0,1,0,0,1,0,1,1,0,1,1,1,1,0,0,0,1,0,1,0,0,0,0,1,1,0,1,-1,1,1,0,0,0,0,0,1,1,0,0,0,1,1,0,1,0,1,1,1,1,0,1,0,1,0,1,1,1,1,1,1,0,1,1,1,1,1,0,0,1,1,1,1,1,0,1,1,1,1,0,0,0,0,1,0,1,1,0,1,1,1,1,1,0,1,1,0,1,1,0,1,0,0,1,1,0,1,1,1,0,1,0,1,1,1,0,1,1,1,0,1,0,0,0,0,1,0,0,0,0,0,0,1,0,1,1,0,0,0,0,1,0,1,1,1,1,0,0,0,1,0,1,1,1,1,0,1,1,1,0,1,1,1,1,0,1,0,1,0,1,1,0,1,1,1,1,1,1,0,0,1,0,1,1,0,1,1,1,1,0,1,1,1,0,0,1,0,0,0,0,1,1,1,0],\"type\":\"scatter\"},{\"line\":{\"color\":\"green\"},\"mode\":\"lines\",\"name\":\"Predicted Data\",\"x\":[\"2023-03-01\",\"2023-03-02\",\"2023-03-05\",\"2023-03-06\",\"2023-03-07\",\"2023-03-08\",\"2023-03-09\",\"2023-03-12\",\"2023-03-13\",\"2023-03-14\",\"2023-03-15\",\"2023-03-16\",\"2023-03-19\",\"2023-03-20\",\"2023-03-21\",\"2023-03-22\",\"2023-03-23\",\"2023-03-26\",\"2023-03-27\",\"2023-03-28\",\"2023-03-29\",\"2023-03-30\",\"2023-04-02\",\"2023-04-03\",\"2023-04-04\",\"2023-04-05\",\"2023-04-06\",\"2023-04-09\",\"2023-04-10\",\"2023-04-11\",\"2023-04-12\",\"2023-04-13\",\"2023-04-18\",\"2023-04-19\",\"2023-04-26\",\"2023-04-27\",\"2023-04-30\",\"2023-05-01\",\"2023-05-02\",\"2023-05-03\",\"2023-05-07\",\"2023-05-08\",\"2023-05-09\",\"2023-05-10\",\"2023-05-11\",\"2023-05-14\",\"2023-05-15\",\"2023-05-16\",\"2023-05-17\",\"2023-05-18\",\"2023-05-21\",\"2023-05-22\",\"2023-05-23\",\"2023-05-24\",\"2023-05-25\",\"2023-05-28\",\"2023-05-29\",\"2023-05-30\",\"2023-05-31\",\"2023-06-01\",\"2023-06-04\",\"2023-06-05\",\"2023-06-06\",\"2023-06-07\",\"2023-06-08\",\"2023-06-11\",\"2023-06-12\",\"2023-06-13\",\"2023-06-14\",\"2023-06-15\",\"2023-06-18\",\"2023-06-19\",\"2023-06-20\",\"2023-06-21\",\"2023-06-22\",\"2023-06-25\",\"2023-06-26\",\"2023-07-04\",\"2023-07-05\",\"2023-07-06\",\"2023-07-09\",\"2023-07-10\",\"2023-07-11\",\"2023-07-12\",\"2023-07-13\",\"2023-07-16\",\"2023-07-17\",\"2023-07-18\",\"2023-07-19\",\"2023-07-24\",\"2023-07-25\",\"2023-07-26\",\"2023-07-27\",\"2023-07-30\",\"2023-07-31\",\"2023-08-01\",\"2023-08-02\",\"2023-08-03\",\"2023-08-06\",\"2023-08-07\",\"2023-08-08\",\"2023-08-09\",\"2023-08-10\",\"2023-08-13\",\"2023-08-14\",\"2023-08-15\",\"2023-08-16\",\"2023-08-17\",\"2023-08-20\",\"2023-08-21\",\"2023-08-22\",\"2023-08-23\",\"2023-08-24\",\"2023-08-27\",\"2023-08-28\",\"2023-08-29\",\"2023-08-30\",\"2023-08-31\",\"2023-09-03\",\"2023-09-04\",\"2023-09-05\",\"2023-09-06\",\"2023-09-07\",\"2023-09-10\",\"2023-09-11\",\"2023-09-12\",\"2023-09-13\",\"2023-09-14\",\"2023-09-17\",\"2023-09-18\",\"2023-09-19\",\"2023-09-20\",\"2023-09-21\",\"2023-09-24\",\"2023-09-25\",\"2023-09-26\",\"2023-09-27\",\"2023-10-01\",\"2023-10-02\",\"2023-10-03\",\"2023-10-04\",\"2023-10-08\",\"2023-10-09\",\"2023-10-10\",\"2023-10-11\",\"2023-10-12\",\"2023-10-15\",\"2023-10-16\",\"2023-10-17\",\"2023-10-18\",\"2023-10-19\",\"2023-10-22\",\"2023-10-23\",\"2023-10-24\",\"2023-10-25\",\"2023-10-26\",\"2023-10-29\",\"2023-10-30\",\"2023-10-31\",\"2023-11-01\",\"2023-11-02\",\"2023-11-05\",\"2023-11-06\",\"2023-11-07\",\"2023-11-08\",\"2023-11-09\",\"2023-11-12\",\"2023-11-13\",\"2023-11-14\",\"2023-11-15\",\"2023-11-16\",\"2023-11-19\",\"2023-11-20\",\"2023-11-21\",\"2023-11-22\",\"2023-11-23\",\"2023-11-26\",\"2023-11-27\",\"2023-11-28\",\"2023-11-29\",\"2023-11-30\",\"2023-12-03\",\"2023-12-04\",\"2023-12-05\",\"2023-12-06\",\"2023-12-07\",\"2023-12-10\",\"2023-12-11\",\"2023-12-12\",\"2023-12-13\",\"2023-12-14\",\"2023-12-17\",\"2023-12-18\",\"2023-12-19\",\"2023-12-20\",\"2023-12-21\",\"2023-12-24\",\"2023-12-25\",\"2023-12-26\",\"2023-12-27\",\"2023-12-28\",\"2023-12-31\",\"2024-01-02\",\"2024-01-03\",\"2024-01-04\",\"2024-01-08\",\"2024-01-09\",\"2024-01-10\",\"2024-01-11\",\"2024-01-14\",\"2024-01-15\",\"2024-01-16\",\"2024-01-17\",\"2024-01-18\",\"2024-01-21\",\"2024-01-22\",\"2024-01-23\",\"2024-01-24\",\"2024-01-28\",\"2024-01-29\",\"2024-01-30\",\"2024-01-31\",\"2024-02-01\",\"2024-02-04\",\"2024-02-05\",\"2024-02-06\",\"2024-02-07\",\"2024-02-08\",\"2024-02-11\",\"2024-02-12\",\"2024-02-13\",\"2024-02-14\",\"2024-02-15\",\"2024-02-18\",\"2024-02-19\",\"2024-02-20\",\"2024-02-21\",\"2024-02-22\",\"2024-02-25\",\"2024-02-26\",\"2024-02-27\",\"2024-02-28\",\"2024-02-29\",\"2024-03-03\",\"2024-03-04\",\"2024-03-05\",\"2024-03-06\",\"2024-03-07\",\"2024-03-10\",\"2024-03-11\",\"2024-03-12\",\"2024-03-13\",\"2024-03-14\",\"2024-03-17\",\"2024-03-18\",\"2024-03-19\",\"2024-03-20\",\"2024-03-21\",\"2024-03-24\",\"2024-03-25\",\"2024-03-26\"],\"y\":[0.34551118060963465,0.9914790872282211,1.0046076604918088,0.4220161907149035,0.42260080353389345,0.008049198790067436,1.0080991884518473,0.8375168002743187,1.4228505204524344,1.0081834240748924,0.008209475677673161,0.008235492209261255,-0.06092063512433027,0.9997665964577305,1.012921177166109,0.8450490319758059,0.016273017748466345,0.016440737575055986,1.0165167346001678,0.43126703657934384,1.431320081327155,1.0166789923127957,0.016731051278757958,0.01678307517352756,-0.05234704479688257,0.5936728769418516,0.6068534650134119,0.4390073271862902,0.43964395473514783,0.025144364718410805,1.4399396863132117,0.02532936124255286,1.0254084133535453,1.025486648908875,0.44025803244452627,0.02564274649596887,0.3712319510952478,1.017277880197163,1.0304844756319043,0.4479710279614557,0.4486336628734944,-0.3805332369865696,1.4489814091779203,0.4490904086769507,1.4491954681511243,1.0346063938631271,0.034710467555451485,-0.3798788110299249,0.3804297181390431,1.0265016546041392,1.0397342574020616,0.042553499888286106,0.4579354593700138,0.04348788407963883,1.4583352204008018,0.8731635444695209,1.4586012941003674,1.0440382271755513,-0.3705250089754513,-0.37039496299113867,-0.02475374366549765,1.0360375173692875,0.634602810323883,0.05214137737979646,0.4675493442247052,-0.36156554090899673,1.4680011199818552,0.4681621342072477,1.053625891201275,1.0537821488461478,-0.3607550799416737,0.054094290612327955,0.39976151730115,0.6311921512861003,1.0591700860168927,0.4767346604359872,0.477475317437569,0.0630797568735561,1.4779791079210811,0.4781661295096544,1.478349211073371,1.0638381588749168,-0.3506730625497237,0.06420231536745902,0.4098955494194621,1.0560455079741013,1.0693561328615668,0.07225339743733444,0.07302006180209725,0.07334382580777338,1.4882691842184794,0.488482213170234,1.4886913020971313,0.6595129400553503,-0.34027895679960124,-0.3400708887257455,0.4203416698959466,1.066517635813767,1.4945475852709214,0.08277754000336207,0.4982635289378139,-0.3307733341063449,1.0841780316675422,0.49911038518898554,1.499345481479064,1.084886444006972,-0.32957276269130636,0.08535462995223841,0.016406561524095586,0.662608534805097,1.0906644916254324,0.5083070881340701,0.094432450018687,0.0948082287507252,1.0950922846812854,0.51005064556591,1.5103117492191693,1.0958787191102584,-0.31855448022483907,-0.31829439742462123,0.027476858716924957,1.0883981565676153,0.687093486338116,0.5194554074164426,0.5203000938707485,-0.30868475444704824,1.9357052604662168,0.10660967709449837,1.521590105317447,1.107183082571717,-0.30722410940019934,0.10775529796970751,0.03885924426792675,0.6851132322752902,1.1132212038219877,0.1162224978504795,0.5317865088744744,0.11752098512636672,1.117857055783289,0.5328674313942756,1.533180549773897,1.1187995343913482,-0.2955816502173872,0.11942376451570069,0.05055371817710097,1.1115270307541534,1.124967692457524,0.5426883110557048,0.5435850122363728,0.1293454958514461,1.1297075738715494,0.13005063963920888,1.5450830825885196,1.1307280745691517,-0.2836271026764026,0.1314043194198663,0.06256028044444761,0.7088662831781731,1.1370262694512328,0.14007957820608657,0.1410022867499356,0.14148209493469793,1.5565634975244902,0.556932570655331,1.1426043865548066,1.1429687031051277,-0.2713604667772456,0.14369696268220433,0.07487893106996668,1.1359042583733812,0.734703617596606,0.15247625092114875,0.1534249668281788,-0.2607625348303858,1.5690381923290955,0.5694332728231171,1.155131096085774,1.155521419999276,0.15591157468659178,-0.2583916229037932,0.08750967005365812,0.7338676875137458,1.1620796885131675,0.16518501199438335,0.5808530524711024,0.16669155817571885,1.996518292698381,0.16755274614256804,1.5826632111814216,1.1683862252515969,0.16880238730209363,0.16921851428139767,0.51514581460203,0.7468365222187907,1.1750745305813934,0.5928991786322984,0.5938999092656905,-0.23492889487302004,1.5949238470128233,0.595370942233207,1.5958140974287338,1.18156311886209,0.1820052882757679,0.18244742261825297,0.11370741309555837,1.174810762488516,0.7736881438012839,0.19153879921536981,0.607258854418451,0.19314937484942946,1.6083348068919459,0.6088079094755108,2.0239703892407266,1.1950521008307557,0.1955202776076146,-0.21870489789322728,0.12727441715376714,0.7737104567033979,0.7873071625858548,0.20518382536312169,0.6209298879293839,0.2068464157235434,2.036751172335749,0.20786364786947858,1.6230521349978755,0.7941598539510859,-0.20534596190887427,0.20984150436648086,0.14115350957014833,1.202308873689468,1.6306249041416139,1.048527574282062,0.2202196925919812,0.22085554495582976,1.6360929917247082,0.22192479182812724,1.637139286319705,1.2229663298426043,-0.19120679586068273,-0.19068663942865455,0.5700380075512099,1.2165260618272027,0.8154814652295137,0.6481034599396507,1.0639015372322749,-0.17951655466021943,1.650440216678348,0.23629802414494788,1.6515385259997069,1.2373915768857873,0.23793777575218922,0.23848393954739844,0.584541276683936,1.2310553383231098,1.2447300662951097,0.24799143395541184,1.078508835817725,0.24981006849491977,1.2504062127836524,0.2509833448199414,1.2515565368313732],\"type\":\"scatter\"}],                        {\"template\":{\"data\":{\"histogram2dcontour\":[{\"type\":\"histogram2dcontour\",\"colorbar\":{\"outlinewidth\":0,\"ticks\":\"\"},\"colorscale\":[[0.0,\"#0d0887\"],[0.1111111111111111,\"#46039f\"],[0.2222222222222222,\"#7201a8\"],[0.3333333333333333,\"#9c179e\"],[0.4444444444444444,\"#bd3786\"],[0.5555555555555556,\"#d8576b\"],[0.6666666666666666,\"#ed7953\"],[0.7777777777777778,\"#fb9f3a\"],[0.8888888888888888,\"#fdca26\"],[1.0,\"#f0f921\"]]}],\"choropleth\":[{\"type\":\"choropleth\",\"colorbar\":{\"outlinewidth\":0,\"ticks\":\"\"}}],\"histogram2d\":[{\"type\":\"histogram2d\",\"colorbar\":{\"outlinewidth\":0,\"ticks\":\"\"},\"colorscale\":[[0.0,\"#0d0887\"],[0.1111111111111111,\"#46039f\"],[0.2222222222222222,\"#7201a8\"],[0.3333333333333333,\"#9c179e\"],[0.4444444444444444,\"#bd3786\"],[0.5555555555555556,\"#d8576b\"],[0.6666666666666666,\"#ed7953\"],[0.7777777777777778,\"#fb9f3a\"],[0.8888888888888888,\"#fdca26\"],[1.0,\"#f0f921\"]]}],\"heatmap\":[{\"type\":\"heatmap\",\"colorbar\":{\"outlinewidth\":0,\"ticks\":\"\"},\"colorscale\":[[0.0,\"#0d0887\"],[0.1111111111111111,\"#46039f\"],[0.2222222222222222,\"#7201a8\"],[0.3333333333333333,\"#9c179e\"],[0.4444444444444444,\"#bd3786\"],[0.5555555555555556,\"#d8576b\"],[0.6666666666666666,\"#ed7953\"],[0.7777777777777778,\"#fb9f3a\"],[0.8888888888888888,\"#fdca26\"],[1.0,\"#f0f921\"]]}],\"heatmapgl\":[{\"type\":\"heatmapgl\",\"colorbar\":{\"outlinewidth\":0,\"ticks\":\"\"},\"colorscale\":[[0.0,\"#0d0887\"],[0.1111111111111111,\"#46039f\"],[0.2222222222222222,\"#7201a8\"],[0.3333333333333333,\"#9c179e\"],[0.4444444444444444,\"#bd3786\"],[0.5555555555555556,\"#d8576b\"],[0.6666666666666666,\"#ed7953\"],[0.7777777777777778,\"#fb9f3a\"],[0.8888888888888888,\"#fdca26\"],[1.0,\"#f0f921\"]]}],\"contourcarpet\":[{\"type\":\"contourcarpet\",\"colorbar\":{\"outlinewidth\":0,\"ticks\":\"\"}}],\"contour\":[{\"type\":\"contour\",\"colorbar\":{\"outlinewidth\":0,\"ticks\":\"\"},\"colorscale\":[[0.0,\"#0d0887\"],[0.1111111111111111,\"#46039f\"],[0.2222222222222222,\"#7201a8\"],[0.3333333333333333,\"#9c179e\"],[0.4444444444444444,\"#bd3786\"],[0.5555555555555556,\"#d8576b\"],[0.6666666666666666,\"#ed7953\"],[0.7777777777777778,\"#fb9f3a\"],[0.8888888888888888,\"#fdca26\"],[1.0,\"#f0f921\"]]}],\"surface\":[{\"type\":\"surface\",\"colorbar\":{\"outlinewidth\":0,\"ticks\":\"\"},\"colorscale\":[[0.0,\"#0d0887\"],[0.1111111111111111,\"#46039f\"],[0.2222222222222222,\"#7201a8\"],[0.3333333333333333,\"#9c179e\"],[0.4444444444444444,\"#bd3786\"],[0.5555555555555556,\"#d8576b\"],[0.6666666666666666,\"#ed7953\"],[0.7777777777777778,\"#fb9f3a\"],[0.8888888888888888,\"#fdca26\"],[1.0,\"#f0f921\"]]}],\"mesh3d\":[{\"type\":\"mesh3d\",\"colorbar\":{\"outlinewidth\":0,\"ticks\":\"\"}}],\"scatter\":[{\"fillpattern\":{\"fillmode\":\"overlay\",\"size\":10,\"solidity\":0.2},\"type\":\"scatter\"}],\"parcoords\":[{\"type\":\"parcoords\",\"line\":{\"colorbar\":{\"outlinewidth\":0,\"ticks\":\"\"}}}],\"scatterpolargl\":[{\"type\":\"scatterpolargl\",\"marker\":{\"colorbar\":{\"outlinewidth\":0,\"ticks\":\"\"}}}],\"bar\":[{\"error_x\":{\"color\":\"#2a3f5f\"},\"error_y\":{\"color\":\"#2a3f5f\"},\"marker\":{\"line\":{\"color\":\"#E5ECF6\",\"width\":0.5},\"pattern\":{\"fillmode\":\"overlay\",\"size\":10,\"solidity\":0.2}},\"type\":\"bar\"}],\"scattergeo\":[{\"type\":\"scattergeo\",\"marker\":{\"colorbar\":{\"outlinewidth\":0,\"ticks\":\"\"}}}],\"scatterpolar\":[{\"type\":\"scatterpolar\",\"marker\":{\"colorbar\":{\"outlinewidth\":0,\"ticks\":\"\"}}}],\"histogram\":[{\"marker\":{\"pattern\":{\"fillmode\":\"overlay\",\"size\":10,\"solidity\":0.2}},\"type\":\"histogram\"}],\"scattergl\":[{\"type\":\"scattergl\",\"marker\":{\"colorbar\":{\"outlinewidth\":0,\"ticks\":\"\"}}}],\"scatter3d\":[{\"type\":\"scatter3d\",\"line\":{\"colorbar\":{\"outlinewidth\":0,\"ticks\":\"\"}},\"marker\":{\"colorbar\":{\"outlinewidth\":0,\"ticks\":\"\"}}}],\"scattermapbox\":[{\"type\":\"scattermapbox\",\"marker\":{\"colorbar\":{\"outlinewidth\":0,\"ticks\":\"\"}}}],\"scatterternary\":[{\"type\":\"scatterternary\",\"marker\":{\"colorbar\":{\"outlinewidth\":0,\"ticks\":\"\"}}}],\"scattercarpet\":[{\"type\":\"scattercarpet\",\"marker\":{\"colorbar\":{\"outlinewidth\":0,\"ticks\":\"\"}}}],\"carpet\":[{\"aaxis\":{\"endlinecolor\":\"#2a3f5f\",\"gridcolor\":\"white\",\"linecolor\":\"white\",\"minorgridcolor\":\"white\",\"startlinecolor\":\"#2a3f5f\"},\"baxis\":{\"endlinecolor\":\"#2a3f5f\",\"gridcolor\":\"white\",\"linecolor\":\"white\",\"minorgridcolor\":\"white\",\"startlinecolor\":\"#2a3f5f\"},\"type\":\"carpet\"}],\"table\":[{\"cells\":{\"fill\":{\"color\":\"#EBF0F8\"},\"line\":{\"color\":\"white\"}},\"header\":{\"fill\":{\"color\":\"#C8D4E3\"},\"line\":{\"color\":\"white\"}},\"type\":\"table\"}],\"barpolar\":[{\"marker\":{\"line\":{\"color\":\"#E5ECF6\",\"width\":0.5},\"pattern\":{\"fillmode\":\"overlay\",\"size\":10,\"solidity\":0.2}},\"type\":\"barpolar\"}],\"pie\":[{\"automargin\":true,\"type\":\"pie\"}]},\"layout\":{\"autotypenumbers\":\"strict\",\"colorway\":[\"#636efa\",\"#EF553B\",\"#00cc96\",\"#ab63fa\",\"#FFA15A\",\"#19d3f3\",\"#FF6692\",\"#B6E880\",\"#FF97FF\",\"#FECB52\"],\"font\":{\"color\":\"#2a3f5f\"},\"hovermode\":\"closest\",\"hoverlabel\":{\"align\":\"left\"},\"paper_bgcolor\":\"white\",\"plot_bgcolor\":\"#E5ECF6\",\"polar\":{\"bgcolor\":\"#E5ECF6\",\"angularaxis\":{\"gridcolor\":\"white\",\"linecolor\":\"white\",\"ticks\":\"\"},\"radialaxis\":{\"gridcolor\":\"white\",\"linecolor\":\"white\",\"ticks\":\"\"}},\"ternary\":{\"bgcolor\":\"#E5ECF6\",\"aaxis\":{\"gridcolor\":\"white\",\"linecolor\":\"white\",\"ticks\":\"\"},\"baxis\":{\"gridcolor\":\"white\",\"linecolor\":\"white\",\"ticks\":\"\"},\"caxis\":{\"gridcolor\":\"white\",\"linecolor\":\"white\",\"ticks\":\"\"}},\"coloraxis\":{\"colorbar\":{\"outlinewidth\":0,\"ticks\":\"\"}},\"colorscale\":{\"sequential\":[[0.0,\"#0d0887\"],[0.1111111111111111,\"#46039f\"],[0.2222222222222222,\"#7201a8\"],[0.3333333333333333,\"#9c179e\"],[0.4444444444444444,\"#bd3786\"],[0.5555555555555556,\"#d8576b\"],[0.6666666666666666,\"#ed7953\"],[0.7777777777777778,\"#fb9f3a\"],[0.8888888888888888,\"#fdca26\"],[1.0,\"#f0f921\"]],\"sequentialminus\":[[0.0,\"#0d0887\"],[0.1111111111111111,\"#46039f\"],[0.2222222222222222,\"#7201a8\"],[0.3333333333333333,\"#9c179e\"],[0.4444444444444444,\"#bd3786\"],[0.5555555555555556,\"#d8576b\"],[0.6666666666666666,\"#ed7953\"],[0.7777777777777778,\"#fb9f3a\"],[0.8888888888888888,\"#fdca26\"],[1.0,\"#f0f921\"]],\"diverging\":[[0,\"#8e0152\"],[0.1,\"#c51b7d\"],[0.2,\"#de77ae\"],[0.3,\"#f1b6da\"],[0.4,\"#fde0ef\"],[0.5,\"#f7f7f7\"],[0.6,\"#e6f5d0\"],[0.7,\"#b8e186\"],[0.8,\"#7fbc41\"],[0.9,\"#4d9221\"],[1,\"#276419\"]]},\"xaxis\":{\"gridcolor\":\"white\",\"linecolor\":\"white\",\"ticks\":\"\",\"title\":{\"standoff\":15},\"zerolinecolor\":\"white\",\"automargin\":true,\"zerolinewidth\":2},\"yaxis\":{\"gridcolor\":\"white\",\"linecolor\":\"white\",\"ticks\":\"\",\"title\":{\"standoff\":15},\"zerolinecolor\":\"white\",\"automargin\":true,\"zerolinewidth\":2},\"scene\":{\"xaxis\":{\"backgroundcolor\":\"#E5ECF6\",\"gridcolor\":\"white\",\"linecolor\":\"white\",\"showbackground\":true,\"ticks\":\"\",\"zerolinecolor\":\"white\",\"gridwidth\":2},\"yaxis\":{\"backgroundcolor\":\"#E5ECF6\",\"gridcolor\":\"white\",\"linecolor\":\"white\",\"showbackground\":true,\"ticks\":\"\",\"zerolinecolor\":\"white\",\"gridwidth\":2},\"zaxis\":{\"backgroundcolor\":\"#E5ECF6\",\"gridcolor\":\"white\",\"linecolor\":\"white\",\"showbackground\":true,\"ticks\":\"\",\"zerolinecolor\":\"white\",\"gridwidth\":2}},\"shapedefaults\":{\"line\":{\"color\":\"#2a3f5f\"}},\"annotationdefaults\":{\"arrowcolor\":\"#2a3f5f\",\"arrowhead\":0,\"arrowwidth\":1},\"geo\":{\"bgcolor\":\"white\",\"landcolor\":\"#E5ECF6\",\"subunitcolor\":\"white\",\"showland\":true,\"showlakes\":true,\"lakecolor\":\"white\"},\"title\":{\"x\":0.05},\"mapbox\":{\"style\":\"light\"}}},\"xaxis\":{\"anchor\":\"y\",\"domain\":[0.0,1.0],\"title\":{\"text\":\"Date\"}},\"yaxis\":{\"anchor\":\"x\",\"domain\":[0.0,1.0],\"title\":{\"text\":\"change_percentage\"}},\"legend\":{\"tracegroupgap\":0},\"margin\":{\"t\":60}},                        {\"responsive\": true}                    ).then(function(){\n",
       "                            \n",
       "var gd = document.getElementById('a1832de4-7585-4054-a5d1-0d14ba51abb0');\n",
       "var x = new MutationObserver(function (mutations, observer) {{\n",
       "        var display = window.getComputedStyle(gd).display;\n",
       "        if (!display || display === 'none') {{\n",
       "            console.log([gd, 'removed!']);\n",
       "            Plotly.purge(gd);\n",
       "            observer.disconnect();\n",
       "        }}\n",
       "}});\n",
       "\n",
       "// Listen for the removal of the full notebook cells\n",
       "var notebookContainer = gd.closest('#notebook-container');\n",
       "if (notebookContainer) {{\n",
       "    x.observe(notebookContainer, {childList: true});\n",
       "}}\n",
       "\n",
       "// Listen for the clearing of the current output cell\n",
       "var outputEl = gd.closest('.output');\n",
       "if (outputEl) {{\n",
       "    x.observe(outputEl, {childList: true});\n",
       "}}\n",
       "\n",
       "                        })                };                });            </script>        </div>"
      ]
     },
     "metadata": {},
     "output_type": "display_data"
    }
   ],
   "source": [
    "import plotly.express as px\n",
    "fig = px.line(train, x=\"Date\", y=\"change_percentage\", markers=True)\n",
    "fig.add_scatter(x=test[\"Date\"], y=test[\"change_percentage\"], mode=\"lines\", name=\"Test Data\",line_color=\"red\")\n",
    "fig.add_scatter(x=test[\"Date\"], y=test[\"pred\"], mode=\"lines\", name=\"Predicted Data\", line_color=\"green\")\n",
    "\n",
    "fig.show()"
   ]
  },
  {
   "cell_type": "code",
   "execution_count": 202,
   "id": "a4648ab6",
   "metadata": {},
   "outputs": [
    {
     "data": {
      "application/vnd.plotly.v1+json": {
       "config": {
        "plotlyServerURL": "https://plot.ly"
       },
       "data": [
        {
         "line": {
          "color": "red"
         },
         "mode": "lines",
         "name": "Test Data",
         "type": "scatter",
         "x": [
          "2023-03-01",
          "2023-03-02",
          "2023-03-05",
          "2023-03-06",
          "2023-03-07",
          "2023-03-08",
          "2023-03-09",
          "2023-03-12",
          "2023-03-13",
          "2023-03-14",
          "2023-03-15",
          "2023-03-16",
          "2023-03-19",
          "2023-03-20",
          "2023-03-21",
          "2023-03-22",
          "2023-03-23",
          "2023-03-26",
          "2023-03-27",
          "2023-03-28",
          "2023-03-29",
          "2023-03-30",
          "2023-04-02",
          "2023-04-03",
          "2023-04-04",
          "2023-04-05",
          "2023-04-06",
          "2023-04-09",
          "2023-04-10",
          "2023-04-11",
          "2023-04-12",
          "2023-04-13",
          "2023-04-18",
          "2023-04-19",
          "2023-04-26",
          "2023-04-27",
          "2023-04-30",
          "2023-05-01",
          "2023-05-02",
          "2023-05-03",
          "2023-05-07",
          "2023-05-08",
          "2023-05-09",
          "2023-05-10",
          "2023-05-11",
          "2023-05-14",
          "2023-05-15",
          "2023-05-16",
          "2023-05-17",
          "2023-05-18",
          "2023-05-21",
          "2023-05-22",
          "2023-05-23",
          "2023-05-24",
          "2023-05-25",
          "2023-05-28",
          "2023-05-29",
          "2023-05-30",
          "2023-05-31",
          "2023-06-01",
          "2023-06-04",
          "2023-06-05",
          "2023-06-06",
          "2023-06-07",
          "2023-06-08",
          "2023-06-11",
          "2023-06-12",
          "2023-06-13",
          "2023-06-14",
          "2023-06-15",
          "2023-06-18",
          "2023-06-19",
          "2023-06-20",
          "2023-06-21",
          "2023-06-22",
          "2023-06-25",
          "2023-06-26",
          "2023-07-04",
          "2023-07-05",
          "2023-07-06",
          "2023-07-09",
          "2023-07-10",
          "2023-07-11",
          "2023-07-12",
          "2023-07-13",
          "2023-07-16",
          "2023-07-17",
          "2023-07-18",
          "2023-07-19",
          "2023-07-24",
          "2023-07-25",
          "2023-07-26",
          "2023-07-27",
          "2023-07-30",
          "2023-07-31",
          "2023-08-01",
          "2023-08-02",
          "2023-08-03",
          "2023-08-06",
          "2023-08-07",
          "2023-08-08",
          "2023-08-09",
          "2023-08-10",
          "2023-08-13",
          "2023-08-14",
          "2023-08-15",
          "2023-08-16",
          "2023-08-17",
          "2023-08-20",
          "2023-08-21",
          "2023-08-22",
          "2023-08-23",
          "2023-08-24",
          "2023-08-27",
          "2023-08-28",
          "2023-08-29",
          "2023-08-30",
          "2023-08-31",
          "2023-09-03",
          "2023-09-04",
          "2023-09-05",
          "2023-09-06",
          "2023-09-07",
          "2023-09-10",
          "2023-09-11",
          "2023-09-12",
          "2023-09-13",
          "2023-09-14",
          "2023-09-17",
          "2023-09-18",
          "2023-09-19",
          "2023-09-20",
          "2023-09-21",
          "2023-09-24",
          "2023-09-25",
          "2023-09-26",
          "2023-09-27",
          "2023-10-01",
          "2023-10-02",
          "2023-10-03",
          "2023-10-04",
          "2023-10-08",
          "2023-10-09",
          "2023-10-10",
          "2023-10-11",
          "2023-10-12",
          "2023-10-15",
          "2023-10-16",
          "2023-10-17",
          "2023-10-18",
          "2023-10-19",
          "2023-10-22",
          "2023-10-23",
          "2023-10-24",
          "2023-10-25",
          "2023-10-26",
          "2023-10-29",
          "2023-10-30",
          "2023-10-31",
          "2023-11-01",
          "2023-11-02",
          "2023-11-05",
          "2023-11-06",
          "2023-11-07",
          "2023-11-08",
          "2023-11-09",
          "2023-11-12",
          "2023-11-13",
          "2023-11-14",
          "2023-11-15",
          "2023-11-16",
          "2023-11-19",
          "2023-11-20",
          "2023-11-21",
          "2023-11-22",
          "2023-11-23",
          "2023-11-26",
          "2023-11-27",
          "2023-11-28",
          "2023-11-29",
          "2023-11-30",
          "2023-12-03",
          "2023-12-04",
          "2023-12-05",
          "2023-12-06",
          "2023-12-07",
          "2023-12-10",
          "2023-12-11",
          "2023-12-12",
          "2023-12-13",
          "2023-12-14",
          "2023-12-17",
          "2023-12-18",
          "2023-12-19",
          "2023-12-20",
          "2023-12-21",
          "2023-12-24",
          "2023-12-25",
          "2023-12-26",
          "2023-12-27",
          "2023-12-28",
          "2023-12-31",
          "2024-01-02",
          "2024-01-03",
          "2024-01-04",
          "2024-01-08",
          "2024-01-09",
          "2024-01-10",
          "2024-01-11",
          "2024-01-14",
          "2024-01-15",
          "2024-01-16",
          "2024-01-17",
          "2024-01-18",
          "2024-01-21",
          "2024-01-22",
          "2024-01-23",
          "2024-01-24",
          "2024-01-28",
          "2024-01-29",
          "2024-01-30",
          "2024-01-31",
          "2024-02-01",
          "2024-02-04",
          "2024-02-05",
          "2024-02-06",
          "2024-02-07",
          "2024-02-08",
          "2024-02-11",
          "2024-02-12",
          "2024-02-13",
          "2024-02-14",
          "2024-02-15",
          "2024-02-18",
          "2024-02-19",
          "2024-02-20",
          "2024-02-21",
          "2024-02-22",
          "2024-02-25",
          "2024-02-26",
          "2024-02-27",
          "2024-02-28",
          "2024-02-29",
          "2024-03-03",
          "2024-03-04",
          "2024-03-05",
          "2024-03-06",
          "2024-03-07",
          "2024-03-10",
          "2024-03-11",
          "2024-03-12",
          "2024-03-13",
          "2024-03-14",
          "2024-03-17",
          "2024-03-18",
          "2024-03-19",
          "2024-03-20",
          "2024-03-21",
          "2024-03-24",
          "2024-03-25",
          "2024-03-26"
         ],
         "y": [
          1,
          0,
          0,
          0,
          0,
          0,
          1,
          0,
          0,
          0,
          0,
          0,
          0,
          1,
          1,
          0,
          1,
          1,
          0,
          0,
          1,
          1,
          1,
          1,
          0,
          1,
          0,
          0,
          1,
          1,
          0,
          1,
          0,
          0,
          0,
          1,
          0,
          0,
          0,
          0,
          0,
          1,
          0,
          1,
          0,
          1,
          0,
          0,
          0,
          0,
          1,
          0,
          1,
          1,
          0,
          1,
          1,
          1,
          0,
          1,
          0,
          0,
          1,
          0,
          1,
          1,
          0,
          1,
          1,
          1,
          1,
          0,
          0,
          0,
          1,
          0,
          1,
          0,
          0,
          0,
          0,
          1,
          1,
          0,
          1,
          -1,
          1,
          1,
          0,
          0,
          0,
          0,
          0,
          1,
          1,
          0,
          0,
          0,
          1,
          1,
          0,
          1,
          0,
          1,
          1,
          1,
          1,
          0,
          1,
          0,
          1,
          0,
          1,
          1,
          1,
          1,
          1,
          1,
          0,
          1,
          1,
          1,
          1,
          1,
          0,
          0,
          1,
          1,
          1,
          1,
          1,
          0,
          1,
          1,
          1,
          1,
          0,
          0,
          0,
          0,
          1,
          0,
          1,
          1,
          0,
          1,
          1,
          1,
          1,
          1,
          0,
          1,
          1,
          0,
          1,
          1,
          0,
          1,
          0,
          0,
          1,
          1,
          0,
          1,
          1,
          1,
          0,
          1,
          0,
          1,
          1,
          1,
          0,
          1,
          1,
          1,
          0,
          1,
          0,
          0,
          0,
          0,
          1,
          0,
          0,
          0,
          0,
          0,
          0,
          1,
          0,
          1,
          1,
          0,
          0,
          0,
          0,
          1,
          0,
          1,
          1,
          1,
          1,
          0,
          0,
          0,
          1,
          0,
          1,
          1,
          1,
          1,
          0,
          1,
          1,
          1,
          0,
          1,
          1,
          1,
          1,
          0,
          1,
          0,
          1,
          0,
          1,
          1,
          0,
          1,
          1,
          1,
          1,
          1,
          1,
          0,
          0,
          1,
          0,
          1,
          1,
          0,
          1,
          1,
          1,
          1,
          0,
          1,
          1,
          1,
          0,
          0,
          1,
          0,
          0,
          0,
          0,
          1,
          1,
          1,
          0
         ]
        },
        {
         "line": {
          "color": "green"
         },
         "mode": "lines",
         "name": "Predicted Data",
         "type": "scatter",
         "x": [
          "2023-03-01",
          "2023-03-02",
          "2023-03-05",
          "2023-03-06",
          "2023-03-07",
          "2023-03-08",
          "2023-03-09",
          "2023-03-12",
          "2023-03-13",
          "2023-03-14",
          "2023-03-15",
          "2023-03-16",
          "2023-03-19",
          "2023-03-20",
          "2023-03-21",
          "2023-03-22",
          "2023-03-23",
          "2023-03-26",
          "2023-03-27",
          "2023-03-28",
          "2023-03-29",
          "2023-03-30",
          "2023-04-02",
          "2023-04-03",
          "2023-04-04",
          "2023-04-05",
          "2023-04-06",
          "2023-04-09",
          "2023-04-10",
          "2023-04-11",
          "2023-04-12",
          "2023-04-13",
          "2023-04-18",
          "2023-04-19",
          "2023-04-26",
          "2023-04-27",
          "2023-04-30",
          "2023-05-01",
          "2023-05-02",
          "2023-05-03",
          "2023-05-07",
          "2023-05-08",
          "2023-05-09",
          "2023-05-10",
          "2023-05-11",
          "2023-05-14",
          "2023-05-15",
          "2023-05-16",
          "2023-05-17",
          "2023-05-18",
          "2023-05-21",
          "2023-05-22",
          "2023-05-23",
          "2023-05-24",
          "2023-05-25",
          "2023-05-28",
          "2023-05-29",
          "2023-05-30",
          "2023-05-31",
          "2023-06-01",
          "2023-06-04",
          "2023-06-05",
          "2023-06-06",
          "2023-06-07",
          "2023-06-08",
          "2023-06-11",
          "2023-06-12",
          "2023-06-13",
          "2023-06-14",
          "2023-06-15",
          "2023-06-18",
          "2023-06-19",
          "2023-06-20",
          "2023-06-21",
          "2023-06-22",
          "2023-06-25",
          "2023-06-26",
          "2023-07-04",
          "2023-07-05",
          "2023-07-06",
          "2023-07-09",
          "2023-07-10",
          "2023-07-11",
          "2023-07-12",
          "2023-07-13",
          "2023-07-16",
          "2023-07-17",
          "2023-07-18",
          "2023-07-19",
          "2023-07-24",
          "2023-07-25",
          "2023-07-26",
          "2023-07-27",
          "2023-07-30",
          "2023-07-31",
          "2023-08-01",
          "2023-08-02",
          "2023-08-03",
          "2023-08-06",
          "2023-08-07",
          "2023-08-08",
          "2023-08-09",
          "2023-08-10",
          "2023-08-13",
          "2023-08-14",
          "2023-08-15",
          "2023-08-16",
          "2023-08-17",
          "2023-08-20",
          "2023-08-21",
          "2023-08-22",
          "2023-08-23",
          "2023-08-24",
          "2023-08-27",
          "2023-08-28",
          "2023-08-29",
          "2023-08-30",
          "2023-08-31",
          "2023-09-03",
          "2023-09-04",
          "2023-09-05",
          "2023-09-06",
          "2023-09-07",
          "2023-09-10",
          "2023-09-11",
          "2023-09-12",
          "2023-09-13",
          "2023-09-14",
          "2023-09-17",
          "2023-09-18",
          "2023-09-19",
          "2023-09-20",
          "2023-09-21",
          "2023-09-24",
          "2023-09-25",
          "2023-09-26",
          "2023-09-27",
          "2023-10-01",
          "2023-10-02",
          "2023-10-03",
          "2023-10-04",
          "2023-10-08",
          "2023-10-09",
          "2023-10-10",
          "2023-10-11",
          "2023-10-12",
          "2023-10-15",
          "2023-10-16",
          "2023-10-17",
          "2023-10-18",
          "2023-10-19",
          "2023-10-22",
          "2023-10-23",
          "2023-10-24",
          "2023-10-25",
          "2023-10-26",
          "2023-10-29",
          "2023-10-30",
          "2023-10-31",
          "2023-11-01",
          "2023-11-02",
          "2023-11-05",
          "2023-11-06",
          "2023-11-07",
          "2023-11-08",
          "2023-11-09",
          "2023-11-12",
          "2023-11-13",
          "2023-11-14",
          "2023-11-15",
          "2023-11-16",
          "2023-11-19",
          "2023-11-20",
          "2023-11-21",
          "2023-11-22",
          "2023-11-23",
          "2023-11-26",
          "2023-11-27",
          "2023-11-28",
          "2023-11-29",
          "2023-11-30",
          "2023-12-03",
          "2023-12-04",
          "2023-12-05",
          "2023-12-06",
          "2023-12-07",
          "2023-12-10",
          "2023-12-11",
          "2023-12-12",
          "2023-12-13",
          "2023-12-14",
          "2023-12-17",
          "2023-12-18",
          "2023-12-19",
          "2023-12-20",
          "2023-12-21",
          "2023-12-24",
          "2023-12-25",
          "2023-12-26",
          "2023-12-27",
          "2023-12-28",
          "2023-12-31",
          "2024-01-02",
          "2024-01-03",
          "2024-01-04",
          "2024-01-08",
          "2024-01-09",
          "2024-01-10",
          "2024-01-11",
          "2024-01-14",
          "2024-01-15",
          "2024-01-16",
          "2024-01-17",
          "2024-01-18",
          "2024-01-21",
          "2024-01-22",
          "2024-01-23",
          "2024-01-24",
          "2024-01-28",
          "2024-01-29",
          "2024-01-30",
          "2024-01-31",
          "2024-02-01",
          "2024-02-04",
          "2024-02-05",
          "2024-02-06",
          "2024-02-07",
          "2024-02-08",
          "2024-02-11",
          "2024-02-12",
          "2024-02-13",
          "2024-02-14",
          "2024-02-15",
          "2024-02-18",
          "2024-02-19",
          "2024-02-20",
          "2024-02-21",
          "2024-02-22",
          "2024-02-25",
          "2024-02-26",
          "2024-02-27",
          "2024-02-28",
          "2024-02-29",
          "2024-03-03",
          "2024-03-04",
          "2024-03-05",
          "2024-03-06",
          "2024-03-07",
          "2024-03-10",
          "2024-03-11",
          "2024-03-12",
          "2024-03-13",
          "2024-03-14",
          "2024-03-17",
          "2024-03-18",
          "2024-03-19",
          "2024-03-20",
          "2024-03-21",
          "2024-03-24",
          "2024-03-25",
          "2024-03-26"
         ],
         "y": [
          0.34551118060963465,
          0.9914790872282211,
          1.0046076604918088,
          0.4220161907149035,
          0.42260080353389345,
          0.008049198790067436,
          1.0080991884518473,
          0.8375168002743187,
          1.4228505204524344,
          1.0081834240748924,
          0.008209475677673161,
          0.008235492209261255,
          -0.06092063512433027,
          0.9997665964577305,
          1.012921177166109,
          0.8450490319758059,
          0.016273017748466345,
          0.016440737575055986,
          1.0165167346001678,
          0.43126703657934384,
          1.431320081327155,
          1.0166789923127957,
          0.016731051278757958,
          0.01678307517352756,
          -0.05234704479688257,
          0.5936728769418516,
          0.6068534650134119,
          0.4390073271862902,
          0.43964395473514783,
          0.025144364718410805,
          1.4399396863132117,
          0.02532936124255286,
          1.0254084133535453,
          1.025486648908875,
          0.44025803244452627,
          0.02564274649596887,
          0.3712319510952478,
          1.017277880197163,
          1.0304844756319043,
          0.4479710279614557,
          0.4486336628734944,
          -0.3805332369865696,
          1.4489814091779203,
          0.4490904086769507,
          1.4491954681511243,
          1.0346063938631271,
          0.034710467555451485,
          -0.3798788110299249,
          0.3804297181390431,
          1.0265016546041392,
          1.0397342574020616,
          0.042553499888286106,
          0.4579354593700138,
          0.04348788407963883,
          1.4583352204008018,
          0.8731635444695209,
          1.4586012941003674,
          1.0440382271755513,
          -0.3705250089754513,
          -0.37039496299113867,
          -0.02475374366549765,
          1.0360375173692875,
          0.634602810323883,
          0.05214137737979646,
          0.4675493442247052,
          -0.36156554090899673,
          1.4680011199818552,
          0.4681621342072477,
          1.053625891201275,
          1.0537821488461478,
          -0.3607550799416737,
          0.054094290612327955,
          0.39976151730115,
          0.6311921512861003,
          1.0591700860168927,
          0.4767346604359872,
          0.477475317437569,
          0.0630797568735561,
          1.4779791079210811,
          0.4781661295096544,
          1.478349211073371,
          1.0638381588749168,
          -0.3506730625497237,
          0.06420231536745902,
          0.4098955494194621,
          1.0560455079741013,
          1.0693561328615668,
          0.07225339743733444,
          0.07302006180209725,
          0.07334382580777338,
          1.4882691842184794,
          0.488482213170234,
          1.4886913020971313,
          0.6595129400553503,
          -0.34027895679960124,
          -0.3400708887257455,
          0.4203416698959466,
          1.066517635813767,
          1.4945475852709214,
          0.08277754000336207,
          0.4982635289378139,
          -0.3307733341063449,
          1.0841780316675422,
          0.49911038518898554,
          1.499345481479064,
          1.084886444006972,
          -0.32957276269130636,
          0.08535462995223841,
          0.016406561524095586,
          0.662608534805097,
          1.0906644916254324,
          0.5083070881340701,
          0.094432450018687,
          0.0948082287507252,
          1.0950922846812854,
          0.51005064556591,
          1.5103117492191693,
          1.0958787191102584,
          -0.31855448022483907,
          -0.31829439742462123,
          0.027476858716924957,
          1.0883981565676153,
          0.687093486338116,
          0.5194554074164426,
          0.5203000938707485,
          -0.30868475444704824,
          1.9357052604662168,
          0.10660967709449837,
          1.521590105317447,
          1.107183082571717,
          -0.30722410940019934,
          0.10775529796970751,
          0.03885924426792675,
          0.6851132322752902,
          1.1132212038219877,
          0.1162224978504795,
          0.5317865088744744,
          0.11752098512636672,
          1.117857055783289,
          0.5328674313942756,
          1.533180549773897,
          1.1187995343913482,
          -0.2955816502173872,
          0.11942376451570069,
          0.05055371817710097,
          1.1115270307541534,
          1.124967692457524,
          0.5426883110557048,
          0.5435850122363728,
          0.1293454958514461,
          1.1297075738715494,
          0.13005063963920888,
          1.5450830825885196,
          1.1307280745691517,
          -0.2836271026764026,
          0.1314043194198663,
          0.06256028044444761,
          0.7088662831781731,
          1.1370262694512328,
          0.14007957820608657,
          0.1410022867499356,
          0.14148209493469793,
          1.5565634975244902,
          0.556932570655331,
          1.1426043865548066,
          1.1429687031051277,
          -0.2713604667772456,
          0.14369696268220433,
          0.07487893106996668,
          1.1359042583733812,
          0.734703617596606,
          0.15247625092114875,
          0.1534249668281788,
          -0.2607625348303858,
          1.5690381923290955,
          0.5694332728231171,
          1.155131096085774,
          1.155521419999276,
          0.15591157468659178,
          -0.2583916229037932,
          0.08750967005365812,
          0.7338676875137458,
          1.1620796885131675,
          0.16518501199438335,
          0.5808530524711024,
          0.16669155817571885,
          1.996518292698381,
          0.16755274614256804,
          1.5826632111814216,
          1.1683862252515969,
          0.16880238730209363,
          0.16921851428139767,
          0.51514581460203,
          0.7468365222187907,
          1.1750745305813934,
          0.5928991786322984,
          0.5938999092656905,
          -0.23492889487302004,
          1.5949238470128233,
          0.595370942233207,
          1.5958140974287338,
          1.18156311886209,
          0.1820052882757679,
          0.18244742261825297,
          0.11370741309555837,
          1.174810762488516,
          0.7736881438012839,
          0.19153879921536981,
          0.607258854418451,
          0.19314937484942946,
          1.6083348068919459,
          0.6088079094755108,
          2.0239703892407266,
          1.1950521008307557,
          0.1955202776076146,
          -0.21870489789322728,
          0.12727441715376714,
          0.7737104567033979,
          0.7873071625858548,
          0.20518382536312169,
          0.6209298879293839,
          0.2068464157235434,
          2.036751172335749,
          0.20786364786947858,
          1.6230521349978755,
          0.7941598539510859,
          -0.20534596190887427,
          0.20984150436648086,
          0.14115350957014833,
          1.202308873689468,
          1.6306249041416139,
          1.048527574282062,
          0.2202196925919812,
          0.22085554495582976,
          1.6360929917247082,
          0.22192479182812724,
          1.637139286319705,
          1.2229663298426043,
          -0.19120679586068273,
          -0.19068663942865455,
          0.5700380075512099,
          1.2165260618272027,
          0.8154814652295137,
          0.6481034599396507,
          1.0639015372322749,
          -0.17951655466021943,
          1.650440216678348,
          0.23629802414494788,
          1.6515385259997069,
          1.2373915768857873,
          0.23793777575218922,
          0.23848393954739844,
          0.584541276683936,
          1.2310553383231098,
          1.2447300662951097,
          0.24799143395541184,
          1.078508835817725,
          0.24981006849491977,
          1.2504062127836524,
          0.2509833448199414,
          1.2515565368313732
         ]
        }
       ],
       "layout": {
        "template": {
         "data": {
          "bar": [
           {
            "error_x": {
             "color": "#2a3f5f"
            },
            "error_y": {
             "color": "#2a3f5f"
            },
            "marker": {
             "line": {
              "color": "#E5ECF6",
              "width": 0.5
             },
             "pattern": {
              "fillmode": "overlay",
              "size": 10,
              "solidity": 0.2
             }
            },
            "type": "bar"
           }
          ],
          "barpolar": [
           {
            "marker": {
             "line": {
              "color": "#E5ECF6",
              "width": 0.5
             },
             "pattern": {
              "fillmode": "overlay",
              "size": 10,
              "solidity": 0.2
             }
            },
            "type": "barpolar"
           }
          ],
          "carpet": [
           {
            "aaxis": {
             "endlinecolor": "#2a3f5f",
             "gridcolor": "white",
             "linecolor": "white",
             "minorgridcolor": "white",
             "startlinecolor": "#2a3f5f"
            },
            "baxis": {
             "endlinecolor": "#2a3f5f",
             "gridcolor": "white",
             "linecolor": "white",
             "minorgridcolor": "white",
             "startlinecolor": "#2a3f5f"
            },
            "type": "carpet"
           }
          ],
          "choropleth": [
           {
            "colorbar": {
             "outlinewidth": 0,
             "ticks": ""
            },
            "type": "choropleth"
           }
          ],
          "contour": [
           {
            "colorbar": {
             "outlinewidth": 0,
             "ticks": ""
            },
            "colorscale": [
             [
              0,
              "#0d0887"
             ],
             [
              0.1111111111111111,
              "#46039f"
             ],
             [
              0.2222222222222222,
              "#7201a8"
             ],
             [
              0.3333333333333333,
              "#9c179e"
             ],
             [
              0.4444444444444444,
              "#bd3786"
             ],
             [
              0.5555555555555556,
              "#d8576b"
             ],
             [
              0.6666666666666666,
              "#ed7953"
             ],
             [
              0.7777777777777778,
              "#fb9f3a"
             ],
             [
              0.8888888888888888,
              "#fdca26"
             ],
             [
              1,
              "#f0f921"
             ]
            ],
            "type": "contour"
           }
          ],
          "contourcarpet": [
           {
            "colorbar": {
             "outlinewidth": 0,
             "ticks": ""
            },
            "type": "contourcarpet"
           }
          ],
          "heatmap": [
           {
            "colorbar": {
             "outlinewidth": 0,
             "ticks": ""
            },
            "colorscale": [
             [
              0,
              "#0d0887"
             ],
             [
              0.1111111111111111,
              "#46039f"
             ],
             [
              0.2222222222222222,
              "#7201a8"
             ],
             [
              0.3333333333333333,
              "#9c179e"
             ],
             [
              0.4444444444444444,
              "#bd3786"
             ],
             [
              0.5555555555555556,
              "#d8576b"
             ],
             [
              0.6666666666666666,
              "#ed7953"
             ],
             [
              0.7777777777777778,
              "#fb9f3a"
             ],
             [
              0.8888888888888888,
              "#fdca26"
             ],
             [
              1,
              "#f0f921"
             ]
            ],
            "type": "heatmap"
           }
          ],
          "heatmapgl": [
           {
            "colorbar": {
             "outlinewidth": 0,
             "ticks": ""
            },
            "colorscale": [
             [
              0,
              "#0d0887"
             ],
             [
              0.1111111111111111,
              "#46039f"
             ],
             [
              0.2222222222222222,
              "#7201a8"
             ],
             [
              0.3333333333333333,
              "#9c179e"
             ],
             [
              0.4444444444444444,
              "#bd3786"
             ],
             [
              0.5555555555555556,
              "#d8576b"
             ],
             [
              0.6666666666666666,
              "#ed7953"
             ],
             [
              0.7777777777777778,
              "#fb9f3a"
             ],
             [
              0.8888888888888888,
              "#fdca26"
             ],
             [
              1,
              "#f0f921"
             ]
            ],
            "type": "heatmapgl"
           }
          ],
          "histogram": [
           {
            "marker": {
             "pattern": {
              "fillmode": "overlay",
              "size": 10,
              "solidity": 0.2
             }
            },
            "type": "histogram"
           }
          ],
          "histogram2d": [
           {
            "colorbar": {
             "outlinewidth": 0,
             "ticks": ""
            },
            "colorscale": [
             [
              0,
              "#0d0887"
             ],
             [
              0.1111111111111111,
              "#46039f"
             ],
             [
              0.2222222222222222,
              "#7201a8"
             ],
             [
              0.3333333333333333,
              "#9c179e"
             ],
             [
              0.4444444444444444,
              "#bd3786"
             ],
             [
              0.5555555555555556,
              "#d8576b"
             ],
             [
              0.6666666666666666,
              "#ed7953"
             ],
             [
              0.7777777777777778,
              "#fb9f3a"
             ],
             [
              0.8888888888888888,
              "#fdca26"
             ],
             [
              1,
              "#f0f921"
             ]
            ],
            "type": "histogram2d"
           }
          ],
          "histogram2dcontour": [
           {
            "colorbar": {
             "outlinewidth": 0,
             "ticks": ""
            },
            "colorscale": [
             [
              0,
              "#0d0887"
             ],
             [
              0.1111111111111111,
              "#46039f"
             ],
             [
              0.2222222222222222,
              "#7201a8"
             ],
             [
              0.3333333333333333,
              "#9c179e"
             ],
             [
              0.4444444444444444,
              "#bd3786"
             ],
             [
              0.5555555555555556,
              "#d8576b"
             ],
             [
              0.6666666666666666,
              "#ed7953"
             ],
             [
              0.7777777777777778,
              "#fb9f3a"
             ],
             [
              0.8888888888888888,
              "#fdca26"
             ],
             [
              1,
              "#f0f921"
             ]
            ],
            "type": "histogram2dcontour"
           }
          ],
          "mesh3d": [
           {
            "colorbar": {
             "outlinewidth": 0,
             "ticks": ""
            },
            "type": "mesh3d"
           }
          ],
          "parcoords": [
           {
            "line": {
             "colorbar": {
              "outlinewidth": 0,
              "ticks": ""
             }
            },
            "type": "parcoords"
           }
          ],
          "pie": [
           {
            "automargin": true,
            "type": "pie"
           }
          ],
          "scatter": [
           {
            "fillpattern": {
             "fillmode": "overlay",
             "size": 10,
             "solidity": 0.2
            },
            "type": "scatter"
           }
          ],
          "scatter3d": [
           {
            "line": {
             "colorbar": {
              "outlinewidth": 0,
              "ticks": ""
             }
            },
            "marker": {
             "colorbar": {
              "outlinewidth": 0,
              "ticks": ""
             }
            },
            "type": "scatter3d"
           }
          ],
          "scattercarpet": [
           {
            "marker": {
             "colorbar": {
              "outlinewidth": 0,
              "ticks": ""
             }
            },
            "type": "scattercarpet"
           }
          ],
          "scattergeo": [
           {
            "marker": {
             "colorbar": {
              "outlinewidth": 0,
              "ticks": ""
             }
            },
            "type": "scattergeo"
           }
          ],
          "scattergl": [
           {
            "marker": {
             "colorbar": {
              "outlinewidth": 0,
              "ticks": ""
             }
            },
            "type": "scattergl"
           }
          ],
          "scattermapbox": [
           {
            "marker": {
             "colorbar": {
              "outlinewidth": 0,
              "ticks": ""
             }
            },
            "type": "scattermapbox"
           }
          ],
          "scatterpolar": [
           {
            "marker": {
             "colorbar": {
              "outlinewidth": 0,
              "ticks": ""
             }
            },
            "type": "scatterpolar"
           }
          ],
          "scatterpolargl": [
           {
            "marker": {
             "colorbar": {
              "outlinewidth": 0,
              "ticks": ""
             }
            },
            "type": "scatterpolargl"
           }
          ],
          "scatterternary": [
           {
            "marker": {
             "colorbar": {
              "outlinewidth": 0,
              "ticks": ""
             }
            },
            "type": "scatterternary"
           }
          ],
          "surface": [
           {
            "colorbar": {
             "outlinewidth": 0,
             "ticks": ""
            },
            "colorscale": [
             [
              0,
              "#0d0887"
             ],
             [
              0.1111111111111111,
              "#46039f"
             ],
             [
              0.2222222222222222,
              "#7201a8"
             ],
             [
              0.3333333333333333,
              "#9c179e"
             ],
             [
              0.4444444444444444,
              "#bd3786"
             ],
             [
              0.5555555555555556,
              "#d8576b"
             ],
             [
              0.6666666666666666,
              "#ed7953"
             ],
             [
              0.7777777777777778,
              "#fb9f3a"
             ],
             [
              0.8888888888888888,
              "#fdca26"
             ],
             [
              1,
              "#f0f921"
             ]
            ],
            "type": "surface"
           }
          ],
          "table": [
           {
            "cells": {
             "fill": {
              "color": "#EBF0F8"
             },
             "line": {
              "color": "white"
             }
            },
            "header": {
             "fill": {
              "color": "#C8D4E3"
             },
             "line": {
              "color": "white"
             }
            },
            "type": "table"
           }
          ]
         },
         "layout": {
          "annotationdefaults": {
           "arrowcolor": "#2a3f5f",
           "arrowhead": 0,
           "arrowwidth": 1
          },
          "autotypenumbers": "strict",
          "coloraxis": {
           "colorbar": {
            "outlinewidth": 0,
            "ticks": ""
           }
          },
          "colorscale": {
           "diverging": [
            [
             0,
             "#8e0152"
            ],
            [
             0.1,
             "#c51b7d"
            ],
            [
             0.2,
             "#de77ae"
            ],
            [
             0.3,
             "#f1b6da"
            ],
            [
             0.4,
             "#fde0ef"
            ],
            [
             0.5,
             "#f7f7f7"
            ],
            [
             0.6,
             "#e6f5d0"
            ],
            [
             0.7,
             "#b8e186"
            ],
            [
             0.8,
             "#7fbc41"
            ],
            [
             0.9,
             "#4d9221"
            ],
            [
             1,
             "#276419"
            ]
           ],
           "sequential": [
            [
             0,
             "#0d0887"
            ],
            [
             0.1111111111111111,
             "#46039f"
            ],
            [
             0.2222222222222222,
             "#7201a8"
            ],
            [
             0.3333333333333333,
             "#9c179e"
            ],
            [
             0.4444444444444444,
             "#bd3786"
            ],
            [
             0.5555555555555556,
             "#d8576b"
            ],
            [
             0.6666666666666666,
             "#ed7953"
            ],
            [
             0.7777777777777778,
             "#fb9f3a"
            ],
            [
             0.8888888888888888,
             "#fdca26"
            ],
            [
             1,
             "#f0f921"
            ]
           ],
           "sequentialminus": [
            [
             0,
             "#0d0887"
            ],
            [
             0.1111111111111111,
             "#46039f"
            ],
            [
             0.2222222222222222,
             "#7201a8"
            ],
            [
             0.3333333333333333,
             "#9c179e"
            ],
            [
             0.4444444444444444,
             "#bd3786"
            ],
            [
             0.5555555555555556,
             "#d8576b"
            ],
            [
             0.6666666666666666,
             "#ed7953"
            ],
            [
             0.7777777777777778,
             "#fb9f3a"
            ],
            [
             0.8888888888888888,
             "#fdca26"
            ],
            [
             1,
             "#f0f921"
            ]
           ]
          },
          "colorway": [
           "#636efa",
           "#EF553B",
           "#00cc96",
           "#ab63fa",
           "#FFA15A",
           "#19d3f3",
           "#FF6692",
           "#B6E880",
           "#FF97FF",
           "#FECB52"
          ],
          "font": {
           "color": "#2a3f5f"
          },
          "geo": {
           "bgcolor": "white",
           "lakecolor": "white",
           "landcolor": "#E5ECF6",
           "showlakes": true,
           "showland": true,
           "subunitcolor": "white"
          },
          "hoverlabel": {
           "align": "left"
          },
          "hovermode": "closest",
          "mapbox": {
           "style": "light"
          },
          "paper_bgcolor": "white",
          "plot_bgcolor": "#E5ECF6",
          "polar": {
           "angularaxis": {
            "gridcolor": "white",
            "linecolor": "white",
            "ticks": ""
           },
           "bgcolor": "#E5ECF6",
           "radialaxis": {
            "gridcolor": "white",
            "linecolor": "white",
            "ticks": ""
           }
          },
          "scene": {
           "xaxis": {
            "backgroundcolor": "#E5ECF6",
            "gridcolor": "white",
            "gridwidth": 2,
            "linecolor": "white",
            "showbackground": true,
            "ticks": "",
            "zerolinecolor": "white"
           },
           "yaxis": {
            "backgroundcolor": "#E5ECF6",
            "gridcolor": "white",
            "gridwidth": 2,
            "linecolor": "white",
            "showbackground": true,
            "ticks": "",
            "zerolinecolor": "white"
           },
           "zaxis": {
            "backgroundcolor": "#E5ECF6",
            "gridcolor": "white",
            "gridwidth": 2,
            "linecolor": "white",
            "showbackground": true,
            "ticks": "",
            "zerolinecolor": "white"
           }
          },
          "shapedefaults": {
           "line": {
            "color": "#2a3f5f"
           }
          },
          "ternary": {
           "aaxis": {
            "gridcolor": "white",
            "linecolor": "white",
            "ticks": ""
           },
           "baxis": {
            "gridcolor": "white",
            "linecolor": "white",
            "ticks": ""
           },
           "bgcolor": "#E5ECF6",
           "caxis": {
            "gridcolor": "white",
            "linecolor": "white",
            "ticks": ""
           }
          },
          "title": {
           "x": 0.05
          },
          "xaxis": {
           "automargin": true,
           "gridcolor": "white",
           "linecolor": "white",
           "ticks": "",
           "title": {
            "standoff": 15
           },
           "zerolinecolor": "white",
           "zerolinewidth": 2
          },
          "yaxis": {
           "automargin": true,
           "gridcolor": "white",
           "linecolor": "white",
           "ticks": "",
           "title": {
            "standoff": 15
           },
           "zerolinecolor": "white",
           "zerolinewidth": 2
          }
         }
        }
       }
      },
      "text/html": [
       "<div>                            <div id=\"22228f15-da1f-4173-b7db-f53cedc26343\" class=\"plotly-graph-div\" style=\"height:525px; width:100%;\"></div>            <script type=\"text/javascript\">                require([\"plotly\"], function(Plotly) {                    window.PLOTLYENV=window.PLOTLYENV || {};                                    if (document.getElementById(\"22228f15-da1f-4173-b7db-f53cedc26343\")) {                    Plotly.newPlot(                        \"22228f15-da1f-4173-b7db-f53cedc26343\",                        [{\"line\":{\"color\":\"red\"},\"mode\":\"lines\",\"name\":\"Test Data\",\"x\":[\"2023-03-01\",\"2023-03-02\",\"2023-03-05\",\"2023-03-06\",\"2023-03-07\",\"2023-03-08\",\"2023-03-09\",\"2023-03-12\",\"2023-03-13\",\"2023-03-14\",\"2023-03-15\",\"2023-03-16\",\"2023-03-19\",\"2023-03-20\",\"2023-03-21\",\"2023-03-22\",\"2023-03-23\",\"2023-03-26\",\"2023-03-27\",\"2023-03-28\",\"2023-03-29\",\"2023-03-30\",\"2023-04-02\",\"2023-04-03\",\"2023-04-04\",\"2023-04-05\",\"2023-04-06\",\"2023-04-09\",\"2023-04-10\",\"2023-04-11\",\"2023-04-12\",\"2023-04-13\",\"2023-04-18\",\"2023-04-19\",\"2023-04-26\",\"2023-04-27\",\"2023-04-30\",\"2023-05-01\",\"2023-05-02\",\"2023-05-03\",\"2023-05-07\",\"2023-05-08\",\"2023-05-09\",\"2023-05-10\",\"2023-05-11\",\"2023-05-14\",\"2023-05-15\",\"2023-05-16\",\"2023-05-17\",\"2023-05-18\",\"2023-05-21\",\"2023-05-22\",\"2023-05-23\",\"2023-05-24\",\"2023-05-25\",\"2023-05-28\",\"2023-05-29\",\"2023-05-30\",\"2023-05-31\",\"2023-06-01\",\"2023-06-04\",\"2023-06-05\",\"2023-06-06\",\"2023-06-07\",\"2023-06-08\",\"2023-06-11\",\"2023-06-12\",\"2023-06-13\",\"2023-06-14\",\"2023-06-15\",\"2023-06-18\",\"2023-06-19\",\"2023-06-20\",\"2023-06-21\",\"2023-06-22\",\"2023-06-25\",\"2023-06-26\",\"2023-07-04\",\"2023-07-05\",\"2023-07-06\",\"2023-07-09\",\"2023-07-10\",\"2023-07-11\",\"2023-07-12\",\"2023-07-13\",\"2023-07-16\",\"2023-07-17\",\"2023-07-18\",\"2023-07-19\",\"2023-07-24\",\"2023-07-25\",\"2023-07-26\",\"2023-07-27\",\"2023-07-30\",\"2023-07-31\",\"2023-08-01\",\"2023-08-02\",\"2023-08-03\",\"2023-08-06\",\"2023-08-07\",\"2023-08-08\",\"2023-08-09\",\"2023-08-10\",\"2023-08-13\",\"2023-08-14\",\"2023-08-15\",\"2023-08-16\",\"2023-08-17\",\"2023-08-20\",\"2023-08-21\",\"2023-08-22\",\"2023-08-23\",\"2023-08-24\",\"2023-08-27\",\"2023-08-28\",\"2023-08-29\",\"2023-08-30\",\"2023-08-31\",\"2023-09-03\",\"2023-09-04\",\"2023-09-05\",\"2023-09-06\",\"2023-09-07\",\"2023-09-10\",\"2023-09-11\",\"2023-09-12\",\"2023-09-13\",\"2023-09-14\",\"2023-09-17\",\"2023-09-18\",\"2023-09-19\",\"2023-09-20\",\"2023-09-21\",\"2023-09-24\",\"2023-09-25\",\"2023-09-26\",\"2023-09-27\",\"2023-10-01\",\"2023-10-02\",\"2023-10-03\",\"2023-10-04\",\"2023-10-08\",\"2023-10-09\",\"2023-10-10\",\"2023-10-11\",\"2023-10-12\",\"2023-10-15\",\"2023-10-16\",\"2023-10-17\",\"2023-10-18\",\"2023-10-19\",\"2023-10-22\",\"2023-10-23\",\"2023-10-24\",\"2023-10-25\",\"2023-10-26\",\"2023-10-29\",\"2023-10-30\",\"2023-10-31\",\"2023-11-01\",\"2023-11-02\",\"2023-11-05\",\"2023-11-06\",\"2023-11-07\",\"2023-11-08\",\"2023-11-09\",\"2023-11-12\",\"2023-11-13\",\"2023-11-14\",\"2023-11-15\",\"2023-11-16\",\"2023-11-19\",\"2023-11-20\",\"2023-11-21\",\"2023-11-22\",\"2023-11-23\",\"2023-11-26\",\"2023-11-27\",\"2023-11-28\",\"2023-11-29\",\"2023-11-30\",\"2023-12-03\",\"2023-12-04\",\"2023-12-05\",\"2023-12-06\",\"2023-12-07\",\"2023-12-10\",\"2023-12-11\",\"2023-12-12\",\"2023-12-13\",\"2023-12-14\",\"2023-12-17\",\"2023-12-18\",\"2023-12-19\",\"2023-12-20\",\"2023-12-21\",\"2023-12-24\",\"2023-12-25\",\"2023-12-26\",\"2023-12-27\",\"2023-12-28\",\"2023-12-31\",\"2024-01-02\",\"2024-01-03\",\"2024-01-04\",\"2024-01-08\",\"2024-01-09\",\"2024-01-10\",\"2024-01-11\",\"2024-01-14\",\"2024-01-15\",\"2024-01-16\",\"2024-01-17\",\"2024-01-18\",\"2024-01-21\",\"2024-01-22\",\"2024-01-23\",\"2024-01-24\",\"2024-01-28\",\"2024-01-29\",\"2024-01-30\",\"2024-01-31\",\"2024-02-01\",\"2024-02-04\",\"2024-02-05\",\"2024-02-06\",\"2024-02-07\",\"2024-02-08\",\"2024-02-11\",\"2024-02-12\",\"2024-02-13\",\"2024-02-14\",\"2024-02-15\",\"2024-02-18\",\"2024-02-19\",\"2024-02-20\",\"2024-02-21\",\"2024-02-22\",\"2024-02-25\",\"2024-02-26\",\"2024-02-27\",\"2024-02-28\",\"2024-02-29\",\"2024-03-03\",\"2024-03-04\",\"2024-03-05\",\"2024-03-06\",\"2024-03-07\",\"2024-03-10\",\"2024-03-11\",\"2024-03-12\",\"2024-03-13\",\"2024-03-14\",\"2024-03-17\",\"2024-03-18\",\"2024-03-19\",\"2024-03-20\",\"2024-03-21\",\"2024-03-24\",\"2024-03-25\",\"2024-03-26\"],\"y\":[1,0,0,0,0,0,1,0,0,0,0,0,0,1,1,0,1,1,0,0,1,1,1,1,0,1,0,0,1,1,0,1,0,0,0,1,0,0,0,0,0,1,0,1,0,1,0,0,0,0,1,0,1,1,0,1,1,1,0,1,0,0,1,0,1,1,0,1,1,1,1,0,0,0,1,0,1,0,0,0,0,1,1,0,1,-1,1,1,0,0,0,0,0,1,1,0,0,0,1,1,0,1,0,1,1,1,1,0,1,0,1,0,1,1,1,1,1,1,0,1,1,1,1,1,0,0,1,1,1,1,1,0,1,1,1,1,0,0,0,0,1,0,1,1,0,1,1,1,1,1,0,1,1,0,1,1,0,1,0,0,1,1,0,1,1,1,0,1,0,1,1,1,0,1,1,1,0,1,0,0,0,0,1,0,0,0,0,0,0,1,0,1,1,0,0,0,0,1,0,1,1,1,1,0,0,0,1,0,1,1,1,1,0,1,1,1,0,1,1,1,1,0,1,0,1,0,1,1,0,1,1,1,1,1,1,0,0,1,0,1,1,0,1,1,1,1,0,1,1,1,0,0,1,0,0,0,0,1,1,1,0],\"type\":\"scatter\"},{\"line\":{\"color\":\"green\"},\"mode\":\"lines\",\"name\":\"Predicted Data\",\"x\":[\"2023-03-01\",\"2023-03-02\",\"2023-03-05\",\"2023-03-06\",\"2023-03-07\",\"2023-03-08\",\"2023-03-09\",\"2023-03-12\",\"2023-03-13\",\"2023-03-14\",\"2023-03-15\",\"2023-03-16\",\"2023-03-19\",\"2023-03-20\",\"2023-03-21\",\"2023-03-22\",\"2023-03-23\",\"2023-03-26\",\"2023-03-27\",\"2023-03-28\",\"2023-03-29\",\"2023-03-30\",\"2023-04-02\",\"2023-04-03\",\"2023-04-04\",\"2023-04-05\",\"2023-04-06\",\"2023-04-09\",\"2023-04-10\",\"2023-04-11\",\"2023-04-12\",\"2023-04-13\",\"2023-04-18\",\"2023-04-19\",\"2023-04-26\",\"2023-04-27\",\"2023-04-30\",\"2023-05-01\",\"2023-05-02\",\"2023-05-03\",\"2023-05-07\",\"2023-05-08\",\"2023-05-09\",\"2023-05-10\",\"2023-05-11\",\"2023-05-14\",\"2023-05-15\",\"2023-05-16\",\"2023-05-17\",\"2023-05-18\",\"2023-05-21\",\"2023-05-22\",\"2023-05-23\",\"2023-05-24\",\"2023-05-25\",\"2023-05-28\",\"2023-05-29\",\"2023-05-30\",\"2023-05-31\",\"2023-06-01\",\"2023-06-04\",\"2023-06-05\",\"2023-06-06\",\"2023-06-07\",\"2023-06-08\",\"2023-06-11\",\"2023-06-12\",\"2023-06-13\",\"2023-06-14\",\"2023-06-15\",\"2023-06-18\",\"2023-06-19\",\"2023-06-20\",\"2023-06-21\",\"2023-06-22\",\"2023-06-25\",\"2023-06-26\",\"2023-07-04\",\"2023-07-05\",\"2023-07-06\",\"2023-07-09\",\"2023-07-10\",\"2023-07-11\",\"2023-07-12\",\"2023-07-13\",\"2023-07-16\",\"2023-07-17\",\"2023-07-18\",\"2023-07-19\",\"2023-07-24\",\"2023-07-25\",\"2023-07-26\",\"2023-07-27\",\"2023-07-30\",\"2023-07-31\",\"2023-08-01\",\"2023-08-02\",\"2023-08-03\",\"2023-08-06\",\"2023-08-07\",\"2023-08-08\",\"2023-08-09\",\"2023-08-10\",\"2023-08-13\",\"2023-08-14\",\"2023-08-15\",\"2023-08-16\",\"2023-08-17\",\"2023-08-20\",\"2023-08-21\",\"2023-08-22\",\"2023-08-23\",\"2023-08-24\",\"2023-08-27\",\"2023-08-28\",\"2023-08-29\",\"2023-08-30\",\"2023-08-31\",\"2023-09-03\",\"2023-09-04\",\"2023-09-05\",\"2023-09-06\",\"2023-09-07\",\"2023-09-10\",\"2023-09-11\",\"2023-09-12\",\"2023-09-13\",\"2023-09-14\",\"2023-09-17\",\"2023-09-18\",\"2023-09-19\",\"2023-09-20\",\"2023-09-21\",\"2023-09-24\",\"2023-09-25\",\"2023-09-26\",\"2023-09-27\",\"2023-10-01\",\"2023-10-02\",\"2023-10-03\",\"2023-10-04\",\"2023-10-08\",\"2023-10-09\",\"2023-10-10\",\"2023-10-11\",\"2023-10-12\",\"2023-10-15\",\"2023-10-16\",\"2023-10-17\",\"2023-10-18\",\"2023-10-19\",\"2023-10-22\",\"2023-10-23\",\"2023-10-24\",\"2023-10-25\",\"2023-10-26\",\"2023-10-29\",\"2023-10-30\",\"2023-10-31\",\"2023-11-01\",\"2023-11-02\",\"2023-11-05\",\"2023-11-06\",\"2023-11-07\",\"2023-11-08\",\"2023-11-09\",\"2023-11-12\",\"2023-11-13\",\"2023-11-14\",\"2023-11-15\",\"2023-11-16\",\"2023-11-19\",\"2023-11-20\",\"2023-11-21\",\"2023-11-22\",\"2023-11-23\",\"2023-11-26\",\"2023-11-27\",\"2023-11-28\",\"2023-11-29\",\"2023-11-30\",\"2023-12-03\",\"2023-12-04\",\"2023-12-05\",\"2023-12-06\",\"2023-12-07\",\"2023-12-10\",\"2023-12-11\",\"2023-12-12\",\"2023-12-13\",\"2023-12-14\",\"2023-12-17\",\"2023-12-18\",\"2023-12-19\",\"2023-12-20\",\"2023-12-21\",\"2023-12-24\",\"2023-12-25\",\"2023-12-26\",\"2023-12-27\",\"2023-12-28\",\"2023-12-31\",\"2024-01-02\",\"2024-01-03\",\"2024-01-04\",\"2024-01-08\",\"2024-01-09\",\"2024-01-10\",\"2024-01-11\",\"2024-01-14\",\"2024-01-15\",\"2024-01-16\",\"2024-01-17\",\"2024-01-18\",\"2024-01-21\",\"2024-01-22\",\"2024-01-23\",\"2024-01-24\",\"2024-01-28\",\"2024-01-29\",\"2024-01-30\",\"2024-01-31\",\"2024-02-01\",\"2024-02-04\",\"2024-02-05\",\"2024-02-06\",\"2024-02-07\",\"2024-02-08\",\"2024-02-11\",\"2024-02-12\",\"2024-02-13\",\"2024-02-14\",\"2024-02-15\",\"2024-02-18\",\"2024-02-19\",\"2024-02-20\",\"2024-02-21\",\"2024-02-22\",\"2024-02-25\",\"2024-02-26\",\"2024-02-27\",\"2024-02-28\",\"2024-02-29\",\"2024-03-03\",\"2024-03-04\",\"2024-03-05\",\"2024-03-06\",\"2024-03-07\",\"2024-03-10\",\"2024-03-11\",\"2024-03-12\",\"2024-03-13\",\"2024-03-14\",\"2024-03-17\",\"2024-03-18\",\"2024-03-19\",\"2024-03-20\",\"2024-03-21\",\"2024-03-24\",\"2024-03-25\",\"2024-03-26\"],\"y\":[0.34551118060963465,0.9914790872282211,1.0046076604918088,0.4220161907149035,0.42260080353389345,0.008049198790067436,1.0080991884518473,0.8375168002743187,1.4228505204524344,1.0081834240748924,0.008209475677673161,0.008235492209261255,-0.06092063512433027,0.9997665964577305,1.012921177166109,0.8450490319758059,0.016273017748466345,0.016440737575055986,1.0165167346001678,0.43126703657934384,1.431320081327155,1.0166789923127957,0.016731051278757958,0.01678307517352756,-0.05234704479688257,0.5936728769418516,0.6068534650134119,0.4390073271862902,0.43964395473514783,0.025144364718410805,1.4399396863132117,0.02532936124255286,1.0254084133535453,1.025486648908875,0.44025803244452627,0.02564274649596887,0.3712319510952478,1.017277880197163,1.0304844756319043,0.4479710279614557,0.4486336628734944,-0.3805332369865696,1.4489814091779203,0.4490904086769507,1.4491954681511243,1.0346063938631271,0.034710467555451485,-0.3798788110299249,0.3804297181390431,1.0265016546041392,1.0397342574020616,0.042553499888286106,0.4579354593700138,0.04348788407963883,1.4583352204008018,0.8731635444695209,1.4586012941003674,1.0440382271755513,-0.3705250089754513,-0.37039496299113867,-0.02475374366549765,1.0360375173692875,0.634602810323883,0.05214137737979646,0.4675493442247052,-0.36156554090899673,1.4680011199818552,0.4681621342072477,1.053625891201275,1.0537821488461478,-0.3607550799416737,0.054094290612327955,0.39976151730115,0.6311921512861003,1.0591700860168927,0.4767346604359872,0.477475317437569,0.0630797568735561,1.4779791079210811,0.4781661295096544,1.478349211073371,1.0638381588749168,-0.3506730625497237,0.06420231536745902,0.4098955494194621,1.0560455079741013,1.0693561328615668,0.07225339743733444,0.07302006180209725,0.07334382580777338,1.4882691842184794,0.488482213170234,1.4886913020971313,0.6595129400553503,-0.34027895679960124,-0.3400708887257455,0.4203416698959466,1.066517635813767,1.4945475852709214,0.08277754000336207,0.4982635289378139,-0.3307733341063449,1.0841780316675422,0.49911038518898554,1.499345481479064,1.084886444006972,-0.32957276269130636,0.08535462995223841,0.016406561524095586,0.662608534805097,1.0906644916254324,0.5083070881340701,0.094432450018687,0.0948082287507252,1.0950922846812854,0.51005064556591,1.5103117492191693,1.0958787191102584,-0.31855448022483907,-0.31829439742462123,0.027476858716924957,1.0883981565676153,0.687093486338116,0.5194554074164426,0.5203000938707485,-0.30868475444704824,1.9357052604662168,0.10660967709449837,1.521590105317447,1.107183082571717,-0.30722410940019934,0.10775529796970751,0.03885924426792675,0.6851132322752902,1.1132212038219877,0.1162224978504795,0.5317865088744744,0.11752098512636672,1.117857055783289,0.5328674313942756,1.533180549773897,1.1187995343913482,-0.2955816502173872,0.11942376451570069,0.05055371817710097,1.1115270307541534,1.124967692457524,0.5426883110557048,0.5435850122363728,0.1293454958514461,1.1297075738715494,0.13005063963920888,1.5450830825885196,1.1307280745691517,-0.2836271026764026,0.1314043194198663,0.06256028044444761,0.7088662831781731,1.1370262694512328,0.14007957820608657,0.1410022867499356,0.14148209493469793,1.5565634975244902,0.556932570655331,1.1426043865548066,1.1429687031051277,-0.2713604667772456,0.14369696268220433,0.07487893106996668,1.1359042583733812,0.734703617596606,0.15247625092114875,0.1534249668281788,-0.2607625348303858,1.5690381923290955,0.5694332728231171,1.155131096085774,1.155521419999276,0.15591157468659178,-0.2583916229037932,0.08750967005365812,0.7338676875137458,1.1620796885131675,0.16518501199438335,0.5808530524711024,0.16669155817571885,1.996518292698381,0.16755274614256804,1.5826632111814216,1.1683862252515969,0.16880238730209363,0.16921851428139767,0.51514581460203,0.7468365222187907,1.1750745305813934,0.5928991786322984,0.5938999092656905,-0.23492889487302004,1.5949238470128233,0.595370942233207,1.5958140974287338,1.18156311886209,0.1820052882757679,0.18244742261825297,0.11370741309555837,1.174810762488516,0.7736881438012839,0.19153879921536981,0.607258854418451,0.19314937484942946,1.6083348068919459,0.6088079094755108,2.0239703892407266,1.1950521008307557,0.1955202776076146,-0.21870489789322728,0.12727441715376714,0.7737104567033979,0.7873071625858548,0.20518382536312169,0.6209298879293839,0.2068464157235434,2.036751172335749,0.20786364786947858,1.6230521349978755,0.7941598539510859,-0.20534596190887427,0.20984150436648086,0.14115350957014833,1.202308873689468,1.6306249041416139,1.048527574282062,0.2202196925919812,0.22085554495582976,1.6360929917247082,0.22192479182812724,1.637139286319705,1.2229663298426043,-0.19120679586068273,-0.19068663942865455,0.5700380075512099,1.2165260618272027,0.8154814652295137,0.6481034599396507,1.0639015372322749,-0.17951655466021943,1.650440216678348,0.23629802414494788,1.6515385259997069,1.2373915768857873,0.23793777575218922,0.23848393954739844,0.584541276683936,1.2310553383231098,1.2447300662951097,0.24799143395541184,1.078508835817725,0.24981006849491977,1.2504062127836524,0.2509833448199414,1.2515565368313732],\"type\":\"scatter\"}],                        {\"template\":{\"data\":{\"histogram2dcontour\":[{\"type\":\"histogram2dcontour\",\"colorbar\":{\"outlinewidth\":0,\"ticks\":\"\"},\"colorscale\":[[0.0,\"#0d0887\"],[0.1111111111111111,\"#46039f\"],[0.2222222222222222,\"#7201a8\"],[0.3333333333333333,\"#9c179e\"],[0.4444444444444444,\"#bd3786\"],[0.5555555555555556,\"#d8576b\"],[0.6666666666666666,\"#ed7953\"],[0.7777777777777778,\"#fb9f3a\"],[0.8888888888888888,\"#fdca26\"],[1.0,\"#f0f921\"]]}],\"choropleth\":[{\"type\":\"choropleth\",\"colorbar\":{\"outlinewidth\":0,\"ticks\":\"\"}}],\"histogram2d\":[{\"type\":\"histogram2d\",\"colorbar\":{\"outlinewidth\":0,\"ticks\":\"\"},\"colorscale\":[[0.0,\"#0d0887\"],[0.1111111111111111,\"#46039f\"],[0.2222222222222222,\"#7201a8\"],[0.3333333333333333,\"#9c179e\"],[0.4444444444444444,\"#bd3786\"],[0.5555555555555556,\"#d8576b\"],[0.6666666666666666,\"#ed7953\"],[0.7777777777777778,\"#fb9f3a\"],[0.8888888888888888,\"#fdca26\"],[1.0,\"#f0f921\"]]}],\"heatmap\":[{\"type\":\"heatmap\",\"colorbar\":{\"outlinewidth\":0,\"ticks\":\"\"},\"colorscale\":[[0.0,\"#0d0887\"],[0.1111111111111111,\"#46039f\"],[0.2222222222222222,\"#7201a8\"],[0.3333333333333333,\"#9c179e\"],[0.4444444444444444,\"#bd3786\"],[0.5555555555555556,\"#d8576b\"],[0.6666666666666666,\"#ed7953\"],[0.7777777777777778,\"#fb9f3a\"],[0.8888888888888888,\"#fdca26\"],[1.0,\"#f0f921\"]]}],\"heatmapgl\":[{\"type\":\"heatmapgl\",\"colorbar\":{\"outlinewidth\":0,\"ticks\":\"\"},\"colorscale\":[[0.0,\"#0d0887\"],[0.1111111111111111,\"#46039f\"],[0.2222222222222222,\"#7201a8\"],[0.3333333333333333,\"#9c179e\"],[0.4444444444444444,\"#bd3786\"],[0.5555555555555556,\"#d8576b\"],[0.6666666666666666,\"#ed7953\"],[0.7777777777777778,\"#fb9f3a\"],[0.8888888888888888,\"#fdca26\"],[1.0,\"#f0f921\"]]}],\"contourcarpet\":[{\"type\":\"contourcarpet\",\"colorbar\":{\"outlinewidth\":0,\"ticks\":\"\"}}],\"contour\":[{\"type\":\"contour\",\"colorbar\":{\"outlinewidth\":0,\"ticks\":\"\"},\"colorscale\":[[0.0,\"#0d0887\"],[0.1111111111111111,\"#46039f\"],[0.2222222222222222,\"#7201a8\"],[0.3333333333333333,\"#9c179e\"],[0.4444444444444444,\"#bd3786\"],[0.5555555555555556,\"#d8576b\"],[0.6666666666666666,\"#ed7953\"],[0.7777777777777778,\"#fb9f3a\"],[0.8888888888888888,\"#fdca26\"],[1.0,\"#f0f921\"]]}],\"surface\":[{\"type\":\"surface\",\"colorbar\":{\"outlinewidth\":0,\"ticks\":\"\"},\"colorscale\":[[0.0,\"#0d0887\"],[0.1111111111111111,\"#46039f\"],[0.2222222222222222,\"#7201a8\"],[0.3333333333333333,\"#9c179e\"],[0.4444444444444444,\"#bd3786\"],[0.5555555555555556,\"#d8576b\"],[0.6666666666666666,\"#ed7953\"],[0.7777777777777778,\"#fb9f3a\"],[0.8888888888888888,\"#fdca26\"],[1.0,\"#f0f921\"]]}],\"mesh3d\":[{\"type\":\"mesh3d\",\"colorbar\":{\"outlinewidth\":0,\"ticks\":\"\"}}],\"scatter\":[{\"fillpattern\":{\"fillmode\":\"overlay\",\"size\":10,\"solidity\":0.2},\"type\":\"scatter\"}],\"parcoords\":[{\"type\":\"parcoords\",\"line\":{\"colorbar\":{\"outlinewidth\":0,\"ticks\":\"\"}}}],\"scatterpolargl\":[{\"type\":\"scatterpolargl\",\"marker\":{\"colorbar\":{\"outlinewidth\":0,\"ticks\":\"\"}}}],\"bar\":[{\"error_x\":{\"color\":\"#2a3f5f\"},\"error_y\":{\"color\":\"#2a3f5f\"},\"marker\":{\"line\":{\"color\":\"#E5ECF6\",\"width\":0.5},\"pattern\":{\"fillmode\":\"overlay\",\"size\":10,\"solidity\":0.2}},\"type\":\"bar\"}],\"scattergeo\":[{\"type\":\"scattergeo\",\"marker\":{\"colorbar\":{\"outlinewidth\":0,\"ticks\":\"\"}}}],\"scatterpolar\":[{\"type\":\"scatterpolar\",\"marker\":{\"colorbar\":{\"outlinewidth\":0,\"ticks\":\"\"}}}],\"histogram\":[{\"marker\":{\"pattern\":{\"fillmode\":\"overlay\",\"size\":10,\"solidity\":0.2}},\"type\":\"histogram\"}],\"scattergl\":[{\"type\":\"scattergl\",\"marker\":{\"colorbar\":{\"outlinewidth\":0,\"ticks\":\"\"}}}],\"scatter3d\":[{\"type\":\"scatter3d\",\"line\":{\"colorbar\":{\"outlinewidth\":0,\"ticks\":\"\"}},\"marker\":{\"colorbar\":{\"outlinewidth\":0,\"ticks\":\"\"}}}],\"scattermapbox\":[{\"type\":\"scattermapbox\",\"marker\":{\"colorbar\":{\"outlinewidth\":0,\"ticks\":\"\"}}}],\"scatterternary\":[{\"type\":\"scatterternary\",\"marker\":{\"colorbar\":{\"outlinewidth\":0,\"ticks\":\"\"}}}],\"scattercarpet\":[{\"type\":\"scattercarpet\",\"marker\":{\"colorbar\":{\"outlinewidth\":0,\"ticks\":\"\"}}}],\"carpet\":[{\"aaxis\":{\"endlinecolor\":\"#2a3f5f\",\"gridcolor\":\"white\",\"linecolor\":\"white\",\"minorgridcolor\":\"white\",\"startlinecolor\":\"#2a3f5f\"},\"baxis\":{\"endlinecolor\":\"#2a3f5f\",\"gridcolor\":\"white\",\"linecolor\":\"white\",\"minorgridcolor\":\"white\",\"startlinecolor\":\"#2a3f5f\"},\"type\":\"carpet\"}],\"table\":[{\"cells\":{\"fill\":{\"color\":\"#EBF0F8\"},\"line\":{\"color\":\"white\"}},\"header\":{\"fill\":{\"color\":\"#C8D4E3\"},\"line\":{\"color\":\"white\"}},\"type\":\"table\"}],\"barpolar\":[{\"marker\":{\"line\":{\"color\":\"#E5ECF6\",\"width\":0.5},\"pattern\":{\"fillmode\":\"overlay\",\"size\":10,\"solidity\":0.2}},\"type\":\"barpolar\"}],\"pie\":[{\"automargin\":true,\"type\":\"pie\"}]},\"layout\":{\"autotypenumbers\":\"strict\",\"colorway\":[\"#636efa\",\"#EF553B\",\"#00cc96\",\"#ab63fa\",\"#FFA15A\",\"#19d3f3\",\"#FF6692\",\"#B6E880\",\"#FF97FF\",\"#FECB52\"],\"font\":{\"color\":\"#2a3f5f\"},\"hovermode\":\"closest\",\"hoverlabel\":{\"align\":\"left\"},\"paper_bgcolor\":\"white\",\"plot_bgcolor\":\"#E5ECF6\",\"polar\":{\"bgcolor\":\"#E5ECF6\",\"angularaxis\":{\"gridcolor\":\"white\",\"linecolor\":\"white\",\"ticks\":\"\"},\"radialaxis\":{\"gridcolor\":\"white\",\"linecolor\":\"white\",\"ticks\":\"\"}},\"ternary\":{\"bgcolor\":\"#E5ECF6\",\"aaxis\":{\"gridcolor\":\"white\",\"linecolor\":\"white\",\"ticks\":\"\"},\"baxis\":{\"gridcolor\":\"white\",\"linecolor\":\"white\",\"ticks\":\"\"},\"caxis\":{\"gridcolor\":\"white\",\"linecolor\":\"white\",\"ticks\":\"\"}},\"coloraxis\":{\"colorbar\":{\"outlinewidth\":0,\"ticks\":\"\"}},\"colorscale\":{\"sequential\":[[0.0,\"#0d0887\"],[0.1111111111111111,\"#46039f\"],[0.2222222222222222,\"#7201a8\"],[0.3333333333333333,\"#9c179e\"],[0.4444444444444444,\"#bd3786\"],[0.5555555555555556,\"#d8576b\"],[0.6666666666666666,\"#ed7953\"],[0.7777777777777778,\"#fb9f3a\"],[0.8888888888888888,\"#fdca26\"],[1.0,\"#f0f921\"]],\"sequentialminus\":[[0.0,\"#0d0887\"],[0.1111111111111111,\"#46039f\"],[0.2222222222222222,\"#7201a8\"],[0.3333333333333333,\"#9c179e\"],[0.4444444444444444,\"#bd3786\"],[0.5555555555555556,\"#d8576b\"],[0.6666666666666666,\"#ed7953\"],[0.7777777777777778,\"#fb9f3a\"],[0.8888888888888888,\"#fdca26\"],[1.0,\"#f0f921\"]],\"diverging\":[[0,\"#8e0152\"],[0.1,\"#c51b7d\"],[0.2,\"#de77ae\"],[0.3,\"#f1b6da\"],[0.4,\"#fde0ef\"],[0.5,\"#f7f7f7\"],[0.6,\"#e6f5d0\"],[0.7,\"#b8e186\"],[0.8,\"#7fbc41\"],[0.9,\"#4d9221\"],[1,\"#276419\"]]},\"xaxis\":{\"gridcolor\":\"white\",\"linecolor\":\"white\",\"ticks\":\"\",\"title\":{\"standoff\":15},\"zerolinecolor\":\"white\",\"automargin\":true,\"zerolinewidth\":2},\"yaxis\":{\"gridcolor\":\"white\",\"linecolor\":\"white\",\"ticks\":\"\",\"title\":{\"standoff\":15},\"zerolinecolor\":\"white\",\"automargin\":true,\"zerolinewidth\":2},\"scene\":{\"xaxis\":{\"backgroundcolor\":\"#E5ECF6\",\"gridcolor\":\"white\",\"linecolor\":\"white\",\"showbackground\":true,\"ticks\":\"\",\"zerolinecolor\":\"white\",\"gridwidth\":2},\"yaxis\":{\"backgroundcolor\":\"#E5ECF6\",\"gridcolor\":\"white\",\"linecolor\":\"white\",\"showbackground\":true,\"ticks\":\"\",\"zerolinecolor\":\"white\",\"gridwidth\":2},\"zaxis\":{\"backgroundcolor\":\"#E5ECF6\",\"gridcolor\":\"white\",\"linecolor\":\"white\",\"showbackground\":true,\"ticks\":\"\",\"zerolinecolor\":\"white\",\"gridwidth\":2}},\"shapedefaults\":{\"line\":{\"color\":\"#2a3f5f\"}},\"annotationdefaults\":{\"arrowcolor\":\"#2a3f5f\",\"arrowhead\":0,\"arrowwidth\":1},\"geo\":{\"bgcolor\":\"white\",\"landcolor\":\"#E5ECF6\",\"subunitcolor\":\"white\",\"showland\":true,\"showlakes\":true,\"lakecolor\":\"white\"},\"title\":{\"x\":0.05},\"mapbox\":{\"style\":\"light\"}}}},                        {\"responsive\": true}                    ).then(function(){\n",
       "                            \n",
       "var gd = document.getElementById('22228f15-da1f-4173-b7db-f53cedc26343');\n",
       "var x = new MutationObserver(function (mutations, observer) {{\n",
       "        var display = window.getComputedStyle(gd).display;\n",
       "        if (!display || display === 'none') {{\n",
       "            console.log([gd, 'removed!']);\n",
       "            Plotly.purge(gd);\n",
       "            observer.disconnect();\n",
       "        }}\n",
       "}});\n",
       "\n",
       "// Listen for the removal of the full notebook cells\n",
       "var notebookContainer = gd.closest('#notebook-container');\n",
       "if (notebookContainer) {{\n",
       "    x.observe(notebookContainer, {childList: true});\n",
       "}}\n",
       "\n",
       "// Listen for the clearing of the current output cell\n",
       "var outputEl = gd.closest('.output');\n",
       "if (outputEl) {{\n",
       "    x.observe(outputEl, {childList: true});\n",
       "}}\n",
       "\n",
       "                        })                };                });            </script>        </div>"
      ]
     },
     "metadata": {},
     "output_type": "display_data"
    }
   ],
   "source": [
    "import plotly.graph_objects as go\n",
    "\n",
    "\n",
    "fig = go.Figure()\n",
    "\n",
    "\n",
    "fig.add_scatter(x=test[\"Date\"], y=test[\"change_percentage\"], mode=\"lines\", name=\"Test Data\", line_color=\"red\")\n",
    "\n",
    "\n",
    "fig.add_scatter(x=test[\"Date\"], y=test[\"pred\"], mode=\"lines\", name=\"Predicted Data\", line_color=\"green\")\n",
    "\n",
    "fig.show()\n"
   ]
  },
  {
   "cell_type": "code",
   "execution_count": 203,
   "id": "4a59a711",
   "metadata": {},
   "outputs": [
    {
     "name": "stdout",
     "output_type": "stream",
     "text": [
      "Mean Absolute Error (MAE): 0.6232293289114569\n",
      "Mean Squared Error (MSE): 0.6122522860312074\n",
      "Root Mean Squared Error (RMSE): 0.7824655174710304\n"
     ]
    }
   ],
   "source": [
    "from sklearn.metrics import mean_absolute_error, mean_squared_error\n",
    "\n",
    "\n",
    "mae = mean_absolute_error(test['change_percentage'], test['pred'])\n",
    "\n",
    "\n",
    "mse = mean_squared_error(test['change_percentage'], test['pred'])\n",
    "\n",
    "\n",
    "rmse = mean_squared_error(test['change_percentage'], test['pred'], squared=False)\n",
    "\n",
    "\n",
    "print(\"Mean Absolute Error (MAE):\", mae)\n",
    "print(\"Mean Squared Error (MSE):\", mse)\n",
    "print(\"Root Mean Squared Error (RMSE):\", rmse)\n"
   ]
  },
  {
   "cell_type": "code",
   "execution_count": 24,
   "id": "41919d18",
   "metadata": {},
   "outputs": [
    {
     "name": "stderr",
     "output_type": "stream",
     "text": [
      "D:\\anaconda\\Lib\\site-packages\\statsmodels\\tsa\\statespace\\sarimax.py:966: UserWarning:\n",
      "\n",
      "Non-stationary starting autoregressive parameters found. Using zeros as starting parameters.\n",
      "\n"
     ]
    },
    {
     "name": "stdout",
     "output_type": "stream",
     "text": [
      "                                      SARIMAX Results                                       \n",
      "============================================================================================\n",
      "Dep. Variable:                               Change   No. Observations:                  284\n",
      "Model:             SARIMAX(2, 2, 2)x(0, 1, [1], 12)   Log Likelihood                -693.480\n",
      "Date:                              Mon, 06 May 2024   AIC                           1402.961\n",
      "Time:                                      14:14:28   BIC                           1431.748\n",
      "Sample:                                           0   HQIC                          1414.520\n",
      "                                              - 284                                         \n",
      "Covariance Type:                                opg                                         \n",
      "==============================================================================\n",
      "                 coef    std err          z      P>|z|      [0.025      0.975]\n",
      "------------------------------------------------------------------------------\n",
      "INV_SENT      -0.6312      0.411     -1.536      0.124      -1.437       0.174\n",
      "EGX_SENT      -0.0106        nan        nan        nan         nan         nan\n",
      "ar.L1          0.0047      0.915      0.005      0.996      -1.789       1.799\n",
      "ar.L2          0.0079      0.932      0.009      0.993      -1.818       1.834\n",
      "ma.L1          1.2307     13.868      0.089      0.929     -25.950      28.411\n",
      "ma.L2         -7.6199     60.251     -0.126      0.899    -125.709     110.470\n",
      "ma.S.L12      -0.9219      0.064    -14.458      0.000      -1.047      -0.797\n",
      "sigma2         0.1502      2.372      0.063      0.950      -4.499       4.800\n",
      "===================================================================================\n",
      "Ljung-Box (L1) (Q):                 124.11   Jarque-Bera (JB):                 4.66\n",
      "Prob(Q):                              0.00   Prob(JB):                         0.10\n",
      "Heteroskedasticity (H):               1.81   Skew:                            -0.13\n",
      "Prob(H) (two-sided):                  0.01   Kurtosis:                         3.59\n",
      "===================================================================================\n",
      "\n",
      "Warnings:\n",
      "[1] Covariance matrix calculated using the outer product of gradients (complex-step).\n",
      "[2] Covariance matrix is singular or near-singular, with condition number  3e+20. Standard errors may be unstable.\n",
      "Model has not converged\n"
     ]
    },
    {
     "name": "stderr",
     "output_type": "stream",
     "text": [
      "D:\\anaconda\\Lib\\site-packages\\statsmodels\\base\\model.py:607: ConvergenceWarning:\n",
      "\n",
      "Maximum Likelihood optimization failed to converge. Check mle_retvals\n",
      "\n"
     ]
    }
   ],
   "source": [
    "from statsmodels.tsa.statespace.sarimax import SARIMAX\n",
    "# Grid search\n",
    "# Adjusting model parameters and fitting options \n",
    "p, d, q = 2, 2, 2\n",
    "P, D, Q, s = 0, 1, 0, 12 \n",
    "\n",
    "try:\n",
    "    model = SARIMAX(train['Change'],\n",
    "                    exog=train[exog_vars],\n",
    "                    order=(p, d, q),\n",
    "                    seasonal_order=(P, D, Q, s),\n",
    "                    enforce_stationarity=True,\n",
    "                    enforce_invertibility=False)\n",
    "    results = model.fit(maxiter=200, method='nm', disp=False)  #  fitting method and iterations\n",
    "    print(results.summary())\n",
    "except Exception as e:\n",
    "    print(\"Model fitting failed:\", e)\n",
    "\n",
    "\n",
    "if not results.mle_retvals['converged']:\n",
    "    print(\"Model has not converged\")\n",
    "else:\n",
    "    print(\"Model converged successfully\")\n"
   ]
  }
 ],
 "metadata": {
  "kernelspec": {
   "display_name": "Python 3 (ipykernel)",
   "language": "python",
   "name": "python3"
  },
  "language_info": {
   "codemirror_mode": {
    "name": "ipython",
    "version": 3
   },
   "file_extension": ".py",
   "mimetype": "text/x-python",
   "name": "python",
   "nbconvert_exporter": "python",
   "pygments_lexer": "ipython3",
   "version": "3.11.5"
  }
 },
 "nbformat": 4,
 "nbformat_minor": 5
}
